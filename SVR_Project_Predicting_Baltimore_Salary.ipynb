{
  "nbformat": 4,
  "nbformat_minor": 0,
  "metadata": {
    "colab": {
      "provenance": [],
      "authorship_tag": "ABX9TyMSYwenL+AGt1FwDrEI0FH8",
      "include_colab_link": true
    },
    "kernelspec": {
      "name": "python3",
      "display_name": "Python 3"
    },
    "language_info": {
      "name": "python"
    }
  },
  "cells": [
    {
      "cell_type": "markdown",
      "metadata": {
        "id": "view-in-github",
        "colab_type": "text"
      },
      "source": [
        "<a href=\"https://colab.research.google.com/github/GitAd7/Machine-Learning/blob/main/SVR_Project_Predicting_Baltimore_Salary.ipynb\" target=\"_parent\"><img src=\"https://colab.research.google.com/assets/colab-badge.svg\" alt=\"Open In Colab\"/></a>"
      ]
    },
    {
      "cell_type": "markdown",
      "source": [
        "# Import Libraries"
      ],
      "metadata": {
        "id": "JQFZAN8_E6ch"
      }
    },
    {
      "cell_type": "code",
      "execution_count": 1,
      "metadata": {
        "id": "DfyTbLS6DU9-"
      },
      "outputs": [],
      "source": [
        "import numpy as np\n",
        "import pandas as pd\n",
        "import matplotlib.pyplot as plt\n",
        "import seaborn as sns\n",
        "import re\n",
        "from sklearn.preprocessing import StandardScaler\n",
        "from sklearn.svm import SVR\n",
        "from sklearn.metrics import r2_score, mean_squared_error, mean_absolute_error\n",
        "from sklearn.model_selection import train_test_split"
      ]
    },
    {
      "cell_type": "markdown",
      "source": [
        "# Problem Statement\n",
        "Given a dataset which captures the salary from July 1st, 2013 through June 30th 2014. It includes only those employess who are employed on June 30 2014. Predict the salary of Employess Working in Baltimore."
      ],
      "metadata": {
        "id": "9dQOTeH1PLfJ"
      }
    },
    {
      "cell_type": "markdown",
      "source": [
        "# Importing the Dataset"
      ],
      "metadata": {
        "id": "03t1omH6KSx9"
      }
    },
    {
      "cell_type": "code",
      "source": [
        "df = pd.read_csv('https://raw.githubusercontent.com/Lochana24/Baltimore-Salary-Prediction/main/train.csv')"
      ],
      "metadata": {
        "id": "ZsDG1a0KDeY_"
      },
      "execution_count": 2,
      "outputs": []
    },
    {
      "cell_type": "code",
      "source": [
        "df.head()"
      ],
      "metadata": {
        "colab": {
          "base_uri": "https://localhost:8080/",
          "height": 206
        },
        "id": "EShX1OjcDecW",
        "outputId": "018c99b0-3770-4d35-b46d-26f77aa3a384"
      },
      "execution_count": 3,
      "outputs": [
        {
          "output_type": "execute_result",
          "data": {
            "text/plain": [
              "                 Name                       JobTitle AgencyID  \\\n",
              "0     Aaron,Keontae E                 AIDE BLUE CHIP   W02200   \n",
              "1    Aaron,Patricia G  Facilities/Office Services II   A03031   \n",
              "2       Aaron,Petra L     ASSISTANT STATE'S ATTORNEY   A29005   \n",
              "3  Abaineh,Yohannes T                 EPIDEMIOLOGIST   A65026   \n",
              "4    Abbene,Anthony M         POLICE OFFICER TRAINEE   A99416   \n",
              "\n",
              "                     Agency    HireDate AnnualSalary   GrossPay  \n",
              "0            Youth Summer    06/10/2013    $11310.00    $873.63  \n",
              "1       OED-Employment Dev   10/24/1979    $53428.00  $52868.38  \n",
              "2  States Attorneys Office   09/25/2006    $68300.00  $67439.19  \n",
              "3   HLTH-Health Department   07/23/2009    $62000.00  $58654.74  \n",
              "4        Police Department   07/24/2013    $43999.00  $39686.95  "
            ],
            "text/html": [
              "\n",
              "  <div id=\"df-d9bf72fd-d781-46bc-95ca-dcf1b2fe9166\">\n",
              "    <div class=\"colab-df-container\">\n",
              "      <div>\n",
              "<style scoped>\n",
              "    .dataframe tbody tr th:only-of-type {\n",
              "        vertical-align: middle;\n",
              "    }\n",
              "\n",
              "    .dataframe tbody tr th {\n",
              "        vertical-align: top;\n",
              "    }\n",
              "\n",
              "    .dataframe thead th {\n",
              "        text-align: right;\n",
              "    }\n",
              "</style>\n",
              "<table border=\"1\" class=\"dataframe\">\n",
              "  <thead>\n",
              "    <tr style=\"text-align: right;\">\n",
              "      <th></th>\n",
              "      <th>Name</th>\n",
              "      <th>JobTitle</th>\n",
              "      <th>AgencyID</th>\n",
              "      <th>Agency</th>\n",
              "      <th>HireDate</th>\n",
              "      <th>AnnualSalary</th>\n",
              "      <th>GrossPay</th>\n",
              "    </tr>\n",
              "  </thead>\n",
              "  <tbody>\n",
              "    <tr>\n",
              "      <th>0</th>\n",
              "      <td>Aaron,Keontae E</td>\n",
              "      <td>AIDE BLUE CHIP</td>\n",
              "      <td>W02200</td>\n",
              "      <td>Youth Summer</td>\n",
              "      <td>06/10/2013</td>\n",
              "      <td>$11310.00</td>\n",
              "      <td>$873.63</td>\n",
              "    </tr>\n",
              "    <tr>\n",
              "      <th>1</th>\n",
              "      <td>Aaron,Patricia G</td>\n",
              "      <td>Facilities/Office Services II</td>\n",
              "      <td>A03031</td>\n",
              "      <td>OED-Employment Dev</td>\n",
              "      <td>10/24/1979</td>\n",
              "      <td>$53428.00</td>\n",
              "      <td>$52868.38</td>\n",
              "    </tr>\n",
              "    <tr>\n",
              "      <th>2</th>\n",
              "      <td>Aaron,Petra L</td>\n",
              "      <td>ASSISTANT STATE'S ATTORNEY</td>\n",
              "      <td>A29005</td>\n",
              "      <td>States Attorneys Office</td>\n",
              "      <td>09/25/2006</td>\n",
              "      <td>$68300.00</td>\n",
              "      <td>$67439.19</td>\n",
              "    </tr>\n",
              "    <tr>\n",
              "      <th>3</th>\n",
              "      <td>Abaineh,Yohannes T</td>\n",
              "      <td>EPIDEMIOLOGIST</td>\n",
              "      <td>A65026</td>\n",
              "      <td>HLTH-Health Department</td>\n",
              "      <td>07/23/2009</td>\n",
              "      <td>$62000.00</td>\n",
              "      <td>$58654.74</td>\n",
              "    </tr>\n",
              "    <tr>\n",
              "      <th>4</th>\n",
              "      <td>Abbene,Anthony M</td>\n",
              "      <td>POLICE OFFICER TRAINEE</td>\n",
              "      <td>A99416</td>\n",
              "      <td>Police Department</td>\n",
              "      <td>07/24/2013</td>\n",
              "      <td>$43999.00</td>\n",
              "      <td>$39686.95</td>\n",
              "    </tr>\n",
              "  </tbody>\n",
              "</table>\n",
              "</div>\n",
              "      <button class=\"colab-df-convert\" onclick=\"convertToInteractive('df-d9bf72fd-d781-46bc-95ca-dcf1b2fe9166')\"\n",
              "              title=\"Convert this dataframe to an interactive table.\"\n",
              "              style=\"display:none;\">\n",
              "        \n",
              "  <svg xmlns=\"http://www.w3.org/2000/svg\" height=\"24px\"viewBox=\"0 0 24 24\"\n",
              "       width=\"24px\">\n",
              "    <path d=\"M0 0h24v24H0V0z\" fill=\"none\"/>\n",
              "    <path d=\"M18.56 5.44l.94 2.06.94-2.06 2.06-.94-2.06-.94-.94-2.06-.94 2.06-2.06.94zm-11 1L8.5 8.5l.94-2.06 2.06-.94-2.06-.94L8.5 2.5l-.94 2.06-2.06.94zm10 10l.94 2.06.94-2.06 2.06-.94-2.06-.94-.94-2.06-.94 2.06-2.06.94z\"/><path d=\"M17.41 7.96l-1.37-1.37c-.4-.4-.92-.59-1.43-.59-.52 0-1.04.2-1.43.59L10.3 9.45l-7.72 7.72c-.78.78-.78 2.05 0 2.83L4 21.41c.39.39.9.59 1.41.59.51 0 1.02-.2 1.41-.59l7.78-7.78 2.81-2.81c.8-.78.8-2.07 0-2.86zM5.41 20L4 18.59l7.72-7.72 1.47 1.35L5.41 20z\"/>\n",
              "  </svg>\n",
              "      </button>\n",
              "      \n",
              "  <style>\n",
              "    .colab-df-container {\n",
              "      display:flex;\n",
              "      flex-wrap:wrap;\n",
              "      gap: 12px;\n",
              "    }\n",
              "\n",
              "    .colab-df-convert {\n",
              "      background-color: #E8F0FE;\n",
              "      border: none;\n",
              "      border-radius: 50%;\n",
              "      cursor: pointer;\n",
              "      display: none;\n",
              "      fill: #1967D2;\n",
              "      height: 32px;\n",
              "      padding: 0 0 0 0;\n",
              "      width: 32px;\n",
              "    }\n",
              "\n",
              "    .colab-df-convert:hover {\n",
              "      background-color: #E2EBFA;\n",
              "      box-shadow: 0px 1px 2px rgba(60, 64, 67, 0.3), 0px 1px 3px 1px rgba(60, 64, 67, 0.15);\n",
              "      fill: #174EA6;\n",
              "    }\n",
              "\n",
              "    [theme=dark] .colab-df-convert {\n",
              "      background-color: #3B4455;\n",
              "      fill: #D2E3FC;\n",
              "    }\n",
              "\n",
              "    [theme=dark] .colab-df-convert:hover {\n",
              "      background-color: #434B5C;\n",
              "      box-shadow: 0px 1px 3px 1px rgba(0, 0, 0, 0.15);\n",
              "      filter: drop-shadow(0px 1px 2px rgba(0, 0, 0, 0.3));\n",
              "      fill: #FFFFFF;\n",
              "    }\n",
              "  </style>\n",
              "\n",
              "      <script>\n",
              "        const buttonEl =\n",
              "          document.querySelector('#df-d9bf72fd-d781-46bc-95ca-dcf1b2fe9166 button.colab-df-convert');\n",
              "        buttonEl.style.display =\n",
              "          google.colab.kernel.accessAllowed ? 'block' : 'none';\n",
              "\n",
              "        async function convertToInteractive(key) {\n",
              "          const element = document.querySelector('#df-d9bf72fd-d781-46bc-95ca-dcf1b2fe9166');\n",
              "          const dataTable =\n",
              "            await google.colab.kernel.invokeFunction('convertToInteractive',\n",
              "                                                     [key], {});\n",
              "          if (!dataTable) return;\n",
              "\n",
              "          const docLinkHtml = 'Like what you see? Visit the ' +\n",
              "            '<a target=\"_blank\" href=https://colab.research.google.com/notebooks/data_table.ipynb>data table notebook</a>'\n",
              "            + ' to learn more about interactive tables.';\n",
              "          element.innerHTML = '';\n",
              "          dataTable['output_type'] = 'display_data';\n",
              "          await google.colab.output.renderOutput(dataTable, element);\n",
              "          const docLink = document.createElement('div');\n",
              "          docLink.innerHTML = docLinkHtml;\n",
              "          element.appendChild(docLink);\n",
              "        }\n",
              "      </script>\n",
              "    </div>\n",
              "  </div>\n",
              "  "
            ]
          },
          "metadata": {},
          "execution_count": 3
        }
      ]
    },
    {
      "cell_type": "code",
      "source": [
        "df.tail()"
      ],
      "metadata": {
        "colab": {
          "base_uri": "https://localhost:8080/",
          "height": 206
        },
        "id": "POSSbbkoDemG",
        "outputId": "45da8d9b-88df-4b31-e395-e191522f1ccc"
      },
      "execution_count": 4,
      "outputs": [
        {
          "output_type": "execute_result",
          "data": {
            "text/plain": [
              "                       Name                      JobTitle AgencyID  \\\n",
              "18976  Zotamou,Jean Marie D                AIDE BLUE CHIP   W02235   \n",
              "18977       Zotamou,Pivot D                AIDE BLUE CHIP   W02629   \n",
              "18978  Zovistoski,Zachary D        POLICE OFFICER TRAINEE   A99416   \n",
              "18979     Zubyk,Stanislav T                POLICE OFFICER   A99262   \n",
              "18980    Zukowski,Charles J  Waste Water Tech Supv I Pump   A50206   \n",
              "\n",
              "                         Agency    HireDate AnnualSalary   GrossPay  \n",
              "18976            Youth Summer    05/21/2014    $11310.00        NaN  \n",
              "18977             Youth Summer   05/21/2014    $11310.00        NaN  \n",
              "18978        Police Department   12/17/2013    $43999.00  $21070.03  \n",
              "18979        Police Department   01/23/2013    $44104.00  $48608.12  \n",
              "18980  DPW-Water & Waste Water   10/15/1979    $53568.00  $52164.32  "
            ],
            "text/html": [
              "\n",
              "  <div id=\"df-95cfefd4-74fc-43c7-b734-a2e241a70656\">\n",
              "    <div class=\"colab-df-container\">\n",
              "      <div>\n",
              "<style scoped>\n",
              "    .dataframe tbody tr th:only-of-type {\n",
              "        vertical-align: middle;\n",
              "    }\n",
              "\n",
              "    .dataframe tbody tr th {\n",
              "        vertical-align: top;\n",
              "    }\n",
              "\n",
              "    .dataframe thead th {\n",
              "        text-align: right;\n",
              "    }\n",
              "</style>\n",
              "<table border=\"1\" class=\"dataframe\">\n",
              "  <thead>\n",
              "    <tr style=\"text-align: right;\">\n",
              "      <th></th>\n",
              "      <th>Name</th>\n",
              "      <th>JobTitle</th>\n",
              "      <th>AgencyID</th>\n",
              "      <th>Agency</th>\n",
              "      <th>HireDate</th>\n",
              "      <th>AnnualSalary</th>\n",
              "      <th>GrossPay</th>\n",
              "    </tr>\n",
              "  </thead>\n",
              "  <tbody>\n",
              "    <tr>\n",
              "      <th>18976</th>\n",
              "      <td>Zotamou,Jean Marie D</td>\n",
              "      <td>AIDE BLUE CHIP</td>\n",
              "      <td>W02235</td>\n",
              "      <td>Youth Summer</td>\n",
              "      <td>05/21/2014</td>\n",
              "      <td>$11310.00</td>\n",
              "      <td>NaN</td>\n",
              "    </tr>\n",
              "    <tr>\n",
              "      <th>18977</th>\n",
              "      <td>Zotamou,Pivot D</td>\n",
              "      <td>AIDE BLUE CHIP</td>\n",
              "      <td>W02629</td>\n",
              "      <td>Youth Summer</td>\n",
              "      <td>05/21/2014</td>\n",
              "      <td>$11310.00</td>\n",
              "      <td>NaN</td>\n",
              "    </tr>\n",
              "    <tr>\n",
              "      <th>18978</th>\n",
              "      <td>Zovistoski,Zachary D</td>\n",
              "      <td>POLICE OFFICER TRAINEE</td>\n",
              "      <td>A99416</td>\n",
              "      <td>Police Department</td>\n",
              "      <td>12/17/2013</td>\n",
              "      <td>$43999.00</td>\n",
              "      <td>$21070.03</td>\n",
              "    </tr>\n",
              "    <tr>\n",
              "      <th>18979</th>\n",
              "      <td>Zubyk,Stanislav T</td>\n",
              "      <td>POLICE OFFICER</td>\n",
              "      <td>A99262</td>\n",
              "      <td>Police Department</td>\n",
              "      <td>01/23/2013</td>\n",
              "      <td>$44104.00</td>\n",
              "      <td>$48608.12</td>\n",
              "    </tr>\n",
              "    <tr>\n",
              "      <th>18980</th>\n",
              "      <td>Zukowski,Charles J</td>\n",
              "      <td>Waste Water Tech Supv I Pump</td>\n",
              "      <td>A50206</td>\n",
              "      <td>DPW-Water &amp; Waste Water</td>\n",
              "      <td>10/15/1979</td>\n",
              "      <td>$53568.00</td>\n",
              "      <td>$52164.32</td>\n",
              "    </tr>\n",
              "  </tbody>\n",
              "</table>\n",
              "</div>\n",
              "      <button class=\"colab-df-convert\" onclick=\"convertToInteractive('df-95cfefd4-74fc-43c7-b734-a2e241a70656')\"\n",
              "              title=\"Convert this dataframe to an interactive table.\"\n",
              "              style=\"display:none;\">\n",
              "        \n",
              "  <svg xmlns=\"http://www.w3.org/2000/svg\" height=\"24px\"viewBox=\"0 0 24 24\"\n",
              "       width=\"24px\">\n",
              "    <path d=\"M0 0h24v24H0V0z\" fill=\"none\"/>\n",
              "    <path d=\"M18.56 5.44l.94 2.06.94-2.06 2.06-.94-2.06-.94-.94-2.06-.94 2.06-2.06.94zm-11 1L8.5 8.5l.94-2.06 2.06-.94-2.06-.94L8.5 2.5l-.94 2.06-2.06.94zm10 10l.94 2.06.94-2.06 2.06-.94-2.06-.94-.94-2.06-.94 2.06-2.06.94z\"/><path d=\"M17.41 7.96l-1.37-1.37c-.4-.4-.92-.59-1.43-.59-.52 0-1.04.2-1.43.59L10.3 9.45l-7.72 7.72c-.78.78-.78 2.05 0 2.83L4 21.41c.39.39.9.59 1.41.59.51 0 1.02-.2 1.41-.59l7.78-7.78 2.81-2.81c.8-.78.8-2.07 0-2.86zM5.41 20L4 18.59l7.72-7.72 1.47 1.35L5.41 20z\"/>\n",
              "  </svg>\n",
              "      </button>\n",
              "      \n",
              "  <style>\n",
              "    .colab-df-container {\n",
              "      display:flex;\n",
              "      flex-wrap:wrap;\n",
              "      gap: 12px;\n",
              "    }\n",
              "\n",
              "    .colab-df-convert {\n",
              "      background-color: #E8F0FE;\n",
              "      border: none;\n",
              "      border-radius: 50%;\n",
              "      cursor: pointer;\n",
              "      display: none;\n",
              "      fill: #1967D2;\n",
              "      height: 32px;\n",
              "      padding: 0 0 0 0;\n",
              "      width: 32px;\n",
              "    }\n",
              "\n",
              "    .colab-df-convert:hover {\n",
              "      background-color: #E2EBFA;\n",
              "      box-shadow: 0px 1px 2px rgba(60, 64, 67, 0.3), 0px 1px 3px 1px rgba(60, 64, 67, 0.15);\n",
              "      fill: #174EA6;\n",
              "    }\n",
              "\n",
              "    [theme=dark] .colab-df-convert {\n",
              "      background-color: #3B4455;\n",
              "      fill: #D2E3FC;\n",
              "    }\n",
              "\n",
              "    [theme=dark] .colab-df-convert:hover {\n",
              "      background-color: #434B5C;\n",
              "      box-shadow: 0px 1px 3px 1px rgba(0, 0, 0, 0.15);\n",
              "      filter: drop-shadow(0px 1px 2px rgba(0, 0, 0, 0.3));\n",
              "      fill: #FFFFFF;\n",
              "    }\n",
              "  </style>\n",
              "\n",
              "      <script>\n",
              "        const buttonEl =\n",
              "          document.querySelector('#df-95cfefd4-74fc-43c7-b734-a2e241a70656 button.colab-df-convert');\n",
              "        buttonEl.style.display =\n",
              "          google.colab.kernel.accessAllowed ? 'block' : 'none';\n",
              "\n",
              "        async function convertToInteractive(key) {\n",
              "          const element = document.querySelector('#df-95cfefd4-74fc-43c7-b734-a2e241a70656');\n",
              "          const dataTable =\n",
              "            await google.colab.kernel.invokeFunction('convertToInteractive',\n",
              "                                                     [key], {});\n",
              "          if (!dataTable) return;\n",
              "\n",
              "          const docLinkHtml = 'Like what you see? Visit the ' +\n",
              "            '<a target=\"_blank\" href=https://colab.research.google.com/notebooks/data_table.ipynb>data table notebook</a>'\n",
              "            + ' to learn more about interactive tables.';\n",
              "          element.innerHTML = '';\n",
              "          dataTable['output_type'] = 'display_data';\n",
              "          await google.colab.output.renderOutput(dataTable, element);\n",
              "          const docLink = document.createElement('div');\n",
              "          docLink.innerHTML = docLinkHtml;\n",
              "          element.appendChild(docLink);\n",
              "        }\n",
              "      </script>\n",
              "    </div>\n",
              "  </div>\n",
              "  "
            ]
          },
          "metadata": {},
          "execution_count": 4
        }
      ]
    },
    {
      "cell_type": "code",
      "source": [
        "df.shape"
      ],
      "metadata": {
        "colab": {
          "base_uri": "https://localhost:8080/"
        },
        "id": "-jdVJN2dDepe",
        "outputId": "3c2c5409-88ad-4bc8-f871-2a44a2cbd6bb"
      },
      "execution_count": 5,
      "outputs": [
        {
          "output_type": "execute_result",
          "data": {
            "text/plain": [
              "(18981, 7)"
            ]
          },
          "metadata": {},
          "execution_count": 5
        }
      ]
    },
    {
      "cell_type": "code",
      "source": [
        "df.info()"
      ],
      "metadata": {
        "colab": {
          "base_uri": "https://localhost:8080/"
        },
        "id": "A-9AW2p2Desv",
        "outputId": "aa1e48b7-f7a6-49b2-cc00-f3ecbf624d16"
      },
      "execution_count": 6,
      "outputs": [
        {
          "output_type": "stream",
          "name": "stdout",
          "text": [
            "<class 'pandas.core.frame.DataFrame'>\n",
            "RangeIndex: 18981 entries, 0 to 18980\n",
            "Data columns (total 7 columns):\n",
            " #   Column        Non-Null Count  Dtype \n",
            "---  ------        --------------  ----- \n",
            " 0    Name         18981 non-null  object\n",
            " 1   JobTitle      18981 non-null  object\n",
            " 2   AgencyID      18981 non-null  object\n",
            " 3   Agency        18981 non-null  object\n",
            " 4   HireDate      18911 non-null  object\n",
            " 5   AnnualSalary  18981 non-null  object\n",
            " 6   GrossPay      15758 non-null  object\n",
            "dtypes: object(7)\n",
            "memory usage: 1.0+ MB\n"
          ]
        }
      ]
    },
    {
      "cell_type": "code",
      "source": [
        "df.describe()"
      ],
      "metadata": {
        "colab": {
          "base_uri": "https://localhost:8080/",
          "height": 174
        },
        "id": "TNIMbma1DewX",
        "outputId": "5f33ff18-56f9-49f5-ed03-26c4ebc2a75b"
      },
      "execution_count": 7,
      "outputs": [
        {
          "output_type": "execute_result",
          "data": {
            "text/plain": [
              "                  Name        JobTitle AgencyID          Agency    HireDate  \\\n",
              "count            18981           18981    18981           18981       18911   \n",
              "unique           18788            1075     1177              65        4737   \n",
              "top     Battle,Daron J  AIDE BLUE CHIP   P04001  Youth Summer    05/21/2014   \n",
              "freq                 2            4817      316            4323        1478   \n",
              "\n",
              "       AnnualSalary  GrossPay  \n",
              "count         18981     15758  \n",
              "unique         1590     13732  \n",
              "top       $11310.00  $1051.25  \n",
              "freq           4811       848  "
            ],
            "text/html": [
              "\n",
              "  <div id=\"df-1c5f7d89-cfe3-4331-ac86-7f3caca97dd7\">\n",
              "    <div class=\"colab-df-container\">\n",
              "      <div>\n",
              "<style scoped>\n",
              "    .dataframe tbody tr th:only-of-type {\n",
              "        vertical-align: middle;\n",
              "    }\n",
              "\n",
              "    .dataframe tbody tr th {\n",
              "        vertical-align: top;\n",
              "    }\n",
              "\n",
              "    .dataframe thead th {\n",
              "        text-align: right;\n",
              "    }\n",
              "</style>\n",
              "<table border=\"1\" class=\"dataframe\">\n",
              "  <thead>\n",
              "    <tr style=\"text-align: right;\">\n",
              "      <th></th>\n",
              "      <th>Name</th>\n",
              "      <th>JobTitle</th>\n",
              "      <th>AgencyID</th>\n",
              "      <th>Agency</th>\n",
              "      <th>HireDate</th>\n",
              "      <th>AnnualSalary</th>\n",
              "      <th>GrossPay</th>\n",
              "    </tr>\n",
              "  </thead>\n",
              "  <tbody>\n",
              "    <tr>\n",
              "      <th>count</th>\n",
              "      <td>18981</td>\n",
              "      <td>18981</td>\n",
              "      <td>18981</td>\n",
              "      <td>18981</td>\n",
              "      <td>18911</td>\n",
              "      <td>18981</td>\n",
              "      <td>15758</td>\n",
              "    </tr>\n",
              "    <tr>\n",
              "      <th>unique</th>\n",
              "      <td>18788</td>\n",
              "      <td>1075</td>\n",
              "      <td>1177</td>\n",
              "      <td>65</td>\n",
              "      <td>4737</td>\n",
              "      <td>1590</td>\n",
              "      <td>13732</td>\n",
              "    </tr>\n",
              "    <tr>\n",
              "      <th>top</th>\n",
              "      <td>Battle,Daron J</td>\n",
              "      <td>AIDE BLUE CHIP</td>\n",
              "      <td>P04001</td>\n",
              "      <td>Youth Summer</td>\n",
              "      <td>05/21/2014</td>\n",
              "      <td>$11310.00</td>\n",
              "      <td>$1051.25</td>\n",
              "    </tr>\n",
              "    <tr>\n",
              "      <th>freq</th>\n",
              "      <td>2</td>\n",
              "      <td>4817</td>\n",
              "      <td>316</td>\n",
              "      <td>4323</td>\n",
              "      <td>1478</td>\n",
              "      <td>4811</td>\n",
              "      <td>848</td>\n",
              "    </tr>\n",
              "  </tbody>\n",
              "</table>\n",
              "</div>\n",
              "      <button class=\"colab-df-convert\" onclick=\"convertToInteractive('df-1c5f7d89-cfe3-4331-ac86-7f3caca97dd7')\"\n",
              "              title=\"Convert this dataframe to an interactive table.\"\n",
              "              style=\"display:none;\">\n",
              "        \n",
              "  <svg xmlns=\"http://www.w3.org/2000/svg\" height=\"24px\"viewBox=\"0 0 24 24\"\n",
              "       width=\"24px\">\n",
              "    <path d=\"M0 0h24v24H0V0z\" fill=\"none\"/>\n",
              "    <path d=\"M18.56 5.44l.94 2.06.94-2.06 2.06-.94-2.06-.94-.94-2.06-.94 2.06-2.06.94zm-11 1L8.5 8.5l.94-2.06 2.06-.94-2.06-.94L8.5 2.5l-.94 2.06-2.06.94zm10 10l.94 2.06.94-2.06 2.06-.94-2.06-.94-.94-2.06-.94 2.06-2.06.94z\"/><path d=\"M17.41 7.96l-1.37-1.37c-.4-.4-.92-.59-1.43-.59-.52 0-1.04.2-1.43.59L10.3 9.45l-7.72 7.72c-.78.78-.78 2.05 0 2.83L4 21.41c.39.39.9.59 1.41.59.51 0 1.02-.2 1.41-.59l7.78-7.78 2.81-2.81c.8-.78.8-2.07 0-2.86zM5.41 20L4 18.59l7.72-7.72 1.47 1.35L5.41 20z\"/>\n",
              "  </svg>\n",
              "      </button>\n",
              "      \n",
              "  <style>\n",
              "    .colab-df-container {\n",
              "      display:flex;\n",
              "      flex-wrap:wrap;\n",
              "      gap: 12px;\n",
              "    }\n",
              "\n",
              "    .colab-df-convert {\n",
              "      background-color: #E8F0FE;\n",
              "      border: none;\n",
              "      border-radius: 50%;\n",
              "      cursor: pointer;\n",
              "      display: none;\n",
              "      fill: #1967D2;\n",
              "      height: 32px;\n",
              "      padding: 0 0 0 0;\n",
              "      width: 32px;\n",
              "    }\n",
              "\n",
              "    .colab-df-convert:hover {\n",
              "      background-color: #E2EBFA;\n",
              "      box-shadow: 0px 1px 2px rgba(60, 64, 67, 0.3), 0px 1px 3px 1px rgba(60, 64, 67, 0.15);\n",
              "      fill: #174EA6;\n",
              "    }\n",
              "\n",
              "    [theme=dark] .colab-df-convert {\n",
              "      background-color: #3B4455;\n",
              "      fill: #D2E3FC;\n",
              "    }\n",
              "\n",
              "    [theme=dark] .colab-df-convert:hover {\n",
              "      background-color: #434B5C;\n",
              "      box-shadow: 0px 1px 3px 1px rgba(0, 0, 0, 0.15);\n",
              "      filter: drop-shadow(0px 1px 2px rgba(0, 0, 0, 0.3));\n",
              "      fill: #FFFFFF;\n",
              "    }\n",
              "  </style>\n",
              "\n",
              "      <script>\n",
              "        const buttonEl =\n",
              "          document.querySelector('#df-1c5f7d89-cfe3-4331-ac86-7f3caca97dd7 button.colab-df-convert');\n",
              "        buttonEl.style.display =\n",
              "          google.colab.kernel.accessAllowed ? 'block' : 'none';\n",
              "\n",
              "        async function convertToInteractive(key) {\n",
              "          const element = document.querySelector('#df-1c5f7d89-cfe3-4331-ac86-7f3caca97dd7');\n",
              "          const dataTable =\n",
              "            await google.colab.kernel.invokeFunction('convertToInteractive',\n",
              "                                                     [key], {});\n",
              "          if (!dataTable) return;\n",
              "\n",
              "          const docLinkHtml = 'Like what you see? Visit the ' +\n",
              "            '<a target=\"_blank\" href=https://colab.research.google.com/notebooks/data_table.ipynb>data table notebook</a>'\n",
              "            + ' to learn more about interactive tables.';\n",
              "          element.innerHTML = '';\n",
              "          dataTable['output_type'] = 'display_data';\n",
              "          await google.colab.output.renderOutput(dataTable, element);\n",
              "          const docLink = document.createElement('div');\n",
              "          docLink.innerHTML = docLinkHtml;\n",
              "          element.appendChild(docLink);\n",
              "        }\n",
              "      </script>\n",
              "    </div>\n",
              "  </div>\n",
              "  "
            ]
          },
          "metadata": {},
          "execution_count": 7
        }
      ]
    },
    {
      "cell_type": "code",
      "source": [
        "df.columns"
      ],
      "metadata": {
        "colab": {
          "base_uri": "https://localhost:8080/"
        },
        "id": "PDK_IYLNDezp",
        "outputId": "5e775dfd-e475-487e-e078-2c2d3f3a94c1"
      },
      "execution_count": 8,
      "outputs": [
        {
          "output_type": "execute_result",
          "data": {
            "text/plain": [
              "Index([' Name', 'JobTitle', 'AgencyID', 'Agency', 'HireDate', 'AnnualSalary',\n",
              "       'GrossPay'],\n",
              "      dtype='object')"
            ]
          },
          "metadata": {},
          "execution_count": 8
        }
      ]
    },
    {
      "cell_type": "code",
      "source": [
        "df.isnull().sum()"
      ],
      "metadata": {
        "colab": {
          "base_uri": "https://localhost:8080/"
        },
        "id": "65t8Q_rvD4_J",
        "outputId": "0d22c0a9-5174-4dd9-df8c-7c0436edae22"
      },
      "execution_count": 9,
      "outputs": [
        {
          "output_type": "execute_result",
          "data": {
            "text/plain": [
              " Name              0\n",
              "JobTitle           0\n",
              "AgencyID           0\n",
              "Agency             0\n",
              "HireDate          70\n",
              "AnnualSalary       0\n",
              "GrossPay        3223\n",
              "dtype: int64"
            ]
          },
          "metadata": {},
          "execution_count": 9
        }
      ]
    },
    {
      "cell_type": "code",
      "source": [
        "# Removing 70 values of Hiredate \n",
        "df=df.dropna(subset=['HireDate'])\n",
        "df.isnull().sum()"
      ],
      "metadata": {
        "colab": {
          "base_uri": "https://localhost:8080/"
        },
        "id": "HljzZXZ6D8Z1",
        "outputId": "b7b18295-db88-4e85-df16-7f24680ca522"
      },
      "execution_count": 10,
      "outputs": [
        {
          "output_type": "execute_result",
          "data": {
            "text/plain": [
              " Name              0\n",
              "JobTitle           0\n",
              "AgencyID           0\n",
              "Agency             0\n",
              "HireDate           0\n",
              "AnnualSalary       0\n",
              "GrossPay        3223\n",
              "dtype: int64"
            ]
          },
          "metadata": {},
          "execution_count": 10
        }
      ]
    },
    {
      "cell_type": "code",
      "source": [
        "newdf = df.copy()"
      ],
      "metadata": {
        "id": "oMY5W9wPDe3m"
      },
      "execution_count": 11,
      "outputs": []
    },
    {
      "cell_type": "code",
      "source": [
        "# Removing the leading and trailing spaces and converting all the columns in lowercase\n",
        "newdf.columns = newdf.columns.str.strip().str.lower()"
      ],
      "metadata": {
        "id": "0-3ob9ioDe7Z"
      },
      "execution_count": 12,
      "outputs": []
    },
    {
      "cell_type": "code",
      "source": [
        "newdf.columns"
      ],
      "metadata": {
        "colab": {
          "base_uri": "https://localhost:8080/"
        },
        "id": "XgTEVkCdDe-2",
        "outputId": "bc4e5f28-8d4d-4261-cad8-728c9a70f892"
      },
      "execution_count": 13,
      "outputs": [
        {
          "output_type": "execute_result",
          "data": {
            "text/plain": [
              "Index(['name', 'jobtitle', 'agencyid', 'agency', 'hiredate', 'annualsalary',\n",
              "       'grosspay'],\n",
              "      dtype='object')"
            ]
          },
          "metadata": {},
          "execution_count": 13
        }
      ]
    },
    {
      "cell_type": "code",
      "source": [
        "newdf.head()"
      ],
      "metadata": {
        "colab": {
          "base_uri": "https://localhost:8080/",
          "height": 206
        },
        "id": "RuTn447xDfCf",
        "outputId": "4794c725-95d4-479e-de72-61f9ce95f5cd"
      },
      "execution_count": 14,
      "outputs": [
        {
          "output_type": "execute_result",
          "data": {
            "text/plain": [
              "                 name                       jobtitle agencyid  \\\n",
              "0     Aaron,Keontae E                 AIDE BLUE CHIP   W02200   \n",
              "1    Aaron,Patricia G  Facilities/Office Services II   A03031   \n",
              "2       Aaron,Petra L     ASSISTANT STATE'S ATTORNEY   A29005   \n",
              "3  Abaineh,Yohannes T                 EPIDEMIOLOGIST   A65026   \n",
              "4    Abbene,Anthony M         POLICE OFFICER TRAINEE   A99416   \n",
              "\n",
              "                     agency    hiredate annualsalary   grosspay  \n",
              "0            Youth Summer    06/10/2013    $11310.00    $873.63  \n",
              "1       OED-Employment Dev   10/24/1979    $53428.00  $52868.38  \n",
              "2  States Attorneys Office   09/25/2006    $68300.00  $67439.19  \n",
              "3   HLTH-Health Department   07/23/2009    $62000.00  $58654.74  \n",
              "4        Police Department   07/24/2013    $43999.00  $39686.95  "
            ],
            "text/html": [
              "\n",
              "  <div id=\"df-90d2002e-8216-45a0-a280-a67b84fa5487\">\n",
              "    <div class=\"colab-df-container\">\n",
              "      <div>\n",
              "<style scoped>\n",
              "    .dataframe tbody tr th:only-of-type {\n",
              "        vertical-align: middle;\n",
              "    }\n",
              "\n",
              "    .dataframe tbody tr th {\n",
              "        vertical-align: top;\n",
              "    }\n",
              "\n",
              "    .dataframe thead th {\n",
              "        text-align: right;\n",
              "    }\n",
              "</style>\n",
              "<table border=\"1\" class=\"dataframe\">\n",
              "  <thead>\n",
              "    <tr style=\"text-align: right;\">\n",
              "      <th></th>\n",
              "      <th>name</th>\n",
              "      <th>jobtitle</th>\n",
              "      <th>agencyid</th>\n",
              "      <th>agency</th>\n",
              "      <th>hiredate</th>\n",
              "      <th>annualsalary</th>\n",
              "      <th>grosspay</th>\n",
              "    </tr>\n",
              "  </thead>\n",
              "  <tbody>\n",
              "    <tr>\n",
              "      <th>0</th>\n",
              "      <td>Aaron,Keontae E</td>\n",
              "      <td>AIDE BLUE CHIP</td>\n",
              "      <td>W02200</td>\n",
              "      <td>Youth Summer</td>\n",
              "      <td>06/10/2013</td>\n",
              "      <td>$11310.00</td>\n",
              "      <td>$873.63</td>\n",
              "    </tr>\n",
              "    <tr>\n",
              "      <th>1</th>\n",
              "      <td>Aaron,Patricia G</td>\n",
              "      <td>Facilities/Office Services II</td>\n",
              "      <td>A03031</td>\n",
              "      <td>OED-Employment Dev</td>\n",
              "      <td>10/24/1979</td>\n",
              "      <td>$53428.00</td>\n",
              "      <td>$52868.38</td>\n",
              "    </tr>\n",
              "    <tr>\n",
              "      <th>2</th>\n",
              "      <td>Aaron,Petra L</td>\n",
              "      <td>ASSISTANT STATE'S ATTORNEY</td>\n",
              "      <td>A29005</td>\n",
              "      <td>States Attorneys Office</td>\n",
              "      <td>09/25/2006</td>\n",
              "      <td>$68300.00</td>\n",
              "      <td>$67439.19</td>\n",
              "    </tr>\n",
              "    <tr>\n",
              "      <th>3</th>\n",
              "      <td>Abaineh,Yohannes T</td>\n",
              "      <td>EPIDEMIOLOGIST</td>\n",
              "      <td>A65026</td>\n",
              "      <td>HLTH-Health Department</td>\n",
              "      <td>07/23/2009</td>\n",
              "      <td>$62000.00</td>\n",
              "      <td>$58654.74</td>\n",
              "    </tr>\n",
              "    <tr>\n",
              "      <th>4</th>\n",
              "      <td>Abbene,Anthony M</td>\n",
              "      <td>POLICE OFFICER TRAINEE</td>\n",
              "      <td>A99416</td>\n",
              "      <td>Police Department</td>\n",
              "      <td>07/24/2013</td>\n",
              "      <td>$43999.00</td>\n",
              "      <td>$39686.95</td>\n",
              "    </tr>\n",
              "  </tbody>\n",
              "</table>\n",
              "</div>\n",
              "      <button class=\"colab-df-convert\" onclick=\"convertToInteractive('df-90d2002e-8216-45a0-a280-a67b84fa5487')\"\n",
              "              title=\"Convert this dataframe to an interactive table.\"\n",
              "              style=\"display:none;\">\n",
              "        \n",
              "  <svg xmlns=\"http://www.w3.org/2000/svg\" height=\"24px\"viewBox=\"0 0 24 24\"\n",
              "       width=\"24px\">\n",
              "    <path d=\"M0 0h24v24H0V0z\" fill=\"none\"/>\n",
              "    <path d=\"M18.56 5.44l.94 2.06.94-2.06 2.06-.94-2.06-.94-.94-2.06-.94 2.06-2.06.94zm-11 1L8.5 8.5l.94-2.06 2.06-.94-2.06-.94L8.5 2.5l-.94 2.06-2.06.94zm10 10l.94 2.06.94-2.06 2.06-.94-2.06-.94-.94-2.06-.94 2.06-2.06.94z\"/><path d=\"M17.41 7.96l-1.37-1.37c-.4-.4-.92-.59-1.43-.59-.52 0-1.04.2-1.43.59L10.3 9.45l-7.72 7.72c-.78.78-.78 2.05 0 2.83L4 21.41c.39.39.9.59 1.41.59.51 0 1.02-.2 1.41-.59l7.78-7.78 2.81-2.81c.8-.78.8-2.07 0-2.86zM5.41 20L4 18.59l7.72-7.72 1.47 1.35L5.41 20z\"/>\n",
              "  </svg>\n",
              "      </button>\n",
              "      \n",
              "  <style>\n",
              "    .colab-df-container {\n",
              "      display:flex;\n",
              "      flex-wrap:wrap;\n",
              "      gap: 12px;\n",
              "    }\n",
              "\n",
              "    .colab-df-convert {\n",
              "      background-color: #E8F0FE;\n",
              "      border: none;\n",
              "      border-radius: 50%;\n",
              "      cursor: pointer;\n",
              "      display: none;\n",
              "      fill: #1967D2;\n",
              "      height: 32px;\n",
              "      padding: 0 0 0 0;\n",
              "      width: 32px;\n",
              "    }\n",
              "\n",
              "    .colab-df-convert:hover {\n",
              "      background-color: #E2EBFA;\n",
              "      box-shadow: 0px 1px 2px rgba(60, 64, 67, 0.3), 0px 1px 3px 1px rgba(60, 64, 67, 0.15);\n",
              "      fill: #174EA6;\n",
              "    }\n",
              "\n",
              "    [theme=dark] .colab-df-convert {\n",
              "      background-color: #3B4455;\n",
              "      fill: #D2E3FC;\n",
              "    }\n",
              "\n",
              "    [theme=dark] .colab-df-convert:hover {\n",
              "      background-color: #434B5C;\n",
              "      box-shadow: 0px 1px 3px 1px rgba(0, 0, 0, 0.15);\n",
              "      filter: drop-shadow(0px 1px 2px rgba(0, 0, 0, 0.3));\n",
              "      fill: #FFFFFF;\n",
              "    }\n",
              "  </style>\n",
              "\n",
              "      <script>\n",
              "        const buttonEl =\n",
              "          document.querySelector('#df-90d2002e-8216-45a0-a280-a67b84fa5487 button.colab-df-convert');\n",
              "        buttonEl.style.display =\n",
              "          google.colab.kernel.accessAllowed ? 'block' : 'none';\n",
              "\n",
              "        async function convertToInteractive(key) {\n",
              "          const element = document.querySelector('#df-90d2002e-8216-45a0-a280-a67b84fa5487');\n",
              "          const dataTable =\n",
              "            await google.colab.kernel.invokeFunction('convertToInteractive',\n",
              "                                                     [key], {});\n",
              "          if (!dataTable) return;\n",
              "\n",
              "          const docLinkHtml = 'Like what you see? Visit the ' +\n",
              "            '<a target=\"_blank\" href=https://colab.research.google.com/notebooks/data_table.ipynb>data table notebook</a>'\n",
              "            + ' to learn more about interactive tables.';\n",
              "          element.innerHTML = '';\n",
              "          dataTable['output_type'] = 'display_data';\n",
              "          await google.colab.output.renderOutput(dataTable, element);\n",
              "          const docLink = document.createElement('div');\n",
              "          docLink.innerHTML = docLinkHtml;\n",
              "          element.appendChild(docLink);\n",
              "        }\n",
              "      </script>\n",
              "    </div>\n",
              "  </div>\n",
              "  "
            ]
          },
          "metadata": {},
          "execution_count": 14
        }
      ]
    },
    {
      "cell_type": "code",
      "source": [
        "# checking the null values\n",
        "df.isnull().sum()"
      ],
      "metadata": {
        "colab": {
          "base_uri": "https://localhost:8080/"
        },
        "id": "IMDxriEHDfGQ",
        "outputId": "e52867ab-e0ef-4f5c-e1c4-0263f0583290"
      },
      "execution_count": 15,
      "outputs": [
        {
          "output_type": "execute_result",
          "data": {
            "text/plain": [
              " Name              0\n",
              "JobTitle           0\n",
              "AgencyID           0\n",
              "Agency             0\n",
              "HireDate           0\n",
              "AnnualSalary       0\n",
              "GrossPay        3223\n",
              "dtype: int64"
            ]
          },
          "metadata": {},
          "execution_count": 15
        }
      ]
    },
    {
      "cell_type": "code",
      "source": [
        "newdf.drop('grosspay', axis=1, inplace=True)"
      ],
      "metadata": {
        "id": "GmLjaWd2DfJy"
      },
      "execution_count": 16,
      "outputs": []
    },
    {
      "cell_type": "code",
      "source": [
        "newdf.columns"
      ],
      "metadata": {
        "colab": {
          "base_uri": "https://localhost:8080/"
        },
        "id": "Q9oZwzEkDfNf",
        "outputId": "25cf4d09-04a4-4a30-ad11-4a658948228b"
      },
      "execution_count": 17,
      "outputs": [
        {
          "output_type": "execute_result",
          "data": {
            "text/plain": [
              "Index(['name', 'jobtitle', 'agencyid', 'agency', 'hiredate', 'annualsalary'], dtype='object')"
            ]
          },
          "metadata": {},
          "execution_count": 17
        }
      ]
    },
    {
      "cell_type": "code",
      "source": [
        "# V;aue counts for agency id\n",
        "newdf.agencyid.value_counts()"
      ],
      "metadata": {
        "colab": {
          "base_uri": "https://localhost:8080/"
        },
        "id": "jmmimdLsDfRV",
        "outputId": "074785d7-3a4d-4dea-9dc4-ef03377c70a0"
      },
      "execution_count": 18,
      "outputs": [
        {
          "output_type": "execute_result",
          "data": {
            "text/plain": [
              "P04001    316\n",
              "C90786    276\n",
              "W02629    193\n",
              "P04002    191\n",
              "A99416    166\n",
              "         ... \n",
              "W02525      1\n",
              "W02400      1\n",
              "A64005      1\n",
              "W02666      1\n",
              "W02339      1\n",
              "Name: agencyid, Length: 1177, dtype: int64"
            ]
          },
          "metadata": {},
          "execution_count": 18
        }
      ]
    },
    {
      "cell_type": "code",
      "source": [
        "newdf.agency.value_counts()"
      ],
      "metadata": {
        "colab": {
          "base_uri": "https://localhost:8080/"
        },
        "id": "GmdBAVkHDfVI",
        "outputId": "8674c179-4f99-4fdd-de84-88e26b059a41"
      },
      "execution_count": 19,
      "outputs": [
        {
          "output_type": "execute_result",
          "data": {
            "text/plain": [
              "Youth Summer                4323\n",
              "Police Department           3141\n",
              "Fire Department             1576\n",
              "DPW-Water & Waste Water     1491\n",
              "HLTH-Health Department       833\n",
              "                            ... \n",
              "Council Services               6\n",
              "HLTH-Health Dept Locatio       6\n",
              "Legislative Reference          5\n",
              "M-R Cable & Comm               4\n",
              "Special City Services          4\n",
              "Name: agency, Length: 65, dtype: int64"
            ]
          },
          "metadata": {},
          "execution_count": 19
        }
      ]
    },
    {
      "cell_type": "code",
      "source": [
        "newdf.jobtitle.value_counts()"
      ],
      "metadata": {
        "colab": {
          "base_uri": "https://localhost:8080/"
        },
        "id": "LlvP_YmtDfZK",
        "outputId": "474c953e-7d1b-423b-c938-cf17b84f0bd8"
      },
      "execution_count": 20,
      "outputs": [
        {
          "output_type": "execute_result",
          "data": {
            "text/plain": [
              "AIDE BLUE CHIP                    4817\n",
              "POLICE OFFICER                    1866\n",
              "LABORER (Hourly)                   597\n",
              "EMT Firefighter Suppression        358\n",
              "CROSSING GUARD                     337\n",
              "                                  ... \n",
              "PUBLIC INFORMATION OFFICER SAO       1\n",
              "STREET MASON                         1\n",
              "DESIGN PLANNER I                     1\n",
              "FUEL SYSTEMS SPECIALIST              1\n",
              "Research Analyst II                  1\n",
              "Name: jobtitle, Length: 1073, dtype: int64"
            ]
          },
          "metadata": {},
          "execution_count": 20
        }
      ]
    },
    {
      "cell_type": "code",
      "source": [
        "newdf.annualsalary.value_counts()"
      ],
      "metadata": {
        "colab": {
          "base_uri": "https://localhost:8080/"
        },
        "id": "Ew1D5EvADfdD",
        "outputId": "46a23e88-f88f-41e2-888a-040038130aa7"
      },
      "execution_count": 21,
      "outputs": [
        {
          "output_type": "execute_result",
          "data": {
            "text/plain": [
              "$11310.00    4811\n",
              "$20800.00     325\n",
              "$29245.00     196\n",
              "$43999.00     169\n",
              "$44773.00     162\n",
              "             ... \n",
              "$58227.00       1\n",
              "$41704.00       1\n",
              "$44700.00       1\n",
              "$43000.00       1\n",
              "$900.00         1\n",
              "Name: annualsalary, Length: 1590, dtype: int64"
            ]
          },
          "metadata": {},
          "execution_count": 21
        }
      ]
    },
    {
      "cell_type": "code",
      "source": [
        "# Remove the $ from the annual salary and chane the type to int\n",
        "newdf['annualsalary'] = newdf['annualsalary'].str.strip('$').astype(float)"
      ],
      "metadata": {
        "id": "dkieUOn-Dfgu"
      },
      "execution_count": 22,
      "outputs": []
    },
    {
      "cell_type": "code",
      "source": [
        "newdf.head()"
      ],
      "metadata": {
        "colab": {
          "base_uri": "https://localhost:8080/",
          "height": 206
        },
        "id": "PBDnoefpDfoG",
        "outputId": "757353c8-33ad-4017-ab73-4c59de0be1a4"
      },
      "execution_count": 23,
      "outputs": [
        {
          "output_type": "execute_result",
          "data": {
            "text/plain": [
              "                 name                       jobtitle agencyid  \\\n",
              "0     Aaron,Keontae E                 AIDE BLUE CHIP   W02200   \n",
              "1    Aaron,Patricia G  Facilities/Office Services II   A03031   \n",
              "2       Aaron,Petra L     ASSISTANT STATE'S ATTORNEY   A29005   \n",
              "3  Abaineh,Yohannes T                 EPIDEMIOLOGIST   A65026   \n",
              "4    Abbene,Anthony M         POLICE OFFICER TRAINEE   A99416   \n",
              "\n",
              "                     agency    hiredate  annualsalary  \n",
              "0            Youth Summer    06/10/2013       11310.0  \n",
              "1       OED-Employment Dev   10/24/1979       53428.0  \n",
              "2  States Attorneys Office   09/25/2006       68300.0  \n",
              "3   HLTH-Health Department   07/23/2009       62000.0  \n",
              "4        Police Department   07/24/2013       43999.0  "
            ],
            "text/html": [
              "\n",
              "  <div id=\"df-067e40b0-80e5-4478-9313-1baf774bfcad\">\n",
              "    <div class=\"colab-df-container\">\n",
              "      <div>\n",
              "<style scoped>\n",
              "    .dataframe tbody tr th:only-of-type {\n",
              "        vertical-align: middle;\n",
              "    }\n",
              "\n",
              "    .dataframe tbody tr th {\n",
              "        vertical-align: top;\n",
              "    }\n",
              "\n",
              "    .dataframe thead th {\n",
              "        text-align: right;\n",
              "    }\n",
              "</style>\n",
              "<table border=\"1\" class=\"dataframe\">\n",
              "  <thead>\n",
              "    <tr style=\"text-align: right;\">\n",
              "      <th></th>\n",
              "      <th>name</th>\n",
              "      <th>jobtitle</th>\n",
              "      <th>agencyid</th>\n",
              "      <th>agency</th>\n",
              "      <th>hiredate</th>\n",
              "      <th>annualsalary</th>\n",
              "    </tr>\n",
              "  </thead>\n",
              "  <tbody>\n",
              "    <tr>\n",
              "      <th>0</th>\n",
              "      <td>Aaron,Keontae E</td>\n",
              "      <td>AIDE BLUE CHIP</td>\n",
              "      <td>W02200</td>\n",
              "      <td>Youth Summer</td>\n",
              "      <td>06/10/2013</td>\n",
              "      <td>11310.0</td>\n",
              "    </tr>\n",
              "    <tr>\n",
              "      <th>1</th>\n",
              "      <td>Aaron,Patricia G</td>\n",
              "      <td>Facilities/Office Services II</td>\n",
              "      <td>A03031</td>\n",
              "      <td>OED-Employment Dev</td>\n",
              "      <td>10/24/1979</td>\n",
              "      <td>53428.0</td>\n",
              "    </tr>\n",
              "    <tr>\n",
              "      <th>2</th>\n",
              "      <td>Aaron,Petra L</td>\n",
              "      <td>ASSISTANT STATE'S ATTORNEY</td>\n",
              "      <td>A29005</td>\n",
              "      <td>States Attorneys Office</td>\n",
              "      <td>09/25/2006</td>\n",
              "      <td>68300.0</td>\n",
              "    </tr>\n",
              "    <tr>\n",
              "      <th>3</th>\n",
              "      <td>Abaineh,Yohannes T</td>\n",
              "      <td>EPIDEMIOLOGIST</td>\n",
              "      <td>A65026</td>\n",
              "      <td>HLTH-Health Department</td>\n",
              "      <td>07/23/2009</td>\n",
              "      <td>62000.0</td>\n",
              "    </tr>\n",
              "    <tr>\n",
              "      <th>4</th>\n",
              "      <td>Abbene,Anthony M</td>\n",
              "      <td>POLICE OFFICER TRAINEE</td>\n",
              "      <td>A99416</td>\n",
              "      <td>Police Department</td>\n",
              "      <td>07/24/2013</td>\n",
              "      <td>43999.0</td>\n",
              "    </tr>\n",
              "  </tbody>\n",
              "</table>\n",
              "</div>\n",
              "      <button class=\"colab-df-convert\" onclick=\"convertToInteractive('df-067e40b0-80e5-4478-9313-1baf774bfcad')\"\n",
              "              title=\"Convert this dataframe to an interactive table.\"\n",
              "              style=\"display:none;\">\n",
              "        \n",
              "  <svg xmlns=\"http://www.w3.org/2000/svg\" height=\"24px\"viewBox=\"0 0 24 24\"\n",
              "       width=\"24px\">\n",
              "    <path d=\"M0 0h24v24H0V0z\" fill=\"none\"/>\n",
              "    <path d=\"M18.56 5.44l.94 2.06.94-2.06 2.06-.94-2.06-.94-.94-2.06-.94 2.06-2.06.94zm-11 1L8.5 8.5l.94-2.06 2.06-.94-2.06-.94L8.5 2.5l-.94 2.06-2.06.94zm10 10l.94 2.06.94-2.06 2.06-.94-2.06-.94-.94-2.06-.94 2.06-2.06.94z\"/><path d=\"M17.41 7.96l-1.37-1.37c-.4-.4-.92-.59-1.43-.59-.52 0-1.04.2-1.43.59L10.3 9.45l-7.72 7.72c-.78.78-.78 2.05 0 2.83L4 21.41c.39.39.9.59 1.41.59.51 0 1.02-.2 1.41-.59l7.78-7.78 2.81-2.81c.8-.78.8-2.07 0-2.86zM5.41 20L4 18.59l7.72-7.72 1.47 1.35L5.41 20z\"/>\n",
              "  </svg>\n",
              "      </button>\n",
              "      \n",
              "  <style>\n",
              "    .colab-df-container {\n",
              "      display:flex;\n",
              "      flex-wrap:wrap;\n",
              "      gap: 12px;\n",
              "    }\n",
              "\n",
              "    .colab-df-convert {\n",
              "      background-color: #E8F0FE;\n",
              "      border: none;\n",
              "      border-radius: 50%;\n",
              "      cursor: pointer;\n",
              "      display: none;\n",
              "      fill: #1967D2;\n",
              "      height: 32px;\n",
              "      padding: 0 0 0 0;\n",
              "      width: 32px;\n",
              "    }\n",
              "\n",
              "    .colab-df-convert:hover {\n",
              "      background-color: #E2EBFA;\n",
              "      box-shadow: 0px 1px 2px rgba(60, 64, 67, 0.3), 0px 1px 3px 1px rgba(60, 64, 67, 0.15);\n",
              "      fill: #174EA6;\n",
              "    }\n",
              "\n",
              "    [theme=dark] .colab-df-convert {\n",
              "      background-color: #3B4455;\n",
              "      fill: #D2E3FC;\n",
              "    }\n",
              "\n",
              "    [theme=dark] .colab-df-convert:hover {\n",
              "      background-color: #434B5C;\n",
              "      box-shadow: 0px 1px 3px 1px rgba(0, 0, 0, 0.15);\n",
              "      filter: drop-shadow(0px 1px 2px rgba(0, 0, 0, 0.3));\n",
              "      fill: #FFFFFF;\n",
              "    }\n",
              "  </style>\n",
              "\n",
              "      <script>\n",
              "        const buttonEl =\n",
              "          document.querySelector('#df-067e40b0-80e5-4478-9313-1baf774bfcad button.colab-df-convert');\n",
              "        buttonEl.style.display =\n",
              "          google.colab.kernel.accessAllowed ? 'block' : 'none';\n",
              "\n",
              "        async function convertToInteractive(key) {\n",
              "          const element = document.querySelector('#df-067e40b0-80e5-4478-9313-1baf774bfcad');\n",
              "          const dataTable =\n",
              "            await google.colab.kernel.invokeFunction('convertToInteractive',\n",
              "                                                     [key], {});\n",
              "          if (!dataTable) return;\n",
              "\n",
              "          const docLinkHtml = 'Like what you see? Visit the ' +\n",
              "            '<a target=\"_blank\" href=https://colab.research.google.com/notebooks/data_table.ipynb>data table notebook</a>'\n",
              "            + ' to learn more about interactive tables.';\n",
              "          element.innerHTML = '';\n",
              "          dataTable['output_type'] = 'display_data';\n",
              "          await google.colab.output.renderOutput(dataTable, element);\n",
              "          const docLink = document.createElement('div');\n",
              "          docLink.innerHTML = docLinkHtml;\n",
              "          element.appendChild(docLink);\n",
              "        }\n",
              "      </script>\n",
              "    </div>\n",
              "  </div>\n",
              "  "
            ]
          },
          "metadata": {},
          "execution_count": 23
        }
      ]
    },
    {
      "cell_type": "code",
      "source": [
        "newdf[[\"hiremonth\", \"hiredate\", \"hireyear\"]] = newdf['hiredate'].str.split('/', expand = True)"
      ],
      "metadata": {
        "id": "sanpmMtvS3vn"
      },
      "execution_count": 24,
      "outputs": []
    },
    {
      "cell_type": "code",
      "source": [
        "newdf.head()"
      ],
      "metadata": {
        "colab": {
          "base_uri": "https://localhost:8080/",
          "height": 206
        },
        "id": "YcgXOYGrTWFO",
        "outputId": "b44b5e81-aaeb-402e-e3e8-3a1e0577954f"
      },
      "execution_count": 25,
      "outputs": [
        {
          "output_type": "execute_result",
          "data": {
            "text/plain": [
              "                 name                       jobtitle agencyid  \\\n",
              "0     Aaron,Keontae E                 AIDE BLUE CHIP   W02200   \n",
              "1    Aaron,Patricia G  Facilities/Office Services II   A03031   \n",
              "2       Aaron,Petra L     ASSISTANT STATE'S ATTORNEY   A29005   \n",
              "3  Abaineh,Yohannes T                 EPIDEMIOLOGIST   A65026   \n",
              "4    Abbene,Anthony M         POLICE OFFICER TRAINEE   A99416   \n",
              "\n",
              "                     agency hiredate  annualsalary hiremonth hireyear  \n",
              "0            Youth Summer         10       11310.0        06     2013  \n",
              "1       OED-Employment Dev        24       53428.0        10     1979  \n",
              "2  States Attorneys Office        25       68300.0        09     2006  \n",
              "3   HLTH-Health Department        23       62000.0        07     2009  \n",
              "4        Police Department        24       43999.0        07     2013  "
            ],
            "text/html": [
              "\n",
              "  <div id=\"df-059a170c-06a3-4d30-b487-94370e033801\">\n",
              "    <div class=\"colab-df-container\">\n",
              "      <div>\n",
              "<style scoped>\n",
              "    .dataframe tbody tr th:only-of-type {\n",
              "        vertical-align: middle;\n",
              "    }\n",
              "\n",
              "    .dataframe tbody tr th {\n",
              "        vertical-align: top;\n",
              "    }\n",
              "\n",
              "    .dataframe thead th {\n",
              "        text-align: right;\n",
              "    }\n",
              "</style>\n",
              "<table border=\"1\" class=\"dataframe\">\n",
              "  <thead>\n",
              "    <tr style=\"text-align: right;\">\n",
              "      <th></th>\n",
              "      <th>name</th>\n",
              "      <th>jobtitle</th>\n",
              "      <th>agencyid</th>\n",
              "      <th>agency</th>\n",
              "      <th>hiredate</th>\n",
              "      <th>annualsalary</th>\n",
              "      <th>hiremonth</th>\n",
              "      <th>hireyear</th>\n",
              "    </tr>\n",
              "  </thead>\n",
              "  <tbody>\n",
              "    <tr>\n",
              "      <th>0</th>\n",
              "      <td>Aaron,Keontae E</td>\n",
              "      <td>AIDE BLUE CHIP</td>\n",
              "      <td>W02200</td>\n",
              "      <td>Youth Summer</td>\n",
              "      <td>10</td>\n",
              "      <td>11310.0</td>\n",
              "      <td>06</td>\n",
              "      <td>2013</td>\n",
              "    </tr>\n",
              "    <tr>\n",
              "      <th>1</th>\n",
              "      <td>Aaron,Patricia G</td>\n",
              "      <td>Facilities/Office Services II</td>\n",
              "      <td>A03031</td>\n",
              "      <td>OED-Employment Dev</td>\n",
              "      <td>24</td>\n",
              "      <td>53428.0</td>\n",
              "      <td>10</td>\n",
              "      <td>1979</td>\n",
              "    </tr>\n",
              "    <tr>\n",
              "      <th>2</th>\n",
              "      <td>Aaron,Petra L</td>\n",
              "      <td>ASSISTANT STATE'S ATTORNEY</td>\n",
              "      <td>A29005</td>\n",
              "      <td>States Attorneys Office</td>\n",
              "      <td>25</td>\n",
              "      <td>68300.0</td>\n",
              "      <td>09</td>\n",
              "      <td>2006</td>\n",
              "    </tr>\n",
              "    <tr>\n",
              "      <th>3</th>\n",
              "      <td>Abaineh,Yohannes T</td>\n",
              "      <td>EPIDEMIOLOGIST</td>\n",
              "      <td>A65026</td>\n",
              "      <td>HLTH-Health Department</td>\n",
              "      <td>23</td>\n",
              "      <td>62000.0</td>\n",
              "      <td>07</td>\n",
              "      <td>2009</td>\n",
              "    </tr>\n",
              "    <tr>\n",
              "      <th>4</th>\n",
              "      <td>Abbene,Anthony M</td>\n",
              "      <td>POLICE OFFICER TRAINEE</td>\n",
              "      <td>A99416</td>\n",
              "      <td>Police Department</td>\n",
              "      <td>24</td>\n",
              "      <td>43999.0</td>\n",
              "      <td>07</td>\n",
              "      <td>2013</td>\n",
              "    </tr>\n",
              "  </tbody>\n",
              "</table>\n",
              "</div>\n",
              "      <button class=\"colab-df-convert\" onclick=\"convertToInteractive('df-059a170c-06a3-4d30-b487-94370e033801')\"\n",
              "              title=\"Convert this dataframe to an interactive table.\"\n",
              "              style=\"display:none;\">\n",
              "        \n",
              "  <svg xmlns=\"http://www.w3.org/2000/svg\" height=\"24px\"viewBox=\"0 0 24 24\"\n",
              "       width=\"24px\">\n",
              "    <path d=\"M0 0h24v24H0V0z\" fill=\"none\"/>\n",
              "    <path d=\"M18.56 5.44l.94 2.06.94-2.06 2.06-.94-2.06-.94-.94-2.06-.94 2.06-2.06.94zm-11 1L8.5 8.5l.94-2.06 2.06-.94-2.06-.94L8.5 2.5l-.94 2.06-2.06.94zm10 10l.94 2.06.94-2.06 2.06-.94-2.06-.94-.94-2.06-.94 2.06-2.06.94z\"/><path d=\"M17.41 7.96l-1.37-1.37c-.4-.4-.92-.59-1.43-.59-.52 0-1.04.2-1.43.59L10.3 9.45l-7.72 7.72c-.78.78-.78 2.05 0 2.83L4 21.41c.39.39.9.59 1.41.59.51 0 1.02-.2 1.41-.59l7.78-7.78 2.81-2.81c.8-.78.8-2.07 0-2.86zM5.41 20L4 18.59l7.72-7.72 1.47 1.35L5.41 20z\"/>\n",
              "  </svg>\n",
              "      </button>\n",
              "      \n",
              "  <style>\n",
              "    .colab-df-container {\n",
              "      display:flex;\n",
              "      flex-wrap:wrap;\n",
              "      gap: 12px;\n",
              "    }\n",
              "\n",
              "    .colab-df-convert {\n",
              "      background-color: #E8F0FE;\n",
              "      border: none;\n",
              "      border-radius: 50%;\n",
              "      cursor: pointer;\n",
              "      display: none;\n",
              "      fill: #1967D2;\n",
              "      height: 32px;\n",
              "      padding: 0 0 0 0;\n",
              "      width: 32px;\n",
              "    }\n",
              "\n",
              "    .colab-df-convert:hover {\n",
              "      background-color: #E2EBFA;\n",
              "      box-shadow: 0px 1px 2px rgba(60, 64, 67, 0.3), 0px 1px 3px 1px rgba(60, 64, 67, 0.15);\n",
              "      fill: #174EA6;\n",
              "    }\n",
              "\n",
              "    [theme=dark] .colab-df-convert {\n",
              "      background-color: #3B4455;\n",
              "      fill: #D2E3FC;\n",
              "    }\n",
              "\n",
              "    [theme=dark] .colab-df-convert:hover {\n",
              "      background-color: #434B5C;\n",
              "      box-shadow: 0px 1px 3px 1px rgba(0, 0, 0, 0.15);\n",
              "      filter: drop-shadow(0px 1px 2px rgba(0, 0, 0, 0.3));\n",
              "      fill: #FFFFFF;\n",
              "    }\n",
              "  </style>\n",
              "\n",
              "      <script>\n",
              "        const buttonEl =\n",
              "          document.querySelector('#df-059a170c-06a3-4d30-b487-94370e033801 button.colab-df-convert');\n",
              "        buttonEl.style.display =\n",
              "          google.colab.kernel.accessAllowed ? 'block' : 'none';\n",
              "\n",
              "        async function convertToInteractive(key) {\n",
              "          const element = document.querySelector('#df-059a170c-06a3-4d30-b487-94370e033801');\n",
              "          const dataTable =\n",
              "            await google.colab.kernel.invokeFunction('convertToInteractive',\n",
              "                                                     [key], {});\n",
              "          if (!dataTable) return;\n",
              "\n",
              "          const docLinkHtml = 'Like what you see? Visit the ' +\n",
              "            '<a target=\"_blank\" href=https://colab.research.google.com/notebooks/data_table.ipynb>data table notebook</a>'\n",
              "            + ' to learn more about interactive tables.';\n",
              "          element.innerHTML = '';\n",
              "          dataTable['output_type'] = 'display_data';\n",
              "          await google.colab.output.renderOutput(dataTable, element);\n",
              "          const docLink = document.createElement('div');\n",
              "          docLink.innerHTML = docLinkHtml;\n",
              "          element.appendChild(docLink);\n",
              "        }\n",
              "      </script>\n",
              "    </div>\n",
              "  </div>\n",
              "  "
            ]
          },
          "metadata": {},
          "execution_count": 25
        }
      ]
    },
    {
      "cell_type": "code",
      "source": [
        "col_sal = newdf.pop('annualsalary')\n",
        "newdf = newdf.assign(annualsalary = col_sal)"
      ],
      "metadata": {
        "id": "MpSABO8zUgq5"
      },
      "execution_count": 26,
      "outputs": []
    },
    {
      "cell_type": "code",
      "source": [
        "# Mapping jobtitle to annualsalary\n",
        "mean_encoded_JobTitle=newdf.groupby('jobtitle')['annualsalary'].mean()\n",
        "newdf['jobtitle']=newdf['jobtitle'].map(mean_encoded_JobTitle)\n",
        "print(newdf['jobtitle'])"
      ],
      "metadata": {
        "colab": {
          "base_uri": "https://localhost:8080/"
        },
        "id": "7zvWAroSkSj0",
        "outputId": "7526c478-f547-4167-f097-b8595763f09b"
      },
      "execution_count": 27,
      "outputs": [
        {
          "output_type": "stream",
          "name": "stdout",
          "text": [
            "0        11313.967200\n",
            "1        47443.500000\n",
            "2        69750.666667\n",
            "3        57940.000000\n",
            "4        44531.160494\n",
            "             ...     \n",
            "18976    11313.967200\n",
            "18977    11313.967200\n",
            "18978    44531.160494\n",
            "18979    60588.139335\n",
            "18980    53368.428571\n",
            "Name: jobtitle, Length: 18911, dtype: float64\n"
          ]
        }
      ]
    },
    {
      "cell_type": "code",
      "source": [
        "# Mapping agency to annualsalary\n",
        "mean_encoded_Agency=newdf.groupby('agency')['annualsalary'].mean()\n",
        "newdf['agency']=newdf['agency'].map(mean_encoded_Agency)\n",
        "print(newdf['agency'])"
      ],
      "metadata": {
        "colab": {
          "base_uri": "https://localhost:8080/"
        },
        "id": "Kyn0mjLcjKs1",
        "outputId": "b1180fa1-2d52-4109-ceb7-8351c9791b86"
      },
      "execution_count": 28,
      "outputs": [
        {
          "output_type": "stream",
          "name": "stdout",
          "text": [
            "0        11310.270645\n",
            "1        51495.424242\n",
            "2        65360.307263\n",
            "3        39980.900360\n",
            "4        61579.081503\n",
            "             ...     \n",
            "18976    11310.270645\n",
            "18977    11346.315789\n",
            "18978    61579.081503\n",
            "18979    61579.081503\n",
            "18980    42565.513078\n",
            "Name: agency, Length: 18911, dtype: float64\n"
          ]
        }
      ]
    },
    {
      "cell_type": "code",
      "source": [
        "# Mapping agencyid to annualsalary\n",
        "mean_encoded_AgencyID=newdf.groupby('agencyid')['annualsalary'].mean()\n",
        "newdf['agencyid']=newdf['agencyid'].map(mean_encoded_AgencyID)\n",
        "print(newdf['agencyid'])"
      ],
      "metadata": {
        "colab": {
          "base_uri": "https://localhost:8080/"
        },
        "id": "PZ4OEN7cknTv",
        "outputId": "58823c44-0c80-43fa-a5bd-fae6025c9003"
      },
      "execution_count": 29,
      "outputs": [
        {
          "output_type": "stream",
          "name": "stdout",
          "text": [
            "0        11310.000000\n",
            "1        46667.000000\n",
            "2        65926.133333\n",
            "3        48071.851064\n",
            "4        44012.307229\n",
            "             ...     \n",
            "18976    11310.000000\n",
            "18977    11310.000000\n",
            "18978    44012.307229\n",
            "18979    60203.340426\n",
            "18980    42407.562500\n",
            "Name: agencyid, Length: 18911, dtype: float64\n"
          ]
        }
      ]
    },
    {
      "cell_type": "code",
      "source": [
        "newdf.isnull().sum()"
      ],
      "metadata": {
        "colab": {
          "base_uri": "https://localhost:8080/"
        },
        "id": "5C8o3vSW2vbU",
        "outputId": "d6dbb67b-b91b-40db-b969-968592c0c167"
      },
      "execution_count": 30,
      "outputs": [
        {
          "output_type": "execute_result",
          "data": {
            "text/plain": [
              "name            0\n",
              "jobtitle        0\n",
              "agencyid        0\n",
              "agency          0\n",
              "hiredate        0\n",
              "hiremonth       0\n",
              "hireyear        0\n",
              "annualsalary    0\n",
              "dtype: int64"
            ]
          },
          "metadata": {},
          "execution_count": 30
        }
      ]
    },
    {
      "cell_type": "code",
      "source": [
        "newdf.head()"
      ],
      "metadata": {
        "colab": {
          "base_uri": "https://localhost:8080/",
          "height": 206
        },
        "id": "M7_q4KacUyzy",
        "outputId": "fa372bab-86db-476c-eece-1753987a8907"
      },
      "execution_count": 31,
      "outputs": [
        {
          "output_type": "execute_result",
          "data": {
            "text/plain": [
              "                 name      jobtitle      agencyid        agency hiredate  \\\n",
              "0     Aaron,Keontae E  11313.967200  11310.000000  11310.270645       10   \n",
              "1    Aaron,Patricia G  47443.500000  46667.000000  51495.424242       24   \n",
              "2       Aaron,Petra L  69750.666667  65926.133333  65360.307263       25   \n",
              "3  Abaineh,Yohannes T  57940.000000  48071.851064  39980.900360       23   \n",
              "4    Abbene,Anthony M  44531.160494  44012.307229  61579.081503       24   \n",
              "\n",
              "  hiremonth hireyear  annualsalary  \n",
              "0        06     2013       11310.0  \n",
              "1        10     1979       53428.0  \n",
              "2        09     2006       68300.0  \n",
              "3        07     2009       62000.0  \n",
              "4        07     2013       43999.0  "
            ],
            "text/html": [
              "\n",
              "  <div id=\"df-8cb3cb50-cb0a-4f3d-854d-b8a32e72e4c0\">\n",
              "    <div class=\"colab-df-container\">\n",
              "      <div>\n",
              "<style scoped>\n",
              "    .dataframe tbody tr th:only-of-type {\n",
              "        vertical-align: middle;\n",
              "    }\n",
              "\n",
              "    .dataframe tbody tr th {\n",
              "        vertical-align: top;\n",
              "    }\n",
              "\n",
              "    .dataframe thead th {\n",
              "        text-align: right;\n",
              "    }\n",
              "</style>\n",
              "<table border=\"1\" class=\"dataframe\">\n",
              "  <thead>\n",
              "    <tr style=\"text-align: right;\">\n",
              "      <th></th>\n",
              "      <th>name</th>\n",
              "      <th>jobtitle</th>\n",
              "      <th>agencyid</th>\n",
              "      <th>agency</th>\n",
              "      <th>hiredate</th>\n",
              "      <th>hiremonth</th>\n",
              "      <th>hireyear</th>\n",
              "      <th>annualsalary</th>\n",
              "    </tr>\n",
              "  </thead>\n",
              "  <tbody>\n",
              "    <tr>\n",
              "      <th>0</th>\n",
              "      <td>Aaron,Keontae E</td>\n",
              "      <td>11313.967200</td>\n",
              "      <td>11310.000000</td>\n",
              "      <td>11310.270645</td>\n",
              "      <td>10</td>\n",
              "      <td>06</td>\n",
              "      <td>2013</td>\n",
              "      <td>11310.0</td>\n",
              "    </tr>\n",
              "    <tr>\n",
              "      <th>1</th>\n",
              "      <td>Aaron,Patricia G</td>\n",
              "      <td>47443.500000</td>\n",
              "      <td>46667.000000</td>\n",
              "      <td>51495.424242</td>\n",
              "      <td>24</td>\n",
              "      <td>10</td>\n",
              "      <td>1979</td>\n",
              "      <td>53428.0</td>\n",
              "    </tr>\n",
              "    <tr>\n",
              "      <th>2</th>\n",
              "      <td>Aaron,Petra L</td>\n",
              "      <td>69750.666667</td>\n",
              "      <td>65926.133333</td>\n",
              "      <td>65360.307263</td>\n",
              "      <td>25</td>\n",
              "      <td>09</td>\n",
              "      <td>2006</td>\n",
              "      <td>68300.0</td>\n",
              "    </tr>\n",
              "    <tr>\n",
              "      <th>3</th>\n",
              "      <td>Abaineh,Yohannes T</td>\n",
              "      <td>57940.000000</td>\n",
              "      <td>48071.851064</td>\n",
              "      <td>39980.900360</td>\n",
              "      <td>23</td>\n",
              "      <td>07</td>\n",
              "      <td>2009</td>\n",
              "      <td>62000.0</td>\n",
              "    </tr>\n",
              "    <tr>\n",
              "      <th>4</th>\n",
              "      <td>Abbene,Anthony M</td>\n",
              "      <td>44531.160494</td>\n",
              "      <td>44012.307229</td>\n",
              "      <td>61579.081503</td>\n",
              "      <td>24</td>\n",
              "      <td>07</td>\n",
              "      <td>2013</td>\n",
              "      <td>43999.0</td>\n",
              "    </tr>\n",
              "  </tbody>\n",
              "</table>\n",
              "</div>\n",
              "      <button class=\"colab-df-convert\" onclick=\"convertToInteractive('df-8cb3cb50-cb0a-4f3d-854d-b8a32e72e4c0')\"\n",
              "              title=\"Convert this dataframe to an interactive table.\"\n",
              "              style=\"display:none;\">\n",
              "        \n",
              "  <svg xmlns=\"http://www.w3.org/2000/svg\" height=\"24px\"viewBox=\"0 0 24 24\"\n",
              "       width=\"24px\">\n",
              "    <path d=\"M0 0h24v24H0V0z\" fill=\"none\"/>\n",
              "    <path d=\"M18.56 5.44l.94 2.06.94-2.06 2.06-.94-2.06-.94-.94-2.06-.94 2.06-2.06.94zm-11 1L8.5 8.5l.94-2.06 2.06-.94-2.06-.94L8.5 2.5l-.94 2.06-2.06.94zm10 10l.94 2.06.94-2.06 2.06-.94-2.06-.94-.94-2.06-.94 2.06-2.06.94z\"/><path d=\"M17.41 7.96l-1.37-1.37c-.4-.4-.92-.59-1.43-.59-.52 0-1.04.2-1.43.59L10.3 9.45l-7.72 7.72c-.78.78-.78 2.05 0 2.83L4 21.41c.39.39.9.59 1.41.59.51 0 1.02-.2 1.41-.59l7.78-7.78 2.81-2.81c.8-.78.8-2.07 0-2.86zM5.41 20L4 18.59l7.72-7.72 1.47 1.35L5.41 20z\"/>\n",
              "  </svg>\n",
              "      </button>\n",
              "      \n",
              "  <style>\n",
              "    .colab-df-container {\n",
              "      display:flex;\n",
              "      flex-wrap:wrap;\n",
              "      gap: 12px;\n",
              "    }\n",
              "\n",
              "    .colab-df-convert {\n",
              "      background-color: #E8F0FE;\n",
              "      border: none;\n",
              "      border-radius: 50%;\n",
              "      cursor: pointer;\n",
              "      display: none;\n",
              "      fill: #1967D2;\n",
              "      height: 32px;\n",
              "      padding: 0 0 0 0;\n",
              "      width: 32px;\n",
              "    }\n",
              "\n",
              "    .colab-df-convert:hover {\n",
              "      background-color: #E2EBFA;\n",
              "      box-shadow: 0px 1px 2px rgba(60, 64, 67, 0.3), 0px 1px 3px 1px rgba(60, 64, 67, 0.15);\n",
              "      fill: #174EA6;\n",
              "    }\n",
              "\n",
              "    [theme=dark] .colab-df-convert {\n",
              "      background-color: #3B4455;\n",
              "      fill: #D2E3FC;\n",
              "    }\n",
              "\n",
              "    [theme=dark] .colab-df-convert:hover {\n",
              "      background-color: #434B5C;\n",
              "      box-shadow: 0px 1px 3px 1px rgba(0, 0, 0, 0.15);\n",
              "      filter: drop-shadow(0px 1px 2px rgba(0, 0, 0, 0.3));\n",
              "      fill: #FFFFFF;\n",
              "    }\n",
              "  </style>\n",
              "\n",
              "      <script>\n",
              "        const buttonEl =\n",
              "          document.querySelector('#df-8cb3cb50-cb0a-4f3d-854d-b8a32e72e4c0 button.colab-df-convert');\n",
              "        buttonEl.style.display =\n",
              "          google.colab.kernel.accessAllowed ? 'block' : 'none';\n",
              "\n",
              "        async function convertToInteractive(key) {\n",
              "          const element = document.querySelector('#df-8cb3cb50-cb0a-4f3d-854d-b8a32e72e4c0');\n",
              "          const dataTable =\n",
              "            await google.colab.kernel.invokeFunction('convertToInteractive',\n",
              "                                                     [key], {});\n",
              "          if (!dataTable) return;\n",
              "\n",
              "          const docLinkHtml = 'Like what you see? Visit the ' +\n",
              "            '<a target=\"_blank\" href=https://colab.research.google.com/notebooks/data_table.ipynb>data table notebook</a>'\n",
              "            + ' to learn more about interactive tables.';\n",
              "          element.innerHTML = '';\n",
              "          dataTable['output_type'] = 'display_data';\n",
              "          await google.colab.output.renderOutput(dataTable, element);\n",
              "          const docLink = document.createElement('div');\n",
              "          docLink.innerHTML = docLinkHtml;\n",
              "          element.appendChild(docLink);\n",
              "        }\n",
              "      </script>\n",
              "    </div>\n",
              "  </div>\n",
              "  "
            ]
          },
          "metadata": {},
          "execution_count": 31
        }
      ]
    },
    {
      "cell_type": "code",
      "source": [
        "newdf.info()"
      ],
      "metadata": {
        "colab": {
          "base_uri": "https://localhost:8080/"
        },
        "id": "_mLpl8k1cqP1",
        "outputId": "8ee559dc-5baf-4633-a6aa-39cf907dc551"
      },
      "execution_count": 32,
      "outputs": [
        {
          "output_type": "stream",
          "name": "stdout",
          "text": [
            "<class 'pandas.core.frame.DataFrame'>\n",
            "Int64Index: 18911 entries, 0 to 18980\n",
            "Data columns (total 8 columns):\n",
            " #   Column        Non-Null Count  Dtype  \n",
            "---  ------        --------------  -----  \n",
            " 0   name          18911 non-null  object \n",
            " 1   jobtitle      18911 non-null  float64\n",
            " 2   agencyid      18911 non-null  float64\n",
            " 3   agency        18911 non-null  float64\n",
            " 4   hiredate      18911 non-null  object \n",
            " 5   hiremonth     18911 non-null  object \n",
            " 6   hireyear      18911 non-null  object \n",
            " 7   annualsalary  18911 non-null  float64\n",
            "dtypes: float64(4), object(4)\n",
            "memory usage: 1.3+ MB\n"
          ]
        }
      ]
    },
    {
      "cell_type": "code",
      "source": [
        "newdf.annualsalary.plot.box()\n",
        "plt.grid()"
      ],
      "metadata": {
        "id": "8LRa5S_fDf2g",
        "colab": {
          "base_uri": "https://localhost:8080/",
          "height": 269
        },
        "outputId": "199d57cf-f24b-440f-abf7-be15e6d890ea"
      },
      "execution_count": 33,
      "outputs": [
        {
          "output_type": "display_data",
          "data": {
            "text/plain": [
              "<Figure size 432x288 with 1 Axes>"
            ],
            "image/png": "[encoded data removed]"
          },
          "metadata": {
            "needs_background": "light"
          }
        }
      ]
    },
    {
      "cell_type": "code",
      "source": [
        "# Plot Top 10 jobs based on hiring \n",
        "newdf.groupby(['jobtitle'])['name'].count().sort_values(ascending= False).head(10).plot.bar()"
      ],
      "metadata": {
        "id": "NnWXbRd2Df6H",
        "colab": {
          "base_uri": "https://localhost:8080/",
          "height": 399
        },
        "outputId": "ed6b1b7a-1ff6-46c8-ab6b-aafea239a4c5"
      },
      "execution_count": 34,
      "outputs": [
        {
          "output_type": "execute_result",
          "data": {
            "text/plain": [
              "<matplotlib.axes._subplots.AxesSubplot at 0x7f843dd10880>"
            ]
          },
          "metadata": {},
          "execution_count": 34
        },
        {
          "output_type": "display_data",
          "data": {
            "text/plain": [
              "<Figure size 432x288 with 1 Axes>"
            ],
            "image/png": "[encoded data removed]"
          },
          "metadata": {
            "needs_background": "light"
          }
        }
      ]
    },
    {
      "cell_type": "code",
      "source": [
        "# Plot top 10 jobs based on salary\n",
        "newdf.groupby(['jobtitle'])['annualsalary'].count().sort_values(ascending= False).head(10).plot.bar()"
      ],
      "metadata": {
        "id": "xukcznMSDf9u",
        "colab": {
          "base_uri": "https://localhost:8080/",
          "height": 399
        },
        "outputId": "c569aa87-e5af-4180-acdf-fd970ee3230f"
      },
      "execution_count": 35,
      "outputs": [
        {
          "output_type": "execute_result",
          "data": {
            "text/plain": [
              "<matplotlib.axes._subplots.AxesSubplot at 0x7f843df87700>"
            ]
          },
          "metadata": {},
          "execution_count": 35
        },
        {
          "output_type": "display_data",
          "data": {
            "text/plain": [
              "<Figure size 432x288 with 1 Axes>"
            ],
            "image/png": "[encoded data removed]"
          },
          "metadata": {
            "needs_background": "light"
          }
        }
      ]
    },
    {
      "cell_type": "code",
      "source": [
        "# Agency id that has highest number of employees\n",
        "newdf.groupby(['agencyid'])['name'].count().sort_values(ascending= False).head(10).plot.bar()"
      ],
      "metadata": {
        "id": "LuW9mJZnDgB3",
        "colab": {
          "base_uri": "https://localhost:8080/",
          "height": 399
        },
        "outputId": "635f8c77-9602-4290-ef51-2c61899516e9"
      },
      "execution_count": 36,
      "outputs": [
        {
          "output_type": "execute_result",
          "data": {
            "text/plain": [
              "<matplotlib.axes._subplots.AxesSubplot at 0x7f843e147d00>"
            ]
          },
          "metadata": {},
          "execution_count": 36
        },
        {
          "output_type": "display_data",
          "data": {
            "text/plain": [
              "<Figure size 432x288 with 1 Axes>"
            ],
            "image/png": "[encoded data removed]"
          },
          "metadata": {
            "needs_background": "light"
          }
        }
      ]
    },
    {
      "cell_type": "code",
      "source": [
        "# Hire Year v/s Salary\n",
        "newdf.groupby(['hireyear'])['annualsalary'].count().head(15).plot.bar()\n",
        "plt.grid()"
      ],
      "metadata": {
        "id": "bZU8YFriDgFb",
        "colab": {
          "base_uri": "https://localhost:8080/",
          "height": 295
        },
        "outputId": "4b8d0992-a67b-4797-e11e-de32e7bdaa9a"
      },
      "execution_count": 37,
      "outputs": [
        {
          "output_type": "display_data",
          "data": {
            "text/plain": [
              "<Figure size 432x288 with 1 Axes>"
            ],
            "image/png": "[encoded data removed]"
          },
          "metadata": {
            "needs_background": "light"
          }
        }
      ]
    },
    {
      "cell_type": "code",
      "source": [
        "# Avg. salary v/s hire month\n",
        "newdf.groupby(['hiremonth'])['annualsalary'].mean().plot.bar()"
      ],
      "metadata": {
        "id": "_jR_tTVqDgMu",
        "colab": {
          "base_uri": "https://localhost:8080/",
          "height": 299
        },
        "outputId": "849cdc77-9003-4f20-e403-68eb3ae053bd"
      },
      "execution_count": 38,
      "outputs": [
        {
          "output_type": "execute_result",
          "data": {
            "text/plain": [
              "<matplotlib.axes._subplots.AxesSubplot at 0x7f843d6e6ca0>"
            ]
          },
          "metadata": {},
          "execution_count": 38
        },
        {
          "output_type": "display_data",
          "data": {
            "text/plain": [
              "<Figure size 432x288 with 1 Axes>"
            ],
            "image/png": "[encoded data removed]"
          },
          "metadata": {
            "needs_background": "light"
          }
        }
      ]
    },
    {
      "cell_type": "code",
      "source": [
        "# Drop Name(As Dependent) and Hiredate(as Split into date, month and year)\n",
        "newdf.drop(['name', 'hiredate'], axis=1, inplace=True)"
      ],
      "metadata": {
        "id": "vg-KrVbBb729"
      },
      "execution_count": 39,
      "outputs": []
    },
    {
      "cell_type": "code",
      "source": [
        "plt.figure(figsize=(10,10))\n",
        "sns.pairplot(newdf)\n",
        "plt.show()\n",
        "# No correlation found whatsoever"
      ],
      "metadata": {
        "id": "wtmX_jumDgQY",
        "colab": {
          "base_uri": "https://localhost:8080/",
          "height": 743
        },
        "outputId": "d21ffb74-92e8-420f-d701-ab2a84d08a53"
      },
      "execution_count": 40,
      "outputs": [
        {
          "output_type": "display_data",
          "data": {
            "text/plain": [
              "<Figure size 720x720 with 0 Axes>"
            ]
          },
          "metadata": {}
        },
        {
          "output_type": "display_data",
          "data": {
            "text/plain": [
              "<Figure size 720x720 with 20 Axes>"
            ],
            "image/png": "[encoded data removed]"
          },
          "metadata": {
            "needs_background": "light"
          }
        }
      ]
    },
    {
      "cell_type": "code",
      "source": [
        "plt.figure(figsize= (10,5))\n",
        "sns.heatmap(newdf.corr(), annot= True)"
      ],
      "metadata": {
        "id": "Ljivz2edDgUH",
        "colab": {
          "base_uri": "https://localhost:8080/",
          "height": 341
        },
        "outputId": "700213a6-c3e4-47df-b57e-f2117c413b7b"
      },
      "execution_count": 41,
      "outputs": [
        {
          "output_type": "execute_result",
          "data": {
            "text/plain": [
              "<matplotlib.axes._subplots.AxesSubplot at 0x7f843e13fb20>"
            ]
          },
          "metadata": {},
          "execution_count": 41
        },
        {
          "output_type": "display_data",
          "data": {
            "text/plain": [
              "<Figure size 720x360 with 2 Axes>"
            ],
            "image/png": "[encoded data removed]"
          },
          "metadata": {
            "needs_background": "light"
          }
        }
      ]
    },
    {
      "cell_type": "markdown",
      "source": [
        "# Feature Selection"
      ],
      "metadata": {
        "id": "nksMbtj3VWFL"
      }
    },
    {
      "cell_type": "code",
      "source": [
        "X = newdf.iloc[:,:-1].values\n",
        "Y = newdf['annualsalary'].values"
      ],
      "metadata": {
        "id": "Jb3uWX1gZWTT"
      },
      "execution_count": 42,
      "outputs": []
    },
    {
      "cell_type": "code",
      "source": [
        "stanScaler = StandardScaler()"
      ],
      "metadata": {
        "id": "jwKc3xqlZWZf"
      },
      "execution_count": 43,
      "outputs": []
    },
    {
      "cell_type": "code",
      "source": [
        "X = stanScaler.fit_transform(X)\n",
        "Y = stanScaler.fit_transform(Y.reshape(-1,1))"
      ],
      "metadata": {
        "id": "1DRXc3bAZWcc"
      },
      "execution_count": 44,
      "outputs": []
    },
    {
      "cell_type": "markdown",
      "source": [
        "# Splitting the DataFrame"
      ],
      "metadata": {
        "id": "jlOOZHLu74i6"
      }
    },
    {
      "cell_type": "code",
      "source": [
        "X_train, X_test, Y_train, Y_test = train_test_split(X,Y, test_size=0.3, random_state=42)"
      ],
      "metadata": {
        "id": "vqNu7Az4ZWi_"
      },
      "execution_count": 45,
      "outputs": []
    },
    {
      "cell_type": "markdown",
      "source": [
        "# Choosing the Model"
      ],
      "metadata": {
        "id": "P-llQ-PE7xTT"
      }
    },
    {
      "cell_type": "code",
      "source": [
        "model = SVR(kernel='rbf')"
      ],
      "metadata": {
        "id": "iobt61viZWl1"
      },
      "execution_count": 46,
      "outputs": []
    },
    {
      "cell_type": "markdown",
      "source": [
        "# Training the Model"
      ],
      "metadata": {
        "id": "HvtpDh6s8KNZ"
      }
    },
    {
      "cell_type": "code",
      "source": [
        "model.fit(X_train, Y_train)"
      ],
      "metadata": {
        "id": "gFeuy0dGZWo9",
        "colab": {
          "base_uri": "https://localhost:8080/"
        },
        "outputId": "c72a2532-64bd-4fb1-9d5f-6c72ccf9dffe"
      },
      "execution_count": 47,
      "outputs": [
        {
          "output_type": "stream",
          "name": "stderr",
          "text": [
            "/usr/local/lib/python3.8/dist-packages/sklearn/utils/validation.py:993: DataConversionWarning: A column-vector y was passed when a 1d array was expected. Please change the shape of y to (n_samples, ), for example using ravel().\n",
            "  y = column_or_1d(y, warn=True)\n"
          ]
        },
        {
          "output_type": "execute_result",
          "data": {
            "text/plain": [
              "SVR()"
            ]
          },
          "metadata": {},
          "execution_count": 47
        }
      ]
    },
    {
      "cell_type": "code",
      "source": [
        "model.intercept_"
      ],
      "metadata": {
        "colab": {
          "base_uri": "https://localhost:8080/"
        },
        "id": "B9eH_Qv7Eq77",
        "outputId": "d2aa26e0-9a07-4171-f500-e336c2e73517"
      },
      "execution_count": 48,
      "outputs": [
        {
          "output_type": "execute_result",
          "data": {
            "text/plain": [
              "array([1.0221617])"
            ]
          },
          "metadata": {},
          "execution_count": 48
        }
      ]
    },
    {
      "cell_type": "markdown",
      "source": [
        "# Taking Prediction"
      ],
      "metadata": {
        "id": "MQGkHcHY8WAR"
      }
    },
    {
      "cell_type": "code",
      "source": [
        "Y_pred = model.predict(X_test)"
      ],
      "metadata": {
        "id": "mxg8qpGrZW14"
      },
      "execution_count": 49,
      "outputs": []
    },
    {
      "cell_type": "code",
      "source": [
        "Y_pred = stanScaler.inverse_transform(Y_pred.reshape(-1,1))\n",
        "Y_test = stanScaler.inverse_transform(Y_test.reshape(-1,1))"
      ],
      "metadata": {
        "id": "VfGZDMpbZW-m"
      },
      "execution_count": 50,
      "outputs": []
    },
    {
      "cell_type": "code",
      "source": [
        "plt.scatter(Y_test, Y_pred)\n",
        "plt.xlabel('Actual Salary')\n",
        "plt.ylabel('Predicted Salary')\n",
        "plt.grid()"
      ],
      "metadata": {
        "id": "BjVF08xbZXB9",
        "colab": {
          "base_uri": "https://localhost:8080/",
          "height": 279
        },
        "outputId": "c334b309-d798-4765-fbcb-727f672fffe1"
      },
      "execution_count": 51,
      "outputs": [
        {
          "output_type": "display_data",
          "data": {
            "text/plain": [
              "<Figure size 432x288 with 1 Axes>"
            ],
            "image/png": "[encoded data removed]"
          },
          "metadata": {
            "needs_background": "light"
          }
        }
      ]
    },
    {
      "cell_type": "code",
      "source": [
        "r2_score(Y_test, Y_pred)"
      ],
      "metadata": {
        "id": "If0uQUKwZXFH",
        "colab": {
          "base_uri": "https://localhost:8080/"
        },
        "outputId": "bd6c46fd-58dd-4d59-b935-13b08ea1c6bc"
      },
      "execution_count": 52,
      "outputs": [
        {
          "output_type": "execute_result",
          "data": {
            "text/plain": [
              "0.9723539987334092"
            ]
          },
          "metadata": {},
          "execution_count": 52
        }
      ]
    },
    {
      "cell_type": "code",
      "source": [
        "mean_absolute_error(Y_test, Y_pred)"
      ],
      "metadata": {
        "id": "t8b2SX3iZXIN",
        "colab": {
          "base_uri": "https://localhost:8080/"
        },
        "outputId": "47461a02-91a5-4cc0-d981-af441e6508f8"
      },
      "execution_count": 53,
      "outputs": [
        {
          "output_type": "execute_result",
          "data": {
            "text/plain": [
              "2273.751084363462"
            ]
          },
          "metadata": {},
          "execution_count": 53
        }
      ]
    },
    {
      "cell_type": "code",
      "source": [
        "mean_squared_error(Y_test, Y_pred)"
      ],
      "metadata": {
        "id": "PRF4lH6tZXLG",
        "colab": {
          "base_uri": "https://localhost:8080/"
        },
        "outputId": "16de3a2d-bf21-4f2c-bfce-bf244eba344f"
      },
      "execution_count": 54,
      "outputs": [
        {
          "output_type": "execute_result",
          "data": {
            "text/plain": [
              "17654691.040893927"
            ]
          },
          "metadata": {},
          "execution_count": 54
        }
      ]
    }
  ]
}