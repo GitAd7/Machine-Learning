{
  "nbformat": 4,
  "nbformat_minor": 0,
  "metadata": {
    "colab": {
      "provenance": [],
      "authorship_tag": "ABX9TyOj4bqy6h2q0vxy2i2xpW2f",
      "include_colab_link": true
    },
    "kernelspec": {
      "name": "python3",
      "display_name": "Python 3"
    },
    "language_info": {
      "name": "python"
    }
  },
  "cells": [
    {
      "cell_type": "markdown",
      "metadata": {
        "id": "view-in-github",
        "colab_type": "text"
      },
      "source": [
        "<a href=\"https://colab.research.google.com/github/GitAd7/Machine-Learning/blob/main/Tesla_Stock_Price_Prediction.ipynb\" target=\"_parent\"><img src=\"https://colab.research.google.com/assets/colab-badge.svg\" alt=\"Open In Colab\"/></a>"
      ]
    },
    {
      "cell_type": "markdown",
      "source": [
        "# Importing all the Libraries"
      ],
      "metadata": {
        "id": "h_tjYUO8MCds"
      }
    },
    {
      "cell_type": "code",
      "execution_count": 35,
      "metadata": {
        "id": "hW8wP_6hLyWF"
      },
      "outputs": [],
      "source": [
        "import pandas as pd\n",
        "import numpy as np\n",
        "import matplotlib.pyplot as plt\n",
        "import seaborn as sns\n",
        "import re\n",
        "from sklearn.metrics import mean_squared_error, mean_absolute_error, r2_score\n",
        "from sklearn.model_selection import train_test_split\n",
        "from sklearn.linear_model import LinearRegression\n",
        "import io"
      ]
    },
    {
      "cell_type": "markdown",
      "source": [
        "# Uploading csv file "
      ],
      "metadata": {
        "id": "SuJCS5nvSNxn"
      }
    },
    {
      "cell_type": "code",
      "source": [
        "from google.colab import files\n",
        "uploaded = files.upload()"
      ],
      "metadata": {
        "colab": {
          "base_uri": "https://localhost:8080/",
          "height": 73
        },
        "id": "mI4Zay0UL-zD",
        "outputId": "d288e4d4-f44c-473b-9f10-5ee958afc05d"
      },
      "execution_count": 18,
      "outputs": [
        {
          "output_type": "display_data",
          "data": {
            "text/plain": [
              "<IPython.core.display.HTML object>"
            ],
            "text/html": [
              "\n",
              "     <input type=\"file\" id=\"files-568ff540-2e44-4cd7-8d9e-83ee4496a630\" name=\"files[]\" multiple disabled\n",
              "        style=\"border:none\" />\n",
              "     <output id=\"result-568ff540-2e44-4cd7-8d9e-83ee4496a630\">\n",
              "      Upload widget is only available when the cell has been executed in the\n",
              "      current browser session. Please rerun this cell to enable.\n",
              "      </output>\n",
              "      <script>// Copyright 2017 Google LLC\n",
              "//\n",
              "// Licensed under the Apache License, Version 2.0 (the \"License\");\n",
              "// you may not use this file except in compliance with the License.\n",
              "// You may obtain a copy of the License at\n",
              "//\n",
              "//      http://www.apache.org/licenses/LICENSE-2.0\n",
              "//\n",
              "// Unless required by applicable law or agreed to in writing, software\n",
              "// distributed under the License is distributed on an \"AS IS\" BASIS,\n",
              "// WITHOUT WARRANTIES OR CONDITIONS OF ANY KIND, either express or implied.\n",
              "// See the License for the specific language governing permissions and\n",
              "// limitations under the License.\n",
              "\n",
              "/**\n",
              " * @fileoverview Helpers for google.colab Python module.\n",
              " */\n",
              "(function(scope) {\n",
              "function span(text, styleAttributes = {}) {\n",
              "  const element = document.createElement('span');\n",
              "  element.textContent = text;\n",
              "  for (const key of Object.keys(styleAttributes)) {\n",
              "    element.style[key] = styleAttributes[key];\n",
              "  }\n",
              "  return element;\n",
              "}\n",
              "\n",
              "// Max number of bytes which will be uploaded at a time.\n",
              "const MAX_PAYLOAD_SIZE = 100 * 1024;\n",
              "\n",
              "function _uploadFiles(inputId, outputId) {\n",
              "  const steps = uploadFilesStep(inputId, outputId);\n",
              "  const outputElement = document.getElementById(outputId);\n",
              "  // Cache steps on the outputElement to make it available for the next call\n",
              "  // to uploadFilesContinue from Python.\n",
              "  outputElement.steps = steps;\n",
              "\n",
              "  return _uploadFilesContinue(outputId);\n",
              "}\n",
              "\n",
              "// This is roughly an async generator (not supported in the browser yet),\n",
              "// where there are multiple asynchronous steps and the Python side is going\n",
              "// to poll for completion of each step.\n",
              "// This uses a Promise to block the python side on completion of each step,\n",
              "// then passes the result of the previous step as the input to the next step.\n",
              "function _uploadFilesContinue(outputId) {\n",
              "  const outputElement = document.getElementById(outputId);\n",
              "  const steps = outputElement.steps;\n",
              "\n",
              "  const next = steps.next(outputElement.lastPromiseValue);\n",
              "  return Promise.resolve(next.value.promise).then((value) => {\n",
              "    // Cache the last promise value to make it available to the next\n",
              "    // step of the generator.\n",
              "    outputElement.lastPromiseValue = value;\n",
              "    return next.value.response;\n",
              "  });\n",
              "}\n",
              "\n",
              "/**\n",
              " * Generator function which is called between each async step of the upload\n",
              " * process.\n",
              " * @param {string} inputId Element ID of the input file picker element.\n",
              " * @param {string} outputId Element ID of the output display.\n",
              " * @return {!Iterable<!Object>} Iterable of next steps.\n",
              " */\n",
              "function* uploadFilesStep(inputId, outputId) {\n",
              "  const inputElement = document.getElementById(inputId);\n",
              "  inputElement.disabled = false;\n",
              "\n",
              "  const outputElement = document.getElementById(outputId);\n",
              "  outputElement.innerHTML = '';\n",
              "\n",
              "  const pickedPromise = new Promise((resolve) => {\n",
              "    inputElement.addEventListener('change', (e) => {\n",
              "      resolve(e.target.files);\n",
              "    });\n",
              "  });\n",
              "\n",
              "  const cancel = document.createElement('button');\n",
              "  inputElement.parentElement.appendChild(cancel);\n",
              "  cancel.textContent = 'Cancel upload';\n",
              "  const cancelPromise = new Promise((resolve) => {\n",
              "    cancel.onclick = () => {\n",
              "      resolve(null);\n",
              "    };\n",
              "  });\n",
              "\n",
              "  // Wait for the user to pick the files.\n",
              "  const files = yield {\n",
              "    promise: Promise.race([pickedPromise, cancelPromise]),\n",
              "    response: {\n",
              "      action: 'starting',\n",
              "    }\n",
              "  };\n",
              "\n",
              "  cancel.remove();\n",
              "\n",
              "  // Disable the input element since further picks are not allowed.\n",
              "  inputElement.disabled = true;\n",
              "\n",
              "  if (!files) {\n",
              "    return {\n",
              "      response: {\n",
              "        action: 'complete',\n",
              "      }\n",
              "    };\n",
              "  }\n",
              "\n",
              "  for (const file of files) {\n",
              "    const li = document.createElement('li');\n",
              "    li.append(span(file.name, {fontWeight: 'bold'}));\n",
              "    li.append(span(\n",
              "        `(${file.type || 'n/a'}) - ${file.size} bytes, ` +\n",
              "        `last modified: ${\n",
              "            file.lastModifiedDate ? file.lastModifiedDate.toLocaleDateString() :\n",
              "                                    'n/a'} - `));\n",
              "    const percent = span('0% done');\n",
              "    li.appendChild(percent);\n",
              "\n",
              "    outputElement.appendChild(li);\n",
              "\n",
              "    const fileDataPromise = new Promise((resolve) => {\n",
              "      const reader = new FileReader();\n",
              "      reader.onload = (e) => {\n",
              "        resolve(e.target.result);\n",
              "      };\n",
              "      reader.readAsArrayBuffer(file);\n",
              "    });\n",
              "    // Wait for the data to be ready.\n",
              "    let fileData = yield {\n",
              "      promise: fileDataPromise,\n",
              "      response: {\n",
              "        action: 'continue',\n",
              "      }\n",
              "    };\n",
              "\n",
              "    // Use a chunked sending to avoid message size limits. See b/62115660.\n",
              "    let position = 0;\n",
              "    do {\n",
              "      const length = Math.min(fileData.byteLength - position, MAX_PAYLOAD_SIZE);\n",
              "      const chunk = new Uint8Array(fileData, position, length);\n",
              "      position += length;\n",
              "\n",
              "      const base64 = btoa(String.fromCharCode.apply(null, chunk));\n",
              "      yield {\n",
              "        response: {\n",
              "          action: 'append',\n",
              "          file: file.name,\n",
              "          data: base64,\n",
              "        },\n",
              "      };\n",
              "\n",
              "      let percentDone = fileData.byteLength === 0 ?\n",
              "          100 :\n",
              "          Math.round((position / fileData.byteLength) * 100);\n",
              "      percent.textContent = `${percentDone}% done`;\n",
              "\n",
              "    } while (position < fileData.byteLength);\n",
              "  }\n",
              "\n",
              "  // All done.\n",
              "  yield {\n",
              "    response: {\n",
              "      action: 'complete',\n",
              "    }\n",
              "  };\n",
              "}\n",
              "\n",
              "scope.google = scope.google || {};\n",
              "scope.google.colab = scope.google.colab || {};\n",
              "scope.google.colab._files = {\n",
              "  _uploadFiles,\n",
              "  _uploadFilesContinue,\n",
              "};\n",
              "})(self);\n",
              "</script> "
            ]
          },
          "metadata": {}
        },
        {
          "output_type": "stream",
          "name": "stdout",
          "text": [
            "Saving TSLA.csv to TSLA.csv\n"
          ]
        }
      ]
    },
    {
      "cell_type": "markdown",
      "source": [
        "# Problem Statement\n",
        "* We have been given a dataset that describes the stock price of TESLA company from 2010-2020. Now, on the basis of given features we have to predict the price of stock."
      ],
      "metadata": {
        "id": "66Tw19b0SXim"
      }
    },
    {
      "cell_type": "markdown",
      "source": [
        "# Creating a DataFrame"
      ],
      "metadata": {
        "id": "26zNIzl3NSiv"
      }
    },
    {
      "cell_type": "code",
      "source": [
        "df = pd.read_csv('TSLA.csv')"
      ],
      "metadata": {
        "id": "SdM5TqZ2L-2V"
      },
      "execution_count": 19,
      "outputs": []
    },
    {
      "cell_type": "code",
      "source": [
        "df.head()"
      ],
      "metadata": {
        "colab": {
          "base_uri": "https://localhost:8080/",
          "height": 206
        },
        "id": "57aCODfRL-5M",
        "outputId": "1aa4601e-2bc9-4c93-c852-8e1e3a867599"
      },
      "execution_count": 21,
      "outputs": [
        {
          "output_type": "execute_result",
          "data": {
            "text/plain": [
              "         Date       Open   High        Low      Close  Adj Close    Volume\n",
              "0  2010-06-29  19.000000  25.00  17.540001  23.889999  23.889999  18766300\n",
              "1  2010-06-30  25.790001  30.42  23.299999  23.830000  23.830000  17187100\n",
              "2  2010-07-01  25.000000  25.92  20.270000  21.959999  21.959999   8218800\n",
              "3  2010-07-02  23.000000  23.10  18.709999  19.200001  19.200001   5139800\n",
              "4  2010-07-06  20.000000  20.00  15.830000  16.110001  16.110001   6866900"
            ],
            "text/html": [
              "\n",
              "  <div id=\"df-e4a454f5-d217-4de6-9185-0471e85ed9e8\">\n",
              "    <div class=\"colab-df-container\">\n",
              "      <div>\n",
              "<style scoped>\n",
              "    .dataframe tbody tr th:only-of-type {\n",
              "        vertical-align: middle;\n",
              "    }\n",
              "\n",
              "    .dataframe tbody tr th {\n",
              "        vertical-align: top;\n",
              "    }\n",
              "\n",
              "    .dataframe thead th {\n",
              "        text-align: right;\n",
              "    }\n",
              "</style>\n",
              "<table border=\"1\" class=\"dataframe\">\n",
              "  <thead>\n",
              "    <tr style=\"text-align: right;\">\n",
              "      <th></th>\n",
              "      <th>Date</th>\n",
              "      <th>Open</th>\n",
              "      <th>High</th>\n",
              "      <th>Low</th>\n",
              "      <th>Close</th>\n",
              "      <th>Adj Close</th>\n",
              "      <th>Volume</th>\n",
              "    </tr>\n",
              "  </thead>\n",
              "  <tbody>\n",
              "    <tr>\n",
              "      <th>0</th>\n",
              "      <td>2010-06-29</td>\n",
              "      <td>19.000000</td>\n",
              "      <td>25.00</td>\n",
              "      <td>17.540001</td>\n",
              "      <td>23.889999</td>\n",
              "      <td>23.889999</td>\n",
              "      <td>18766300</td>\n",
              "    </tr>\n",
              "    <tr>\n",
              "      <th>1</th>\n",
              "      <td>2010-06-30</td>\n",
              "      <td>25.790001</td>\n",
              "      <td>30.42</td>\n",
              "      <td>23.299999</td>\n",
              "      <td>23.830000</td>\n",
              "      <td>23.830000</td>\n",
              "      <td>17187100</td>\n",
              "    </tr>\n",
              "    <tr>\n",
              "      <th>2</th>\n",
              "      <td>2010-07-01</td>\n",
              "      <td>25.000000</td>\n",
              "      <td>25.92</td>\n",
              "      <td>20.270000</td>\n",
              "      <td>21.959999</td>\n",
              "      <td>21.959999</td>\n",
              "      <td>8218800</td>\n",
              "    </tr>\n",
              "    <tr>\n",
              "      <th>3</th>\n",
              "      <td>2010-07-02</td>\n",
              "      <td>23.000000</td>\n",
              "      <td>23.10</td>\n",
              "      <td>18.709999</td>\n",
              "      <td>19.200001</td>\n",
              "      <td>19.200001</td>\n",
              "      <td>5139800</td>\n",
              "    </tr>\n",
              "    <tr>\n",
              "      <th>4</th>\n",
              "      <td>2010-07-06</td>\n",
              "      <td>20.000000</td>\n",
              "      <td>20.00</td>\n",
              "      <td>15.830000</td>\n",
              "      <td>16.110001</td>\n",
              "      <td>16.110001</td>\n",
              "      <td>6866900</td>\n",
              "    </tr>\n",
              "  </tbody>\n",
              "</table>\n",
              "</div>\n",
              "      <button class=\"colab-df-convert\" onclick=\"convertToInteractive('df-e4a454f5-d217-4de6-9185-0471e85ed9e8')\"\n",
              "              title=\"Convert this dataframe to an interactive table.\"\n",
              "              style=\"display:none;\">\n",
              "        \n",
              "  <svg xmlns=\"http://www.w3.org/2000/svg\" height=\"24px\"viewBox=\"0 0 24 24\"\n",
              "       width=\"24px\">\n",
              "    <path d=\"M0 0h24v24H0V0z\" fill=\"none\"/>\n",
              "    <path d=\"M18.56 5.44l.94 2.06.94-2.06 2.06-.94-2.06-.94-.94-2.06-.94 2.06-2.06.94zm-11 1L8.5 8.5l.94-2.06 2.06-.94-2.06-.94L8.5 2.5l-.94 2.06-2.06.94zm10 10l.94 2.06.94-2.06 2.06-.94-2.06-.94-.94-2.06-.94 2.06-2.06.94z\"/><path d=\"M17.41 7.96l-1.37-1.37c-.4-.4-.92-.59-1.43-.59-.52 0-1.04.2-1.43.59L10.3 9.45l-7.72 7.72c-.78.78-.78 2.05 0 2.83L4 21.41c.39.39.9.59 1.41.59.51 0 1.02-.2 1.41-.59l7.78-7.78 2.81-2.81c.8-.78.8-2.07 0-2.86zM5.41 20L4 18.59l7.72-7.72 1.47 1.35L5.41 20z\"/>\n",
              "  </svg>\n",
              "      </button>\n",
              "      \n",
              "  <style>\n",
              "    .colab-df-container {\n",
              "      display:flex;\n",
              "      flex-wrap:wrap;\n",
              "      gap: 12px;\n",
              "    }\n",
              "\n",
              "    .colab-df-convert {\n",
              "      background-color: #E8F0FE;\n",
              "      border: none;\n",
              "      border-radius: 50%;\n",
              "      cursor: pointer;\n",
              "      display: none;\n",
              "      fill: #1967D2;\n",
              "      height: 32px;\n",
              "      padding: 0 0 0 0;\n",
              "      width: 32px;\n",
              "    }\n",
              "\n",
              "    .colab-df-convert:hover {\n",
              "      background-color: #E2EBFA;\n",
              "      box-shadow: 0px 1px 2px rgba(60, 64, 67, 0.3), 0px 1px 3px 1px rgba(60, 64, 67, 0.15);\n",
              "      fill: #174EA6;\n",
              "    }\n",
              "\n",
              "    [theme=dark] .colab-df-convert {\n",
              "      background-color: #3B4455;\n",
              "      fill: #D2E3FC;\n",
              "    }\n",
              "\n",
              "    [theme=dark] .colab-df-convert:hover {\n",
              "      background-color: #434B5C;\n",
              "      box-shadow: 0px 1px 3px 1px rgba(0, 0, 0, 0.15);\n",
              "      filter: drop-shadow(0px 1px 2px rgba(0, 0, 0, 0.3));\n",
              "      fill: #FFFFFF;\n",
              "    }\n",
              "  </style>\n",
              "\n",
              "      <script>\n",
              "        const buttonEl =\n",
              "          document.querySelector('#df-e4a454f5-d217-4de6-9185-0471e85ed9e8 button.colab-df-convert');\n",
              "        buttonEl.style.display =\n",
              "          google.colab.kernel.accessAllowed ? 'block' : 'none';\n",
              "\n",
              "        async function convertToInteractive(key) {\n",
              "          const element = document.querySelector('#df-e4a454f5-d217-4de6-9185-0471e85ed9e8');\n",
              "          const dataTable =\n",
              "            await google.colab.kernel.invokeFunction('convertToInteractive',\n",
              "                                                     [key], {});\n",
              "          if (!dataTable) return;\n",
              "\n",
              "          const docLinkHtml = 'Like what you see? Visit the ' +\n",
              "            '<a target=\"_blank\" href=https://colab.research.google.com/notebooks/data_table.ipynb>data table notebook</a>'\n",
              "            + ' to learn more about interactive tables.';\n",
              "          element.innerHTML = '';\n",
              "          dataTable['output_type'] = 'display_data';\n",
              "          await google.colab.output.renderOutput(dataTable, element);\n",
              "          const docLink = document.createElement('div');\n",
              "          docLink.innerHTML = docLinkHtml;\n",
              "          element.appendChild(docLink);\n",
              "        }\n",
              "      </script>\n",
              "    </div>\n",
              "  </div>\n",
              "  "
            ]
          },
          "metadata": {},
          "execution_count": 21
        }
      ]
    },
    {
      "cell_type": "markdown",
      "source": [
        "# EDA - Exploratory Data Analysis"
      ],
      "metadata": {
        "id": "wsI9IJx8S_5k"
      }
    },
    {
      "cell_type": "code",
      "source": [
        "df.head()"
      ],
      "metadata": {
        "colab": {
          "base_uri": "https://localhost:8080/",
          "height": 206
        },
        "id": "bucRc6CaL-8E",
        "outputId": "11bc9beb-48f2-4731-d624-8bc6c07c1c6b"
      },
      "execution_count": 22,
      "outputs": [
        {
          "output_type": "execute_result",
          "data": {
            "text/plain": [
              "         Date       Open   High        Low      Close  Adj Close    Volume\n",
              "0  2010-06-29  19.000000  25.00  17.540001  23.889999  23.889999  18766300\n",
              "1  2010-06-30  25.790001  30.42  23.299999  23.830000  23.830000  17187100\n",
              "2  2010-07-01  25.000000  25.92  20.270000  21.959999  21.959999   8218800\n",
              "3  2010-07-02  23.000000  23.10  18.709999  19.200001  19.200001   5139800\n",
              "4  2010-07-06  20.000000  20.00  15.830000  16.110001  16.110001   6866900"
            ],
            "text/html": [
              "\n",
              "  <div id=\"df-5fb1ce32-17fb-4493-a312-84da96f13476\">\n",
              "    <div class=\"colab-df-container\">\n",
              "      <div>\n",
              "<style scoped>\n",
              "    .dataframe tbody tr th:only-of-type {\n",
              "        vertical-align: middle;\n",
              "    }\n",
              "\n",
              "    .dataframe tbody tr th {\n",
              "        vertical-align: top;\n",
              "    }\n",
              "\n",
              "    .dataframe thead th {\n",
              "        text-align: right;\n",
              "    }\n",
              "</style>\n",
              "<table border=\"1\" class=\"dataframe\">\n",
              "  <thead>\n",
              "    <tr style=\"text-align: right;\">\n",
              "      <th></th>\n",
              "      <th>Date</th>\n",
              "      <th>Open</th>\n",
              "      <th>High</th>\n",
              "      <th>Low</th>\n",
              "      <th>Close</th>\n",
              "      <th>Adj Close</th>\n",
              "      <th>Volume</th>\n",
              "    </tr>\n",
              "  </thead>\n",
              "  <tbody>\n",
              "    <tr>\n",
              "      <th>0</th>\n",
              "      <td>2010-06-29</td>\n",
              "      <td>19.000000</td>\n",
              "      <td>25.00</td>\n",
              "      <td>17.540001</td>\n",
              "      <td>23.889999</td>\n",
              "      <td>23.889999</td>\n",
              "      <td>18766300</td>\n",
              "    </tr>\n",
              "    <tr>\n",
              "      <th>1</th>\n",
              "      <td>2010-06-30</td>\n",
              "      <td>25.790001</td>\n",
              "      <td>30.42</td>\n",
              "      <td>23.299999</td>\n",
              "      <td>23.830000</td>\n",
              "      <td>23.830000</td>\n",
              "      <td>17187100</td>\n",
              "    </tr>\n",
              "    <tr>\n",
              "      <th>2</th>\n",
              "      <td>2010-07-01</td>\n",
              "      <td>25.000000</td>\n",
              "      <td>25.92</td>\n",
              "      <td>20.270000</td>\n",
              "      <td>21.959999</td>\n",
              "      <td>21.959999</td>\n",
              "      <td>8218800</td>\n",
              "    </tr>\n",
              "    <tr>\n",
              "      <th>3</th>\n",
              "      <td>2010-07-02</td>\n",
              "      <td>23.000000</td>\n",
              "      <td>23.10</td>\n",
              "      <td>18.709999</td>\n",
              "      <td>19.200001</td>\n",
              "      <td>19.200001</td>\n",
              "      <td>5139800</td>\n",
              "    </tr>\n",
              "    <tr>\n",
              "      <th>4</th>\n",
              "      <td>2010-07-06</td>\n",
              "      <td>20.000000</td>\n",
              "      <td>20.00</td>\n",
              "      <td>15.830000</td>\n",
              "      <td>16.110001</td>\n",
              "      <td>16.110001</td>\n",
              "      <td>6866900</td>\n",
              "    </tr>\n",
              "  </tbody>\n",
              "</table>\n",
              "</div>\n",
              "      <button class=\"colab-df-convert\" onclick=\"convertToInteractive('df-5fb1ce32-17fb-4493-a312-84da96f13476')\"\n",
              "              title=\"Convert this dataframe to an interactive table.\"\n",
              "              style=\"display:none;\">\n",
              "        \n",
              "  <svg xmlns=\"http://www.w3.org/2000/svg\" height=\"24px\"viewBox=\"0 0 24 24\"\n",
              "       width=\"24px\">\n",
              "    <path d=\"M0 0h24v24H0V0z\" fill=\"none\"/>\n",
              "    <path d=\"M18.56 5.44l.94 2.06.94-2.06 2.06-.94-2.06-.94-.94-2.06-.94 2.06-2.06.94zm-11 1L8.5 8.5l.94-2.06 2.06-.94-2.06-.94L8.5 2.5l-.94 2.06-2.06.94zm10 10l.94 2.06.94-2.06 2.06-.94-2.06-.94-.94-2.06-.94 2.06-2.06.94z\"/><path d=\"M17.41 7.96l-1.37-1.37c-.4-.4-.92-.59-1.43-.59-.52 0-1.04.2-1.43.59L10.3 9.45l-7.72 7.72c-.78.78-.78 2.05 0 2.83L4 21.41c.39.39.9.59 1.41.59.51 0 1.02-.2 1.41-.59l7.78-7.78 2.81-2.81c.8-.78.8-2.07 0-2.86zM5.41 20L4 18.59l7.72-7.72 1.47 1.35L5.41 20z\"/>\n",
              "  </svg>\n",
              "      </button>\n",
              "      \n",
              "  <style>\n",
              "    .colab-df-container {\n",
              "      display:flex;\n",
              "      flex-wrap:wrap;\n",
              "      gap: 12px;\n",
              "    }\n",
              "\n",
              "    .colab-df-convert {\n",
              "      background-color: #E8F0FE;\n",
              "      border: none;\n",
              "      border-radius: 50%;\n",
              "      cursor: pointer;\n",
              "      display: none;\n",
              "      fill: #1967D2;\n",
              "      height: 32px;\n",
              "      padding: 0 0 0 0;\n",
              "      width: 32px;\n",
              "    }\n",
              "\n",
              "    .colab-df-convert:hover {\n",
              "      background-color: #E2EBFA;\n",
              "      box-shadow: 0px 1px 2px rgba(60, 64, 67, 0.3), 0px 1px 3px 1px rgba(60, 64, 67, 0.15);\n",
              "      fill: #174EA6;\n",
              "    }\n",
              "\n",
              "    [theme=dark] .colab-df-convert {\n",
              "      background-color: #3B4455;\n",
              "      fill: #D2E3FC;\n",
              "    }\n",
              "\n",
              "    [theme=dark] .colab-df-convert:hover {\n",
              "      background-color: #434B5C;\n",
              "      box-shadow: 0px 1px 3px 1px rgba(0, 0, 0, 0.15);\n",
              "      filter: drop-shadow(0px 1px 2px rgba(0, 0, 0, 0.3));\n",
              "      fill: #FFFFFF;\n",
              "    }\n",
              "  </style>\n",
              "\n",
              "      <script>\n",
              "        const buttonEl =\n",
              "          document.querySelector('#df-5fb1ce32-17fb-4493-a312-84da96f13476 button.colab-df-convert');\n",
              "        buttonEl.style.display =\n",
              "          google.colab.kernel.accessAllowed ? 'block' : 'none';\n",
              "\n",
              "        async function convertToInteractive(key) {\n",
              "          const element = document.querySelector('#df-5fb1ce32-17fb-4493-a312-84da96f13476');\n",
              "          const dataTable =\n",
              "            await google.colab.kernel.invokeFunction('convertToInteractive',\n",
              "                                                     [key], {});\n",
              "          if (!dataTable) return;\n",
              "\n",
              "          const docLinkHtml = 'Like what you see? Visit the ' +\n",
              "            '<a target=\"_blank\" href=https://colab.research.google.com/notebooks/data_table.ipynb>data table notebook</a>'\n",
              "            + ' to learn more about interactive tables.';\n",
              "          element.innerHTML = '';\n",
              "          dataTable['output_type'] = 'display_data';\n",
              "          await google.colab.output.renderOutput(dataTable, element);\n",
              "          const docLink = document.createElement('div');\n",
              "          docLink.innerHTML = docLinkHtml;\n",
              "          element.appendChild(docLink);\n",
              "        }\n",
              "      </script>\n",
              "    </div>\n",
              "  </div>\n",
              "  "
            ]
          },
          "metadata": {},
          "execution_count": 22
        }
      ]
    },
    {
      "cell_type": "code",
      "source": [
        "df.tail()"
      ],
      "metadata": {
        "colab": {
          "base_uri": "https://localhost:8080/",
          "height": 206
        },
        "id": "uRqiICwhL-_D",
        "outputId": "6814de7d-7652-457b-a23a-cd0a31ac29ba"
      },
      "execution_count": 24,
      "outputs": [
        {
          "output_type": "execute_result",
          "data": {
            "text/plain": [
              "            Date        Open        High         Low       Close   Adj Close  \\\n",
              "2411  2020-01-28  568.489990  576.809998  558.080017  566.900024  566.900024   \n",
              "2412  2020-01-29  575.690002  589.799988  567.429993  580.989990  580.989990   \n",
              "2413  2020-01-30  632.419983  650.880005  618.000000  640.809998  640.809998   \n",
              "2414  2020-01-31  640.000000  653.000000  632.520020  650.570007  650.570007   \n",
              "2415  2020-02-03  673.690002  786.140015  673.520020  780.000000  780.000000   \n",
              "\n",
              "        Volume  \n",
              "2411  11788500  \n",
              "2412  17801500  \n",
              "2413  29005700  \n",
              "2414  15719300  \n",
              "2415  47065000  "
            ],
            "text/html": [
              "\n",
              "  <div id=\"df-fb2dd902-30ae-401f-ac54-5f09975abb04\">\n",
              "    <div class=\"colab-df-container\">\n",
              "      <div>\n",
              "<style scoped>\n",
              "    .dataframe tbody tr th:only-of-type {\n",
              "        vertical-align: middle;\n",
              "    }\n",
              "\n",
              "    .dataframe tbody tr th {\n",
              "        vertical-align: top;\n",
              "    }\n",
              "\n",
              "    .dataframe thead th {\n",
              "        text-align: right;\n",
              "    }\n",
              "</style>\n",
              "<table border=\"1\" class=\"dataframe\">\n",
              "  <thead>\n",
              "    <tr style=\"text-align: right;\">\n",
              "      <th></th>\n",
              "      <th>Date</th>\n",
              "      <th>Open</th>\n",
              "      <th>High</th>\n",
              "      <th>Low</th>\n",
              "      <th>Close</th>\n",
              "      <th>Adj Close</th>\n",
              "      <th>Volume</th>\n",
              "    </tr>\n",
              "  </thead>\n",
              "  <tbody>\n",
              "    <tr>\n",
              "      <th>2411</th>\n",
              "      <td>2020-01-28</td>\n",
              "      <td>568.489990</td>\n",
              "      <td>576.809998</td>\n",
              "      <td>558.080017</td>\n",
              "      <td>566.900024</td>\n",
              "      <td>566.900024</td>\n",
              "      <td>11788500</td>\n",
              "    </tr>\n",
              "    <tr>\n",
              "      <th>2412</th>\n",
              "      <td>2020-01-29</td>\n",
              "      <td>575.690002</td>\n",
              "      <td>589.799988</td>\n",
              "      <td>567.429993</td>\n",
              "      <td>580.989990</td>\n",
              "      <td>580.989990</td>\n",
              "      <td>17801500</td>\n",
              "    </tr>\n",
              "    <tr>\n",
              "      <th>2413</th>\n",
              "      <td>2020-01-30</td>\n",
              "      <td>632.419983</td>\n",
              "      <td>650.880005</td>\n",
              "      <td>618.000000</td>\n",
              "      <td>640.809998</td>\n",
              "      <td>640.809998</td>\n",
              "      <td>29005700</td>\n",
              "    </tr>\n",
              "    <tr>\n",
              "      <th>2414</th>\n",
              "      <td>2020-01-31</td>\n",
              "      <td>640.000000</td>\n",
              "      <td>653.000000</td>\n",
              "      <td>632.520020</td>\n",
              "      <td>650.570007</td>\n",
              "      <td>650.570007</td>\n",
              "      <td>15719300</td>\n",
              "    </tr>\n",
              "    <tr>\n",
              "      <th>2415</th>\n",
              "      <td>2020-02-03</td>\n",
              "      <td>673.690002</td>\n",
              "      <td>786.140015</td>\n",
              "      <td>673.520020</td>\n",
              "      <td>780.000000</td>\n",
              "      <td>780.000000</td>\n",
              "      <td>47065000</td>\n",
              "    </tr>\n",
              "  </tbody>\n",
              "</table>\n",
              "</div>\n",
              "      <button class=\"colab-df-convert\" onclick=\"convertToInteractive('df-fb2dd902-30ae-401f-ac54-5f09975abb04')\"\n",
              "              title=\"Convert this dataframe to an interactive table.\"\n",
              "              style=\"display:none;\">\n",
              "        \n",
              "  <svg xmlns=\"http://www.w3.org/2000/svg\" height=\"24px\"viewBox=\"0 0 24 24\"\n",
              "       width=\"24px\">\n",
              "    <path d=\"M0 0h24v24H0V0z\" fill=\"none\"/>\n",
              "    <path d=\"M18.56 5.44l.94 2.06.94-2.06 2.06-.94-2.06-.94-.94-2.06-.94 2.06-2.06.94zm-11 1L8.5 8.5l.94-2.06 2.06-.94-2.06-.94L8.5 2.5l-.94 2.06-2.06.94zm10 10l.94 2.06.94-2.06 2.06-.94-2.06-.94-.94-2.06-.94 2.06-2.06.94z\"/><path d=\"M17.41 7.96l-1.37-1.37c-.4-.4-.92-.59-1.43-.59-.52 0-1.04.2-1.43.59L10.3 9.45l-7.72 7.72c-.78.78-.78 2.05 0 2.83L4 21.41c.39.39.9.59 1.41.59.51 0 1.02-.2 1.41-.59l7.78-7.78 2.81-2.81c.8-.78.8-2.07 0-2.86zM5.41 20L4 18.59l7.72-7.72 1.47 1.35L5.41 20z\"/>\n",
              "  </svg>\n",
              "      </button>\n",
              "      \n",
              "  <style>\n",
              "    .colab-df-container {\n",
              "      display:flex;\n",
              "      flex-wrap:wrap;\n",
              "      gap: 12px;\n",
              "    }\n",
              "\n",
              "    .colab-df-convert {\n",
              "      background-color: #E8F0FE;\n",
              "      border: none;\n",
              "      border-radius: 50%;\n",
              "      cursor: pointer;\n",
              "      display: none;\n",
              "      fill: #1967D2;\n",
              "      height: 32px;\n",
              "      padding: 0 0 0 0;\n",
              "      width: 32px;\n",
              "    }\n",
              "\n",
              "    .colab-df-convert:hover {\n",
              "      background-color: #E2EBFA;\n",
              "      box-shadow: 0px 1px 2px rgba(60, 64, 67, 0.3), 0px 1px 3px 1px rgba(60, 64, 67, 0.15);\n",
              "      fill: #174EA6;\n",
              "    }\n",
              "\n",
              "    [theme=dark] .colab-df-convert {\n",
              "      background-color: #3B4455;\n",
              "      fill: #D2E3FC;\n",
              "    }\n",
              "\n",
              "    [theme=dark] .colab-df-convert:hover {\n",
              "      background-color: #434B5C;\n",
              "      box-shadow: 0px 1px 3px 1px rgba(0, 0, 0, 0.15);\n",
              "      filter: drop-shadow(0px 1px 2px rgba(0, 0, 0, 0.3));\n",
              "      fill: #FFFFFF;\n",
              "    }\n",
              "  </style>\n",
              "\n",
              "      <script>\n",
              "        const buttonEl =\n",
              "          document.querySelector('#df-fb2dd902-30ae-401f-ac54-5f09975abb04 button.colab-df-convert');\n",
              "        buttonEl.style.display =\n",
              "          google.colab.kernel.accessAllowed ? 'block' : 'none';\n",
              "\n",
              "        async function convertToInteractive(key) {\n",
              "          const element = document.querySelector('#df-fb2dd902-30ae-401f-ac54-5f09975abb04');\n",
              "          const dataTable =\n",
              "            await google.colab.kernel.invokeFunction('convertToInteractive',\n",
              "                                                     [key], {});\n",
              "          if (!dataTable) return;\n",
              "\n",
              "          const docLinkHtml = 'Like what you see? Visit the ' +\n",
              "            '<a target=\"_blank\" href=https://colab.research.google.com/notebooks/data_table.ipynb>data table notebook</a>'\n",
              "            + ' to learn more about interactive tables.';\n",
              "          element.innerHTML = '';\n",
              "          dataTable['output_type'] = 'display_data';\n",
              "          await google.colab.output.renderOutput(dataTable, element);\n",
              "          const docLink = document.createElement('div');\n",
              "          docLink.innerHTML = docLinkHtml;\n",
              "          element.appendChild(docLink);\n",
              "        }\n",
              "      </script>\n",
              "    </div>\n",
              "  </div>\n",
              "  "
            ]
          },
          "metadata": {},
          "execution_count": 24
        }
      ]
    },
    {
      "cell_type": "code",
      "source": [
        "df.dtypes"
      ],
      "metadata": {
        "colab": {
          "base_uri": "https://localhost:8080/"
        },
        "id": "hP3mKpLiL_B7",
        "outputId": "b2d71b6b-abb9-40dc-c5c8-8c1d537b3728"
      },
      "execution_count": 26,
      "outputs": [
        {
          "output_type": "execute_result",
          "data": {
            "text/plain": [
              "Date          object\n",
              "Open         float64\n",
              "High         float64\n",
              "Low          float64\n",
              "Close        float64\n",
              "Adj Close    float64\n",
              "Volume         int64\n",
              "dtype: object"
            ]
          },
          "metadata": {},
          "execution_count": 26
        }
      ]
    },
    {
      "cell_type": "code",
      "source": [
        "df.shape"
      ],
      "metadata": {
        "colab": {
          "base_uri": "https://localhost:8080/"
        },
        "id": "ZFURO7ddL_FD",
        "outputId": "da69d039-de08-4721-b76d-14aee792fa51"
      },
      "execution_count": 27,
      "outputs": [
        {
          "output_type": "execute_result",
          "data": {
            "text/plain": [
              "(2416, 7)"
            ]
          },
          "metadata": {},
          "execution_count": 27
        }
      ]
    },
    {
      "cell_type": "code",
      "source": [
        "df.nunique()"
      ],
      "metadata": {
        "colab": {
          "base_uri": "https://localhost:8080/"
        },
        "id": "9RXZkzOtL_IY",
        "outputId": "3385e019-5d52-475b-a896-80b2c8425a65"
      },
      "execution_count": 29,
      "outputs": [
        {
          "output_type": "execute_result",
          "data": {
            "text/plain": [
              "Date         2416\n",
              "Open         2132\n",
              "High         2128\n",
              "Low          2136\n",
              "Close        2225\n",
              "Adj Close    2225\n",
              "Volume       2391\n",
              "dtype: int64"
            ]
          },
          "metadata": {},
          "execution_count": 29
        }
      ]
    },
    {
      "cell_type": "code",
      "source": [
        "df.isnull().sum()"
      ],
      "metadata": {
        "colab": {
          "base_uri": "https://localhost:8080/"
        },
        "id": "-k6QBcYzL_LT",
        "outputId": "aac87142-4439-42a3-e195-16241d732c40"
      },
      "execution_count": 31,
      "outputs": [
        {
          "output_type": "execute_result",
          "data": {
            "text/plain": [
              "Date         0\n",
              "Open         0\n",
              "High         0\n",
              "Low          0\n",
              "Close        0\n",
              "Adj Close    0\n",
              "Volume       0\n",
              "dtype: int64"
            ]
          },
          "metadata": {},
          "execution_count": 31
        }
      ]
    },
    {
      "cell_type": "code",
      "source": [
        "df.describe()"
      ],
      "metadata": {
        "colab": {
          "base_uri": "https://localhost:8080/",
          "height": 300
        },
        "id": "ivRgym7tL_OL",
        "outputId": "55867415-6e09-42c5-f97d-173c90b0b410"
      },
      "execution_count": 32,
      "outputs": [
        {
          "output_type": "execute_result",
          "data": {
            "text/plain": [
              "              Open         High          Low        Close    Adj Close  \\\n",
              "count  2416.000000  2416.000000  2416.000000  2416.000000  2416.000000   \n",
              "mean    186.271147   189.578224   182.916639   186.403651   186.403651   \n",
              "std     118.740163   120.892329   116.857591   119.136020   119.136020   \n",
              "min      16.139999    16.629999    14.980000    15.800000    15.800000   \n",
              "25%      34.342498    34.897501    33.587501    34.400002    34.400002   \n",
              "50%     213.035004   216.745002   208.870002   212.960007   212.960007   \n",
              "75%     266.450012   270.927513   262.102501   266.774994   266.774994   \n",
              "max     673.690002   786.140015   673.520020   780.000000   780.000000   \n",
              "\n",
              "             Volume  \n",
              "count  2.416000e+03  \n",
              "mean   5.572722e+06  \n",
              "std    4.987809e+06  \n",
              "min    1.185000e+05  \n",
              "25%    1.899275e+06  \n",
              "50%    4.578400e+06  \n",
              "75%    7.361150e+06  \n",
              "max    4.706500e+07  "
            ],
            "text/html": [
              "\n",
              "  <div id=\"df-96e57f5a-a343-42e0-a094-54fc53f297c2\">\n",
              "    <div class=\"colab-df-container\">\n",
              "      <div>\n",
              "<style scoped>\n",
              "    .dataframe tbody tr th:only-of-type {\n",
              "        vertical-align: middle;\n",
              "    }\n",
              "\n",
              "    .dataframe tbody tr th {\n",
              "        vertical-align: top;\n",
              "    }\n",
              "\n",
              "    .dataframe thead th {\n",
              "        text-align: right;\n",
              "    }\n",
              "</style>\n",
              "<table border=\"1\" class=\"dataframe\">\n",
              "  <thead>\n",
              "    <tr style=\"text-align: right;\">\n",
              "      <th></th>\n",
              "      <th>Open</th>\n",
              "      <th>High</th>\n",
              "      <th>Low</th>\n",
              "      <th>Close</th>\n",
              "      <th>Adj Close</th>\n",
              "      <th>Volume</th>\n",
              "    </tr>\n",
              "  </thead>\n",
              "  <tbody>\n",
              "    <tr>\n",
              "      <th>count</th>\n",
              "      <td>2416.000000</td>\n",
              "      <td>2416.000000</td>\n",
              "      <td>2416.000000</td>\n",
              "      <td>2416.000000</td>\n",
              "      <td>2416.000000</td>\n",
              "      <td>2.416000e+03</td>\n",
              "    </tr>\n",
              "    <tr>\n",
              "      <th>mean</th>\n",
              "      <td>186.271147</td>\n",
              "      <td>189.578224</td>\n",
              "      <td>182.916639</td>\n",
              "      <td>186.403651</td>\n",
              "      <td>186.403651</td>\n",
              "      <td>5.572722e+06</td>\n",
              "    </tr>\n",
              "    <tr>\n",
              "      <th>std</th>\n",
              "      <td>118.740163</td>\n",
              "      <td>120.892329</td>\n",
              "      <td>116.857591</td>\n",
              "      <td>119.136020</td>\n",
              "      <td>119.136020</td>\n",
              "      <td>4.987809e+06</td>\n",
              "    </tr>\n",
              "    <tr>\n",
              "      <th>min</th>\n",
              "      <td>16.139999</td>\n",
              "      <td>16.629999</td>\n",
              "      <td>14.980000</td>\n",
              "      <td>15.800000</td>\n",
              "      <td>15.800000</td>\n",
              "      <td>1.185000e+05</td>\n",
              "    </tr>\n",
              "    <tr>\n",
              "      <th>25%</th>\n",
              "      <td>34.342498</td>\n",
              "      <td>34.897501</td>\n",
              "      <td>33.587501</td>\n",
              "      <td>34.400002</td>\n",
              "      <td>34.400002</td>\n",
              "      <td>1.899275e+06</td>\n",
              "    </tr>\n",
              "    <tr>\n",
              "      <th>50%</th>\n",
              "      <td>213.035004</td>\n",
              "      <td>216.745002</td>\n",
              "      <td>208.870002</td>\n",
              "      <td>212.960007</td>\n",
              "      <td>212.960007</td>\n",
              "      <td>4.578400e+06</td>\n",
              "    </tr>\n",
              "    <tr>\n",
              "      <th>75%</th>\n",
              "      <td>266.450012</td>\n",
              "      <td>270.927513</td>\n",
              "      <td>262.102501</td>\n",
              "      <td>266.774994</td>\n",
              "      <td>266.774994</td>\n",
              "      <td>7.361150e+06</td>\n",
              "    </tr>\n",
              "    <tr>\n",
              "      <th>max</th>\n",
              "      <td>673.690002</td>\n",
              "      <td>786.140015</td>\n",
              "      <td>673.520020</td>\n",
              "      <td>780.000000</td>\n",
              "      <td>780.000000</td>\n",
              "      <td>4.706500e+07</td>\n",
              "    </tr>\n",
              "  </tbody>\n",
              "</table>\n",
              "</div>\n",
              "      <button class=\"colab-df-convert\" onclick=\"convertToInteractive('df-96e57f5a-a343-42e0-a094-54fc53f297c2')\"\n",
              "              title=\"Convert this dataframe to an interactive table.\"\n",
              "              style=\"display:none;\">\n",
              "        \n",
              "  <svg xmlns=\"http://www.w3.org/2000/svg\" height=\"24px\"viewBox=\"0 0 24 24\"\n",
              "       width=\"24px\">\n",
              "    <path d=\"M0 0h24v24H0V0z\" fill=\"none\"/>\n",
              "    <path d=\"M18.56 5.44l.94 2.06.94-2.06 2.06-.94-2.06-.94-.94-2.06-.94 2.06-2.06.94zm-11 1L8.5 8.5l.94-2.06 2.06-.94-2.06-.94L8.5 2.5l-.94 2.06-2.06.94zm10 10l.94 2.06.94-2.06 2.06-.94-2.06-.94-.94-2.06-.94 2.06-2.06.94z\"/><path d=\"M17.41 7.96l-1.37-1.37c-.4-.4-.92-.59-1.43-.59-.52 0-1.04.2-1.43.59L10.3 9.45l-7.72 7.72c-.78.78-.78 2.05 0 2.83L4 21.41c.39.39.9.59 1.41.59.51 0 1.02-.2 1.41-.59l7.78-7.78 2.81-2.81c.8-.78.8-2.07 0-2.86zM5.41 20L4 18.59l7.72-7.72 1.47 1.35L5.41 20z\"/>\n",
              "  </svg>\n",
              "      </button>\n",
              "      \n",
              "  <style>\n",
              "    .colab-df-container {\n",
              "      display:flex;\n",
              "      flex-wrap:wrap;\n",
              "      gap: 12px;\n",
              "    }\n",
              "\n",
              "    .colab-df-convert {\n",
              "      background-color: #E8F0FE;\n",
              "      border: none;\n",
              "      border-radius: 50%;\n",
              "      cursor: pointer;\n",
              "      display: none;\n",
              "      fill: #1967D2;\n",
              "      height: 32px;\n",
              "      padding: 0 0 0 0;\n",
              "      width: 32px;\n",
              "    }\n",
              "\n",
              "    .colab-df-convert:hover {\n",
              "      background-color: #E2EBFA;\n",
              "      box-shadow: 0px 1px 2px rgba(60, 64, 67, 0.3), 0px 1px 3px 1px rgba(60, 64, 67, 0.15);\n",
              "      fill: #174EA6;\n",
              "    }\n",
              "\n",
              "    [theme=dark] .colab-df-convert {\n",
              "      background-color: #3B4455;\n",
              "      fill: #D2E3FC;\n",
              "    }\n",
              "\n",
              "    [theme=dark] .colab-df-convert:hover {\n",
              "      background-color: #434B5C;\n",
              "      box-shadow: 0px 1px 3px 1px rgba(0, 0, 0, 0.15);\n",
              "      filter: drop-shadow(0px 1px 2px rgba(0, 0, 0, 0.3));\n",
              "      fill: #FFFFFF;\n",
              "    }\n",
              "  </style>\n",
              "\n",
              "      <script>\n",
              "        const buttonEl =\n",
              "          document.querySelector('#df-96e57f5a-a343-42e0-a094-54fc53f297c2 button.colab-df-convert');\n",
              "        buttonEl.style.display =\n",
              "          google.colab.kernel.accessAllowed ? 'block' : 'none';\n",
              "\n",
              "        async function convertToInteractive(key) {\n",
              "          const element = document.querySelector('#df-96e57f5a-a343-42e0-a094-54fc53f297c2');\n",
              "          const dataTable =\n",
              "            await google.colab.kernel.invokeFunction('convertToInteractive',\n",
              "                                                     [key], {});\n",
              "          if (!dataTable) return;\n",
              "\n",
              "          const docLinkHtml = 'Like what you see? Visit the ' +\n",
              "            '<a target=\"_blank\" href=https://colab.research.google.com/notebooks/data_table.ipynb>data table notebook</a>'\n",
              "            + ' to learn more about interactive tables.';\n",
              "          element.innerHTML = '';\n",
              "          dataTable['output_type'] = 'display_data';\n",
              "          await google.colab.output.renderOutput(dataTable, element);\n",
              "          const docLink = document.createElement('div');\n",
              "          docLink.innerHTML = docLinkHtml;\n",
              "          element.appendChild(docLink);\n",
              "        }\n",
              "      </script>\n",
              "    </div>\n",
              "  </div>\n",
              "  "
            ]
          },
          "metadata": {},
          "execution_count": 32
        }
      ]
    },
    {
      "cell_type": "code",
      "source": [
        "df.corr()"
      ],
      "metadata": {
        "colab": {
          "base_uri": "https://localhost:8080/",
          "height": 237
        },
        "id": "JZLL-AGPL_Rf",
        "outputId": "9a6dd8c6-516e-47c4-996b-10a6b1a6be3e"
      },
      "execution_count": 33,
      "outputs": [
        {
          "output_type": "execute_result",
          "data": {
            "text/plain": [
              "               Open      High       Low     Close  Adj Close    Volume\n",
              "Open       1.000000  0.999425  0.999575  0.998886   0.998886  0.501762\n",
              "High       0.999425  1.000000  0.999389  0.999640   0.999640  0.512944\n",
              "Low        0.999575  0.999389  1.000000  0.999447   0.999447  0.493496\n",
              "Close      0.998886  0.999640  0.999447  1.000000   1.000000  0.505169\n",
              "Adj Close  0.998886  0.999640  0.999447  1.000000   1.000000  0.505169\n",
              "Volume     0.501762  0.512944  0.493496  0.505169   0.505169  1.000000"
            ],
            "text/html": [
              "\n",
              "  <div id=\"df-2c4d742e-6b66-4e9f-b0e9-4c7466a36b00\">\n",
              "    <div class=\"colab-df-container\">\n",
              "      <div>\n",
              "<style scoped>\n",
              "    .dataframe tbody tr th:only-of-type {\n",
              "        vertical-align: middle;\n",
              "    }\n",
              "\n",
              "    .dataframe tbody tr th {\n",
              "        vertical-align: top;\n",
              "    }\n",
              "\n",
              "    .dataframe thead th {\n",
              "        text-align: right;\n",
              "    }\n",
              "</style>\n",
              "<table border=\"1\" class=\"dataframe\">\n",
              "  <thead>\n",
              "    <tr style=\"text-align: right;\">\n",
              "      <th></th>\n",
              "      <th>Open</th>\n",
              "      <th>High</th>\n",
              "      <th>Low</th>\n",
              "      <th>Close</th>\n",
              "      <th>Adj Close</th>\n",
              "      <th>Volume</th>\n",
              "    </tr>\n",
              "  </thead>\n",
              "  <tbody>\n",
              "    <tr>\n",
              "      <th>Open</th>\n",
              "      <td>1.000000</td>\n",
              "      <td>0.999425</td>\n",
              "      <td>0.999575</td>\n",
              "      <td>0.998886</td>\n",
              "      <td>0.998886</td>\n",
              "      <td>0.501762</td>\n",
              "    </tr>\n",
              "    <tr>\n",
              "      <th>High</th>\n",
              "      <td>0.999425</td>\n",
              "      <td>1.000000</td>\n",
              "      <td>0.999389</td>\n",
              "      <td>0.999640</td>\n",
              "      <td>0.999640</td>\n",
              "      <td>0.512944</td>\n",
              "    </tr>\n",
              "    <tr>\n",
              "      <th>Low</th>\n",
              "      <td>0.999575</td>\n",
              "      <td>0.999389</td>\n",
              "      <td>1.000000</td>\n",
              "      <td>0.999447</td>\n",
              "      <td>0.999447</td>\n",
              "      <td>0.493496</td>\n",
              "    </tr>\n",
              "    <tr>\n",
              "      <th>Close</th>\n",
              "      <td>0.998886</td>\n",
              "      <td>0.999640</td>\n",
              "      <td>0.999447</td>\n",
              "      <td>1.000000</td>\n",
              "      <td>1.000000</td>\n",
              "      <td>0.505169</td>\n",
              "    </tr>\n",
              "    <tr>\n",
              "      <th>Adj Close</th>\n",
              "      <td>0.998886</td>\n",
              "      <td>0.999640</td>\n",
              "      <td>0.999447</td>\n",
              "      <td>1.000000</td>\n",
              "      <td>1.000000</td>\n",
              "      <td>0.505169</td>\n",
              "    </tr>\n",
              "    <tr>\n",
              "      <th>Volume</th>\n",
              "      <td>0.501762</td>\n",
              "      <td>0.512944</td>\n",
              "      <td>0.493496</td>\n",
              "      <td>0.505169</td>\n",
              "      <td>0.505169</td>\n",
              "      <td>1.000000</td>\n",
              "    </tr>\n",
              "  </tbody>\n",
              "</table>\n",
              "</div>\n",
              "      <button class=\"colab-df-convert\" onclick=\"convertToInteractive('df-2c4d742e-6b66-4e9f-b0e9-4c7466a36b00')\"\n",
              "              title=\"Convert this dataframe to an interactive table.\"\n",
              "              style=\"display:none;\">\n",
              "        \n",
              "  <svg xmlns=\"http://www.w3.org/2000/svg\" height=\"24px\"viewBox=\"0 0 24 24\"\n",
              "       width=\"24px\">\n",
              "    <path d=\"M0 0h24v24H0V0z\" fill=\"none\"/>\n",
              "    <path d=\"M18.56 5.44l.94 2.06.94-2.06 2.06-.94-2.06-.94-.94-2.06-.94 2.06-2.06.94zm-11 1L8.5 8.5l.94-2.06 2.06-.94-2.06-.94L8.5 2.5l-.94 2.06-2.06.94zm10 10l.94 2.06.94-2.06 2.06-.94-2.06-.94-.94-2.06-.94 2.06-2.06.94z\"/><path d=\"M17.41 7.96l-1.37-1.37c-.4-.4-.92-.59-1.43-.59-.52 0-1.04.2-1.43.59L10.3 9.45l-7.72 7.72c-.78.78-.78 2.05 0 2.83L4 21.41c.39.39.9.59 1.41.59.51 0 1.02-.2 1.41-.59l7.78-7.78 2.81-2.81c.8-.78.8-2.07 0-2.86zM5.41 20L4 18.59l7.72-7.72 1.47 1.35L5.41 20z\"/>\n",
              "  </svg>\n",
              "      </button>\n",
              "      \n",
              "  <style>\n",
              "    .colab-df-container {\n",
              "      display:flex;\n",
              "      flex-wrap:wrap;\n",
              "      gap: 12px;\n",
              "    }\n",
              "\n",
              "    .colab-df-convert {\n",
              "      background-color: #E8F0FE;\n",
              "      border: none;\n",
              "      border-radius: 50%;\n",
              "      cursor: pointer;\n",
              "      display: none;\n",
              "      fill: #1967D2;\n",
              "      height: 32px;\n",
              "      padding: 0 0 0 0;\n",
              "      width: 32px;\n",
              "    }\n",
              "\n",
              "    .colab-df-convert:hover {\n",
              "      background-color: #E2EBFA;\n",
              "      box-shadow: 0px 1px 2px rgba(60, 64, 67, 0.3), 0px 1px 3px 1px rgba(60, 64, 67, 0.15);\n",
              "      fill: #174EA6;\n",
              "    }\n",
              "\n",
              "    [theme=dark] .colab-df-convert {\n",
              "      background-color: #3B4455;\n",
              "      fill: #D2E3FC;\n",
              "    }\n",
              "\n",
              "    [theme=dark] .colab-df-convert:hover {\n",
              "      background-color: #434B5C;\n",
              "      box-shadow: 0px 1px 3px 1px rgba(0, 0, 0, 0.15);\n",
              "      filter: drop-shadow(0px 1px 2px rgba(0, 0, 0, 0.3));\n",
              "      fill: #FFFFFF;\n",
              "    }\n",
              "  </style>\n",
              "\n",
              "      <script>\n",
              "        const buttonEl =\n",
              "          document.querySelector('#df-2c4d742e-6b66-4e9f-b0e9-4c7466a36b00 button.colab-df-convert');\n",
              "        buttonEl.style.display =\n",
              "          google.colab.kernel.accessAllowed ? 'block' : 'none';\n",
              "\n",
              "        async function convertToInteractive(key) {\n",
              "          const element = document.querySelector('#df-2c4d742e-6b66-4e9f-b0e9-4c7466a36b00');\n",
              "          const dataTable =\n",
              "            await google.colab.kernel.invokeFunction('convertToInteractive',\n",
              "                                                     [key], {});\n",
              "          if (!dataTable) return;\n",
              "\n",
              "          const docLinkHtml = 'Like what you see? Visit the ' +\n",
              "            '<a target=\"_blank\" href=https://colab.research.google.com/notebooks/data_table.ipynb>data table notebook</a>'\n",
              "            + ' to learn more about interactive tables.';\n",
              "          element.innerHTML = '';\n",
              "          dataTable['output_type'] = 'display_data';\n",
              "          await google.colab.output.renderOutput(dataTable, element);\n",
              "          const docLink = document.createElement('div');\n",
              "          docLink.innerHTML = docLinkHtml;\n",
              "          element.appendChild(docLink);\n",
              "        }\n",
              "      </script>\n",
              "    </div>\n",
              "  </div>\n",
              "  "
            ]
          },
          "metadata": {},
          "execution_count": 33
        }
      ]
    },
    {
      "cell_type": "code",
      "source": [
        "plt.figure(figsize=(10,10))\n",
        "sns.heatmap(df.corr(), annot= True, cmap = 'Blues')"
      ],
      "metadata": {
        "colab": {
          "base_uri": "https://localhost:8080/",
          "height": 613
        },
        "id": "rDD5DzMXL_Ub",
        "outputId": "a192acd1-c157-49db-d83c-fd14fe9d5ced"
      },
      "execution_count": 36,
      "outputs": [
        {
          "output_type": "execute_result",
          "data": {
            "text/plain": [
              "<matplotlib.axes._subplots.AxesSubplot at 0x7f0bf84a0760>"
            ]
          },
          "metadata": {},
          "execution_count": 36
        },
        {
          "output_type": "display_data",
          "data": {
            "text/plain": [
              "<Figure size 720x720 with 2 Axes>"
            ],
            "image/png": "[encoded data removed]"
          },
          "metadata": {
            "needs_background": "light"
          }
        }
      ]
    },
    {
      "cell_type": "code",
      "source": [
        "# Since date is no used for our ML, we will remove it from the dataset\n",
        "df = df.drop(['Date'], axis=1)"
      ],
      "metadata": {
        "id": "qXQMeY3HL_X-"
      },
      "execution_count": 41,
      "outputs": []
    },
    {
      "cell_type": "code",
      "source": [
        "df.shape"
      ],
      "metadata": {
        "colab": {
          "base_uri": "https://localhost:8080/"
        },
        "id": "O-QWMMtVL_bF",
        "outputId": "594f54a1-ec1b-434f-e5e8-5c90af1610c8"
      },
      "execution_count": 42,
      "outputs": [
        {
          "output_type": "execute_result",
          "data": {
            "text/plain": [
              "(2416, 6)"
            ]
          },
          "metadata": {},
          "execution_count": 42
        }
      ]
    },
    {
      "cell_type": "markdown",
      "source": [
        "# Machine Learning - Linear Regression"
      ],
      "metadata": {
        "id": "t_1OvWnoWvn1"
      }
    },
    {
      "cell_type": "code",
      "source": [
        "df.head()"
      ],
      "metadata": {
        "colab": {
          "base_uri": "https://localhost:8080/",
          "height": 206
        },
        "id": "r9E4zunZL_ef",
        "outputId": "e77d09ca-09e3-4c6e-e106-a104d908f0da"
      },
      "execution_count": 43,
      "outputs": [
        {
          "output_type": "execute_result",
          "data": {
            "text/plain": [
              "        Open   High        Low      Close  Adj Close    Volume\n",
              "0  19.000000  25.00  17.540001  23.889999  23.889999  18766300\n",
              "1  25.790001  30.42  23.299999  23.830000  23.830000  17187100\n",
              "2  25.000000  25.92  20.270000  21.959999  21.959999   8218800\n",
              "3  23.000000  23.10  18.709999  19.200001  19.200001   5139800\n",
              "4  20.000000  20.00  15.830000  16.110001  16.110001   6866900"
            ],
            "text/html": [
              "\n",
              "  <div id=\"df-a97975ce-33cd-46e6-b5b5-d45c561940ee\">\n",
              "    <div class=\"colab-df-container\">\n",
              "      <div>\n",
              "<style scoped>\n",
              "    .dataframe tbody tr th:only-of-type {\n",
              "        vertical-align: middle;\n",
              "    }\n",
              "\n",
              "    .dataframe tbody tr th {\n",
              "        vertical-align: top;\n",
              "    }\n",
              "\n",
              "    .dataframe thead th {\n",
              "        text-align: right;\n",
              "    }\n",
              "</style>\n",
              "<table border=\"1\" class=\"dataframe\">\n",
              "  <thead>\n",
              "    <tr style=\"text-align: right;\">\n",
              "      <th></th>\n",
              "      <th>Open</th>\n",
              "      <th>High</th>\n",
              "      <th>Low</th>\n",
              "      <th>Close</th>\n",
              "      <th>Adj Close</th>\n",
              "      <th>Volume</th>\n",
              "    </tr>\n",
              "  </thead>\n",
              "  <tbody>\n",
              "    <tr>\n",
              "      <th>0</th>\n",
              "      <td>19.000000</td>\n",
              "      <td>25.00</td>\n",
              "      <td>17.540001</td>\n",
              "      <td>23.889999</td>\n",
              "      <td>23.889999</td>\n",
              "      <td>18766300</td>\n",
              "    </tr>\n",
              "    <tr>\n",
              "      <th>1</th>\n",
              "      <td>25.790001</td>\n",
              "      <td>30.42</td>\n",
              "      <td>23.299999</td>\n",
              "      <td>23.830000</td>\n",
              "      <td>23.830000</td>\n",
              "      <td>17187100</td>\n",
              "    </tr>\n",
              "    <tr>\n",
              "      <th>2</th>\n",
              "      <td>25.000000</td>\n",
              "      <td>25.92</td>\n",
              "      <td>20.270000</td>\n",
              "      <td>21.959999</td>\n",
              "      <td>21.959999</td>\n",
              "      <td>8218800</td>\n",
              "    </tr>\n",
              "    <tr>\n",
              "      <th>3</th>\n",
              "      <td>23.000000</td>\n",
              "      <td>23.10</td>\n",
              "      <td>18.709999</td>\n",
              "      <td>19.200001</td>\n",
              "      <td>19.200001</td>\n",
              "      <td>5139800</td>\n",
              "    </tr>\n",
              "    <tr>\n",
              "      <th>4</th>\n",
              "      <td>20.000000</td>\n",
              "      <td>20.00</td>\n",
              "      <td>15.830000</td>\n",
              "      <td>16.110001</td>\n",
              "      <td>16.110001</td>\n",
              "      <td>6866900</td>\n",
              "    </tr>\n",
              "  </tbody>\n",
              "</table>\n",
              "</div>\n",
              "      <button class=\"colab-df-convert\" onclick=\"convertToInteractive('df-a97975ce-33cd-46e6-b5b5-d45c561940ee')\"\n",
              "              title=\"Convert this dataframe to an interactive table.\"\n",
              "              style=\"display:none;\">\n",
              "        \n",
              "  <svg xmlns=\"http://www.w3.org/2000/svg\" height=\"24px\"viewBox=\"0 0 24 24\"\n",
              "       width=\"24px\">\n",
              "    <path d=\"M0 0h24v24H0V0z\" fill=\"none\"/>\n",
              "    <path d=\"M18.56 5.44l.94 2.06.94-2.06 2.06-.94-2.06-.94-.94-2.06-.94 2.06-2.06.94zm-11 1L8.5 8.5l.94-2.06 2.06-.94-2.06-.94L8.5 2.5l-.94 2.06-2.06.94zm10 10l.94 2.06.94-2.06 2.06-.94-2.06-.94-.94-2.06-.94 2.06-2.06.94z\"/><path d=\"M17.41 7.96l-1.37-1.37c-.4-.4-.92-.59-1.43-.59-.52 0-1.04.2-1.43.59L10.3 9.45l-7.72 7.72c-.78.78-.78 2.05 0 2.83L4 21.41c.39.39.9.59 1.41.59.51 0 1.02-.2 1.41-.59l7.78-7.78 2.81-2.81c.8-.78.8-2.07 0-2.86zM5.41 20L4 18.59l7.72-7.72 1.47 1.35L5.41 20z\"/>\n",
              "  </svg>\n",
              "      </button>\n",
              "      \n",
              "  <style>\n",
              "    .colab-df-container {\n",
              "      display:flex;\n",
              "      flex-wrap:wrap;\n",
              "      gap: 12px;\n",
              "    }\n",
              "\n",
              "    .colab-df-convert {\n",
              "      background-color: #E8F0FE;\n",
              "      border: none;\n",
              "      border-radius: 50%;\n",
              "      cursor: pointer;\n",
              "      display: none;\n",
              "      fill: #1967D2;\n",
              "      height: 32px;\n",
              "      padding: 0 0 0 0;\n",
              "      width: 32px;\n",
              "    }\n",
              "\n",
              "    .colab-df-convert:hover {\n",
              "      background-color: #E2EBFA;\n",
              "      box-shadow: 0px 1px 2px rgba(60, 64, 67, 0.3), 0px 1px 3px 1px rgba(60, 64, 67, 0.15);\n",
              "      fill: #174EA6;\n",
              "    }\n",
              "\n",
              "    [theme=dark] .colab-df-convert {\n",
              "      background-color: #3B4455;\n",
              "      fill: #D2E3FC;\n",
              "    }\n",
              "\n",
              "    [theme=dark] .colab-df-convert:hover {\n",
              "      background-color: #434B5C;\n",
              "      box-shadow: 0px 1px 3px 1px rgba(0, 0, 0, 0.15);\n",
              "      filter: drop-shadow(0px 1px 2px rgba(0, 0, 0, 0.3));\n",
              "      fill: #FFFFFF;\n",
              "    }\n",
              "  </style>\n",
              "\n",
              "      <script>\n",
              "        const buttonEl =\n",
              "          document.querySelector('#df-a97975ce-33cd-46e6-b5b5-d45c561940ee button.colab-df-convert');\n",
              "        buttonEl.style.display =\n",
              "          google.colab.kernel.accessAllowed ? 'block' : 'none';\n",
              "\n",
              "        async function convertToInteractive(key) {\n",
              "          const element = document.querySelector('#df-a97975ce-33cd-46e6-b5b5-d45c561940ee');\n",
              "          const dataTable =\n",
              "            await google.colab.kernel.invokeFunction('convertToInteractive',\n",
              "                                                     [key], {});\n",
              "          if (!dataTable) return;\n",
              "\n",
              "          const docLinkHtml = 'Like what you see? Visit the ' +\n",
              "            '<a target=\"_blank\" href=https://colab.research.google.com/notebooks/data_table.ipynb>data table notebook</a>'\n",
              "            + ' to learn more about interactive tables.';\n",
              "          element.innerHTML = '';\n",
              "          dataTable['output_type'] = 'display_data';\n",
              "          await google.colab.output.renderOutput(dataTable, element);\n",
              "          const docLink = document.createElement('div');\n",
              "          docLink.innerHTML = docLinkHtml;\n",
              "          element.appendChild(docLink);\n",
              "        }\n",
              "      </script>\n",
              "    </div>\n",
              "  </div>\n",
              "  "
            ]
          },
          "metadata": {},
          "execution_count": 43
        }
      ]
    },
    {
      "cell_type": "code",
      "source": [
        "X = np.array(df.drop(['Close', 'Adj Close'], axis =1))\n",
        "y = np.array(df.Close)"
      ],
      "metadata": {
        "id": "DvNvr7ZlL_hr"
      },
      "execution_count": 46,
      "outputs": []
    },
    {
      "cell_type": "code",
      "source": [
        "X,y"
      ],
      "metadata": {
        "colab": {
          "base_uri": "https://localhost:8080/"
        },
        "id": "PjbqJS9ML_lT",
        "outputId": "ea000d29-34dc-41f9-a105-5716f6c6ab23"
      },
      "execution_count": 48,
      "outputs": [
        {
          "output_type": "execute_result",
          "data": {
            "text/plain": [
              "(array([[1.90000000e+01, 2.50000000e+01, 1.75400010e+01, 1.87663000e+07],\n",
              "        [2.57900010e+01, 3.04200000e+01, 2.32999990e+01, 1.71871000e+07],\n",
              "        [2.50000000e+01, 2.59200000e+01, 2.02700000e+01, 8.21880000e+06],\n",
              "        ...,\n",
              "        [6.32419983e+02, 6.50880005e+02, 6.18000000e+02, 2.90057000e+07],\n",
              "        [6.40000000e+02, 6.53000000e+02, 6.32520020e+02, 1.57193000e+07],\n",
              "        [6.73690002e+02, 7.86140015e+02, 6.73520020e+02, 4.70650000e+07]]),\n",
              " array([ 23.889999,  23.83    ,  21.959999, ..., 640.809998, 650.570007,\n",
              "        780.      ]))"
            ]
          },
          "metadata": {},
          "execution_count": 48
        }
      ]
    },
    {
      "cell_type": "markdown",
      "source": [
        "# Splitting the Data- Training set and Test Set"
      ],
      "metadata": {
        "id": "DUMwmh85XtcL"
      }
    },
    {
      "cell_type": "code",
      "source": [
        "X_train, X_test, y_train, y_test = train_test_split(X,y, test_size=0.3)"
      ],
      "metadata": {
        "id": "LsQC8O4ZL_oq"
      },
      "execution_count": 49,
      "outputs": []
    },
    {
      "cell_type": "code",
      "source": [
        "len(X_train)"
      ],
      "metadata": {
        "colab": {
          "base_uri": "https://localhost:8080/"
        },
        "id": "zIfIlV4fL_sC",
        "outputId": "01583b33-7fc9-41a4-85d8-6d2c3c5ff17e"
      },
      "execution_count": 50,
      "outputs": [
        {
          "output_type": "execute_result",
          "data": {
            "text/plain": [
              "1691"
            ]
          },
          "metadata": {},
          "execution_count": 50
        }
      ]
    },
    {
      "cell_type": "code",
      "source": [
        "len(X_test)"
      ],
      "metadata": {
        "colab": {
          "base_uri": "https://localhost:8080/"
        },
        "id": "8sfraJAiL_vb",
        "outputId": "97fde596-cbcd-44e8-f1da-180bc7633232"
      },
      "execution_count": 51,
      "outputs": [
        {
          "output_type": "execute_result",
          "data": {
            "text/plain": [
              "725"
            ]
          },
          "metadata": {},
          "execution_count": 51
        }
      ]
    },
    {
      "cell_type": "markdown",
      "source": [
        "# Choosing the Model"
      ],
      "metadata": {
        "id": "edNf-qndYSWD"
      }
    },
    {
      "cell_type": "code",
      "source": [
        "model = LinearRegression()"
      ],
      "metadata": {
        "id": "T3HBK3H9L_zE"
      },
      "execution_count": 53,
      "outputs": []
    },
    {
      "cell_type": "markdown",
      "source": [
        "# Train/Fit the data"
      ],
      "metadata": {
        "id": "vxOpiCpUYbgF"
      }
    },
    {
      "cell_type": "code",
      "source": [
        "model.fit(X_train, y_train)"
      ],
      "metadata": {
        "colab": {
          "base_uri": "https://localhost:8080/"
        },
        "id": "0uaqb2D6L_2j",
        "outputId": "c1ec9095-1113-4b6e-864f-ab3bfeb1bfc4"
      },
      "execution_count": 54,
      "outputs": [
        {
          "output_type": "execute_result",
          "data": {
            "text/plain": [
              "LinearRegression()"
            ]
          },
          "metadata": {},
          "execution_count": 54
        }
      ]
    },
    {
      "cell_type": "code",
      "source": [
        "model.intercept_"
      ],
      "metadata": {
        "colab": {
          "base_uri": "https://localhost:8080/"
        },
        "id": "q5V_PvU5L_6H",
        "outputId": "57f61093-0b30-49c0-cf09-3ca1a253346a"
      },
      "execution_count": 55,
      "outputs": [
        {
          "output_type": "execute_result",
          "data": {
            "text/plain": [
              "-0.05744747824070373"
            ]
          },
          "metadata": {},
          "execution_count": 55
        }
      ]
    },
    {
      "cell_type": "code",
      "source": [
        "model.coef_"
      ],
      "metadata": {
        "colab": {
          "base_uri": "https://localhost:8080/"
        },
        "id": "_P4g30OsL_90",
        "outputId": "4a4d27fe-2233-4bbe-fc35-4e9a9f0b8434"
      },
      "execution_count": 56,
      "outputs": [
        {
          "output_type": "execute_result",
          "data": {
            "text/plain": [
              "array([-6.08118302e-01,  8.62532244e-01,  7.45029018e-01, -1.21855755e-08])"
            ]
          },
          "metadata": {},
          "execution_count": 56
        }
      ]
    },
    {
      "cell_type": "markdown",
      "source": [
        "# Prediction"
      ],
      "metadata": {
        "id": "czXTcpQWZEUK"
      }
    },
    {
      "cell_type": "code",
      "source": [
        "y_test"
      ],
      "metadata": {
        "colab": {
          "base_uri": "https://localhost:8080/"
        },
        "id": "KEHqA3ZuMABl",
        "outputId": "964fbd02-3aaa-46d9-851b-cb9347904fbe"
      },
      "execution_count": 59,
      "outputs": [
        {
          "output_type": "execute_result",
          "data": {
            "text/plain": [
              "array([558.02002 ,  20.450001,  29.799999, 225.789993, 280.690002,\n",
              "        19.59    , 281.190002, 310.220001, 299.019989, 230.009995,\n",
              "       344.970001, 299.920013, 150.100006, 323.410004,  19.15    ,\n",
              "       255.990005, 335.070007, 220.169998,  27.530001, 375.339996,\n",
              "       306.850006, 241.220001,  21.059999, 178.380005, 220.679993,\n",
              "       269.149994, 178.699997, 227.169998, 308.170013, 145.429993,\n",
              "        22.940001, 354.309998, 230.75    ,  29.370001, 185.850006,\n",
              "        28.57    , 365.709991,  33.130001, 243.130005, 171.539993,\n",
              "       249.449997, 193.149994, 277.920013, 140.720001, 208.720001,\n",
              "        28.17    , 347.160004,  34.5     , 350.480011,  38.98    ,\n",
              "       267.869995, 251.820007, 137.949997, 280.950012, 339.600006,\n",
              "        21.84    , 242.809998, 357.420013,  28.450001,  29.51    ,\n",
              "        31.33    , 204.639999,  33.639999, 260.170013, 348.170013,\n",
              "        20.1     , 151.160004, 247.740005, 336.220001,  24.75    ,\n",
              "       203.559998,  21.77    , 231.630005, 241.800003, 229.300003,\n",
              "       245.869995, 322.820007, 225.710007, 155.169998, 312.600006,\n",
              "       198.089996, 362.329987, 359.649994, 161.839996, 335.070007,\n",
              "       370.829987,  35.150002, 355.75    , 255.470001,  28.77    ,\n",
              "        28.530001, 261.920013,  41.830002, 314.73999 ,  28.549999,\n",
              "       320.230011, 338.190002,  69.400002, 189.570007, 231.100006,\n",
              "       248.929993, 226.720001, 291.720001, 147.979996,  27.549999,\n",
              "        34.939999,  19.870001,  23.73    ,  31.02    ,  24.59    ,\n",
              "        31.51    , 307.51001 , 177.210007, 419.220001, 159.940002,\n",
              "        21.25    ,  25.030001, 203.770004, 263.820007, 235.139999,\n",
              "       226.160004, 325.890015,  22.84    ,  27.77    , 256.910004,\n",
              "       250.410004, 219.309998,  28.41    , 333.630005, 317.809998,\n",
              "        35.360001, 273.200012, 218.990005, 430.380005, 119.68    ,\n",
              "        31.309999, 358.390015, 198.690002, 301.059998, 201.720001,\n",
              "       258.679993, 266.679993, 190.339996, 260.410004, 284.179993,\n",
              "       174.600006,  32.540001, 205.360001, 229.360001,  21.290001,\n",
              "        31.15    , 300.079987,  26.309999, 219.289993,  33.900002,\n",
              "       119.029999, 376.399994,  25.75    , 318.959991, 385.      ,\n",
              "       267.700012, 212.009995,  31.41    , 315.049988, 266.130005,\n",
              "       139.360001, 177.919998, 193.880005, 147.940002, 379.570007,\n",
              "       237.190002, 157.100006, 279.440002, 425.25    , 322.309998,\n",
              "       204.25    , 124.07    , 348.049988, 187.419998, 201.509995,\n",
              "       181.5     ,  25.16    , 311.859985,  26.76    , 351.399994,\n",
              "        30.280001, 188.559998, 315.549988, 166.369995, 308.709991,\n",
              "       306.529999,  22.959999,  29.18    ,  27.620001, 229.080002,\n",
              "        33.259998, 215.210007, 316.709991, 127.260002, 237.75    ,\n",
              "        27.33    , 219.990005,  91.5     , 285.880005, 176.679993,\n",
              "       197.809998, 225.      ,  27.42    , 230.029999, 251.570007,\n",
              "        21.98    , 260.619995,  21.950001, 109.25    , 216.889999,\n",
              "       229.580002,  36.110001, 342.940002, 322.470001,  27.98    ,\n",
              "       219.619995,  28.98    , 120.5     , 206.179993, 103.389999,\n",
              "       261.059998, 231.429993,  20.75    , 284.730011,  18.32    ,\n",
              "       161.270004, 355.570007,  38.27    , 226.350006, 252.940002,\n",
              "       279.76001 , 343.399994, 238.520004,  36.849998, 375.100006,\n",
              "        18.790001, 123.449997, 233.419998,  36.619999, 342.519989,\n",
              "       263.160004,  34.380001,  33.400002, 205.289993,  24.719999,\n",
              "       234.910004, 250.630005, 373.910004, 127.279999, 263.899994,\n",
              "       345.      , 316.220001, 780.      , 237.220001,  20.41    ,\n",
              "       227.009995, 202.490005,  34.169998,  24.93    , 134.229996,\n",
              "       349.929993, 279.859985, 220.440002,  35.099998, 430.26001 ,\n",
              "       195.300003, 246.720001, 236.910004,  21.190001,  26.389999,\n",
              "       238.300003, 317.220001, 255.339996, 184.520004, 253.740005,\n",
              "       246.600006,  34.43    ,  26.219999, 178.729996,  28.77    ,\n",
              "        38.419998, 357.970001,  21.870001, 344.570007, 267.769989,\n",
              "       240.059998, 269.700012, 252.380005,  27.57    , 238.490005,\n",
              "       640.809998, 205.809998,  28.129999,  32.470001, 250.240005,\n",
              "       182.800003,  30.4     ,  35.290001,  27.370001, 334.850006,\n",
              "       248.839996, 310.700012, 350.609985, 215.649994, 206.899994,\n",
              "       244.899994, 226.050003, 348.420013, 393.149994, 326.089996,\n",
              "       290.540009, 178.589996,  19.6     ,  23.91    ,  28.549999,\n",
              "       249.919998, 355.48999 ,  28.889999, 333.040009,  31.84    ,\n",
              "       231.960007, 232.320007, 322.829987, 219.580002, 347.359985,\n",
              "        33.900002, 142.149994,  28.27    , 369.799988, 327.089996,\n",
              "        31.940001, 193.960007, 104.629997,  23.25    , 229.429993,\n",
              "       225.119995, 207.889999, 308.829987,  30.66    , 249.100006,\n",
              "        23.940001, 235.240005, 282.26001 , 236.889999,  37.689999,\n",
              "       337.640015,  30.059999, 140.479996, 190.619995, 255.580002,\n",
              "       307.540009, 315.01001 , 208.960007,  25.629999, 310.420013,\n",
              "        21.26    , 250.679993, 205.399994, 284.140015, 566.900024,\n",
              "       296.839996, 212.940002,  44.34    , 208.350006,  27.709999,\n",
              "       196.940002, 211.559998, 211.410004, 264.200012, 235.520004,\n",
              "        31.6     ,  29.940001, 137.800003, 328.23999 , 139.770004,\n",
              "       318.890015,  27.34    ,  28.17    , 207.990005,  34.400002,\n",
              "       192.429993, 325.220001,  23.209999, 370.339996,  28.559999,\n",
              "       230.970001, 200.309998, 260.73999 ,  29.219999,  21.      ,\n",
              "       248.910004, 257.      , 238.839996, 189.399994, 195.649994,\n",
              "        31.690001, 333.869995,  34.18    ,  31.610001, 321.079987,\n",
              "       238.630005, 280.73999 , 193.149994,  26.6     ,  37.950001,\n",
              "       321.350006,  29.09    , 215.940002, 295.459991, 203.339996,\n",
              "        22.33    , 197.330002, 258.      , 314.859985, 301.019989,\n",
              "       342.769989, 207.279999,  38.009998, 168.779999, 259.959991,\n",
              "        31.17    ,  89.940002, 346.109985,  28.290001,  26.440001,\n",
              "       352.549988,  33.490002,  27.799999, 275.429993, 225.029999,\n",
              "       183.399994, 121.699997,  29.58    , 202.210007, 190.410004,\n",
              "       223.410004,  37.860001, 219.580002, 524.859985, 285.359985,\n",
              "       316.809998, 225.610001, 230.570007,  26.99    , 203.759995,\n",
              "       256.76001 , 301.970001, 316.529999, 254.509995, 226.25    ,\n",
              "        21.120001, 197.360001, 333.01001 , 142.      , 344.98999 ,\n",
              "       216.880005,  20.85    ,  28.51    , 325.829987,  29.84    ,\n",
              "       355.170013, 159.220001, 230.339996,  27.879999, 355.329987,\n",
              "        32.91    , 215.      ,  31.49    ,  27.08    ,  26.870001,\n",
              "       279.179993, 207.729996, 290.920013, 208.169998, 200.710007,\n",
              "       313.559998, 268.790009, 294.839996, 349.929993,  18.77    ,\n",
              "       347.640015, 299.299988, 204.380005,  27.91    , 280.600006,\n",
              "       301.440002, 197.729996, 216.220001, 152.440002, 230.479996,\n",
              "        34.57    , 122.099998,  34.040001, 181.880005,  22.950001,\n",
              "        21.83    ,  33.34    ,  55.790001,  26.620001, 216.610001,\n",
              "       340.970001,  29.280001, 363.529999, 166.449997, 274.019989,\n",
              "       253.860001,  27.120001,  34.830002,  28.940001,  20.719999,\n",
              "       181.449997, 216.289993, 169.      ,  39.169998, 217.160004,\n",
              "       271.230011, 337.029999, 160.699997, 193.210007,  32.09    ,\n",
              "       312.890015, 243.690002,  41.860001, 249.990005,  23.639999,\n",
              "       221.860001,  76.760002, 206.419998, 181.410004, 230.770004,\n",
              "        23.110001, 213.690002,  31.93    , 318.51001 ,  38.130001,\n",
              "       227.199997,  29.66    , 227.820007,  27.639999, 325.26001 ,\n",
              "       207.669998,  20.719999, 359.649994, 347.26001 ,  33.68    ,\n",
              "       248.919998,  97.349998,  32.66    ,  37.040001, 352.450012,\n",
              "       241.229996, 226.429993, 256.959991, 134.279999, 377.640015,\n",
              "        32.049999,  19.889999, 337.339996, 321.640015, 326.579987,\n",
              "       266.790009,  35.16    , 222.839996,  26.91    , 243.759995,\n",
              "       195.320007, 213.699997, 230.429993, 311.640015,  19.75    ,\n",
              "       218.130005,  23.66    ,  31.559999,  28.389999, 357.320007,\n",
              "        27.66    ,  32.459999,  98.18    , 344.429993, 261.73999 ,\n",
              "       329.519989,  17.9     , 218.550003,  28.040001,  20.540001,\n",
              "        27.969999,  27.24    ,  29.84    ,  32.310001, 233.389999,\n",
              "       307.519989, 273.26001 , 215.399994, 309.100006, 238.169998,\n",
              "       261.380005, 223.240005, 222.229996, 257.779999, 209.259995,\n",
              "       362.910004,  25.27    ,  33.110001, 288.5     , 313.309998,\n",
              "       253.75    ,  22.75    , 223.429993, 179.720001, 209.970001,\n",
              "        28.76    , 341.350006,  34.400002, 117.18    , 350.51001 ,\n",
              "       227.449997,  22.959999, 334.799988, 211.529999, 313.26001 ,\n",
              "       312.209991, 302.559998, 251.929993,  35.189999, 166.059998,\n",
              "        45.59    , 153.479996,  29.120001, 250.380005,  34.099998,\n",
              "       225.589996, 547.200012,  33.09    ,  25.959999, 191.929993,\n",
              "       299.679993,  30.389999,  27.34    , 356.910004, 248.75    ,\n",
              "        24.65    , 319.880005,  23.870001, 333.029999, 174.729996,\n",
              "       206.550003,  33.610001,  33.639999,  19.200001, 247.690002,\n",
              "        30.809999, 337.890015, 221.800003,  19.030001, 350.600006,\n",
              "        26.6     ,  35.      , 315.130005,  38.029999,  20.540001,\n",
              "        20.35    , 264.820007, 339.850006, 283.459991,  28.049999,\n",
              "        22.190001,  34.43    , 253.5     , 221.710007, 275.01001 ,\n",
              "       229.509995,  26.6     , 332.799988, 258.660004, 262.549988,\n",
              "       207.190002, 339.600006, 253.880005, 337.140015, 346.170013,\n",
              "       215.589996,  31.379999, 262.799988,  20.049999, 323.470001,\n",
              "       227.75    , 220.539993, 102.040001, 268.26001 ,  38.16    ,\n",
              "       260.720001,  26.959999, 237.369995,  24.92    , 203.520004,\n",
              "        23.889999, 126.940002, 356.410004,  35.580002, 202.550003,\n",
              "       312.5     , 234.509995, 307.190002, 228.100006, 238.100006,\n",
              "        21.049999, 234.240005, 362.220001, 189.699997,  20.24    ,\n",
              "       351.089996, 231.610001,  28.809999,  21.059999, 332.970001,\n",
              "        24.75    , 210.949997, 190.789993, 259.320007, 251.410004])"
            ]
          },
          "metadata": {},
          "execution_count": 59
        }
      ]
    },
    {
      "cell_type": "code",
      "source": [
        "y_pred = model.predict(X_test)"
      ],
      "metadata": {
        "id": "QuCIKMt9MAE-"
      },
      "execution_count": 61,
      "outputs": []
    },
    {
      "cell_type": "code",
      "source": [
        "y_pred"
      ],
      "metadata": {
        "colab": {
          "base_uri": "https://localhost:8080/"
        },
        "id": "B2cLBqoIMAIl",
        "outputId": "54975cfb-68a1-4e04-97bf-3364d01cc829"
      },
      "execution_count": 62,
      "outputs": [
        {
          "output_type": "execute_result",
          "data": {
            "text/plain": [
              "array([558.80966971,  20.3593816 ,  29.51489419, 226.79393743,\n",
              "       280.01109936,  19.64195065, 282.01454708, 309.26625765,\n",
              "       296.99851626, 229.22977848, 341.61720465, 299.3217432 ,\n",
              "       149.47393783, 323.49453307,  19.13194345, 257.89497208,\n",
              "       341.13112958, 215.04273708,  27.25607226, 370.18345817,\n",
              "       305.53992018, 240.17499467,  21.00096999, 177.35199186,\n",
              "       218.39521852, 269.74956753, 176.98120601, 229.48868596,\n",
              "       307.34962554, 145.78352344,  22.86746933, 352.94156297,\n",
              "       227.59332225,  28.86215497, 184.11627777,  28.52017998,\n",
              "       369.18242926,  32.75253643, 241.3256342 , 173.21738099,\n",
              "       248.41045137, 193.93568526, 280.57436399, 140.88051416,\n",
              "       207.20389735,  28.00952371, 346.95731553,  33.9895579 ,\n",
              "       347.28075279,  39.19189919, 267.77060233, 254.85984544,\n",
              "       136.52694655, 285.57653061, 337.09916161,  21.61270258,\n",
              "       243.38282957, 357.08733668,  28.43098636,  28.98111198,\n",
              "        31.12317047, 205.23384857,  33.62589202, 258.05359289,\n",
              "       349.66025033,  19.85788464, 153.09093829, 247.67929007,\n",
              "       336.16509911,  25.3573507 , 204.20317092,  22.16904362,\n",
              "       230.27091093, 237.7420799 , 228.4360609 , 249.94409554,\n",
              "       322.1684424 , 225.40749422, 158.73206548, 313.3638431 ,\n",
              "       198.23064099, 360.80812344, 358.66364989, 159.77888009,\n",
              "       335.65965973, 370.13716478,  34.91289047, 354.57117646,\n",
              "       253.66710545,  28.59555477,  28.39549206, 262.43418758,\n",
              "        42.02626638, 313.02573064,  28.61847493, 320.5146761 ,\n",
              "       341.76072571,  69.75768995, 191.83380706, 234.61569884,\n",
              "       249.15726552, 225.93360775, 291.83326893, 149.56470948,\n",
              "        27.56125558,  34.63301242,  19.97823844,  23.22334206,\n",
              "        30.1035679 ,  25.24042855,  31.16484737, 306.52233863,\n",
              "       178.88812259, 418.82843017, 159.48573013,  21.30968261,\n",
              "        24.89492612, 203.8367161 , 264.26811566, 234.73692172,\n",
              "       227.74501257, 319.84924778,  22.73085501,  27.6795073 ,\n",
              "       258.82382337, 252.19362299, 215.79838084,  28.18567532,\n",
              "       337.21615786, 315.2959702 ,  35.08057802, 274.94254169,\n",
              "       219.98354495, 428.22311031, 118.59035406,  31.6180052 ,\n",
              "       359.52387199, 200.72048849, 302.00975304, 201.90857423,\n",
              "       256.2448192 , 265.77630766, 188.55328326, 262.30741093,\n",
              "       282.99963687, 176.65001571,  31.98044731, 199.51459358,\n",
              "       229.13817964,  21.3350653 ,  31.00062209, 297.4662213 ,\n",
              "        26.66548842, 215.8675998 ,  34.21432958, 118.65564476,\n",
              "       371.58506366,  25.65640945, 320.25921486, 386.05170734,\n",
              "       268.89635784, 210.7609569 ,  31.04114036, 316.79853909,\n",
              "       262.41681854, 140.78983716, 177.51661839, 195.02817625,\n",
              "       148.16727058, 377.3442412 , 236.80686893, 155.27023676,\n",
              "       276.91676016, 419.87965944, 323.42452535, 204.99947972,\n",
              "       123.80665215, 350.02294148, 189.47513711, 202.88896003,\n",
              "       178.58144534,  24.72732777, 313.10826085,  27.14449577,\n",
              "       355.94910125,  29.9997937 , 187.10963627, 313.69942931,\n",
              "       165.80074249, 307.28502694, 309.07869078,  22.60463284,\n",
              "        29.48675509,  27.49353528, 230.55378396,  33.08025393,\n",
              "       211.38553095, 316.22439944, 128.34928789, 236.2056051 ,\n",
              "        27.0906895 , 220.07906179,  90.1076428 , 285.70546568,\n",
              "       175.86648916, 198.91186757, 223.99125995,  27.31136803,\n",
              "       229.56336076, 250.21148452,  21.6407517 , 260.74141497,\n",
              "        22.55741742, 109.08346952, 212.51036395, 227.29568977,\n",
              "        36.10010491, 345.91749705, 322.90409323,  27.67731197,\n",
              "       220.33954383,  28.04645188, 119.52401403, 202.10134003,\n",
              "       101.5523212 , 258.57126792, 229.68269564,  20.71004665,\n",
              "       286.45730384,  17.95016936, 155.71886188, 355.52436487,\n",
              "        38.32347219, 227.81027922, 253.25520784, 279.00605019,\n",
              "       344.39553624, 238.57108625,  37.21796893, 376.92319096,\n",
              "        18.92110953, 122.96088323, 231.83476956,  36.63454222,\n",
              "       341.07292372, 261.98138197,  35.20622214,  33.04573595,\n",
              "       207.60652176,  24.57162103, 236.50362042, 250.62064517,\n",
              "       375.76522815, 128.15050983, 261.2369628 , 342.22421139,\n",
              "       319.41329755, 769.54888888, 236.44549365,  20.68441862,\n",
              "       226.49288628, 201.39835299,  34.04396888,  25.28840079,\n",
              "       134.48321218, 347.42184687, 276.54446948, 221.72283971,\n",
              "        35.16459425, 427.35900765, 195.88346219, 243.62035246,\n",
              "       238.33431587,  21.09242137,  26.09992357, 237.4711794 ,\n",
              "       320.346131  , 255.74371638, 187.67772384, 253.00520226,\n",
              "       247.66040452,  34.32090074,  26.2913191 , 177.90844339,\n",
              "        28.50705812,  38.51314493, 369.18860507,  22.06862242,\n",
              "       349.63137294, 269.15816357, 243.15142021, 270.37408636,\n",
              "       251.63219601,  27.43536112, 240.64964065, 636.83585977,\n",
              "       205.9643551 ,  28.20081651,  32.14465155, 247.4905127 ,\n",
              "       182.48558638,  30.78296372,  35.01808751,  27.82203545,\n",
              "       337.23302005, 247.33416138, 306.65087424, 349.39971875,\n",
              "       217.24827497, 208.01611135, 244.82626555, 228.42382479,\n",
              "       351.33884962, 392.73553612, 318.53533955, 288.56470583,\n",
              "       189.31204866,  19.55530448,  24.01897849,  28.57594401,\n",
              "       253.33605581, 352.81955403,  28.94951854, 332.86252176,\n",
              "        31.58420033, 231.68543993, 234.17836633, 325.15692541,\n",
              "       220.63824079, 346.89435367,  33.9752539 , 142.62507632,\n",
              "        28.45049689, 370.75595295, 331.22714457,  32.01148797,\n",
              "       194.2206875 , 103.44769503,  23.42841401, 231.68616586,\n",
              "       223.29546006, 205.57970674, 311.66955948,  30.70997446,\n",
              "       248.62732127,  23.9377985 , 233.58111358, 282.94443151,\n",
              "       234.57990664,  37.63852779, 339.89509099,  30.20501303,\n",
              "       142.17714205, 191.25038635, 254.9383154 , 305.59013976,\n",
              "       315.3873405 , 213.01205187,  25.39798528, 301.6900339 ,\n",
              "        21.24804996, 254.86123498, 203.70926797, 283.31768634,\n",
              "       567.39276459, 300.392948  , 214.76088032,  45.00896065,\n",
              "       209.53610837,  27.99695514, 193.33608044, 212.28492896,\n",
              "       209.88173265, 264.15321098, 238.73381627,  30.98226118,\n",
              "        29.77100165, 138.03777052, 325.84842912, 140.14512739,\n",
              "       321.31033323,  27.97964122,  28.62937238, 209.46566762,\n",
              "        34.29843737, 192.79578233, 322.08894085,  23.07178393,\n",
              "       378.74715692,  28.65637564, 233.20813437, 203.38839197,\n",
              "       259.12045823,  29.14921942,  20.96950802, 250.91454435,\n",
              "       255.35101442, 237.72495497, 188.95298576, 198.39534287,\n",
              "        31.57179147, 330.58093886,  33.5527721 ,  31.70988618,\n",
              "       323.28202721, 242.45339162, 280.3684896 , 191.31887706,\n",
              "        26.83490981,  37.57452928, 320.57971496,  28.92021255,\n",
              "       217.14268063, 294.89639434, 205.04856309,  22.15239033,\n",
              "       197.86677638, 256.11482631, 307.91535081, 305.04084211,\n",
              "       348.0447303 , 210.86599906,  38.11305815, 164.75611183,\n",
              "       257.10823879,  30.55451967,  90.24523319, 348.47316617,\n",
              "        28.59739556,  26.55218102, 354.82978771,  33.32477718,\n",
              "        27.75152441, 276.5083641 , 224.18732607, 184.26450218,\n",
              "       120.62729646,  29.48122803, 201.20062234, 191.31060287,\n",
              "       222.28837508,  37.84796151, 219.62575647, 519.44014301,\n",
              "       287.01843904, 313.70389593, 225.25372907, 229.80537525,\n",
              "        26.73343325, 204.86005517, 253.59863661, 305.15628869,\n",
              "       320.41669396, 252.27295793, 224.84615165,  21.08455151,\n",
              "       197.25685005, 335.04437282, 142.88189822, 348.87785121,\n",
              "       216.78935206,  20.74748871,  28.41725104, 330.21580383,\n",
              "        30.12012535, 355.42649276, 162.19629163, 229.93106803,\n",
              "        27.72675164, 353.47107952,  32.77954108, 213.05203913,\n",
              "        31.420718  ,  26.99278392,  26.64916391, 283.85536489,\n",
              "       211.7912996 , 287.65780961, 208.53781009, 198.46309463,\n",
              "       314.75227249, 269.59353142, 297.65527208, 353.61692307,\n",
              "        18.7767342 , 350.29857569, 303.65423746, 202.42029783,\n",
              "        27.66712348, 278.94319355, 300.54976692, 197.28578512,\n",
              "       218.99505493, 153.83101819, 230.12793679,  34.47492231,\n",
              "       122.29097939,  33.88886953, 182.86526945,  22.47162659,\n",
              "        21.56946224,  33.02844234,  56.59819836,  26.18964537,\n",
              "       215.6093137 , 343.94194462,  29.51475575, 366.89296664,\n",
              "       166.50472409, 272.54712903, 255.18054416,  27.14349058,\n",
              "        34.83730273,  29.23169899,  20.72784839, 180.66488662,\n",
              "       217.95032649, 166.73957636,  38.91327153, 220.43490996,\n",
              "       269.88492207, 338.51817452, 160.55260226, 191.34392429,\n",
              "        32.09821938, 306.38986006, 243.8366261 ,  41.65689722,\n",
              "       249.58024434,  24.1536929 , 220.54642673,  78.73983694,\n",
              "       203.91488561, 184.52740081, 238.36832683,  23.06829434,\n",
              "       213.65848968,  31.64002817, 314.3258567 ,  38.22765787,\n",
              "       223.63022051,  29.3625684 , 227.31027439,  27.97745711,\n",
              "       327.12950546, 208.54268233,  20.74749799, 360.34682873,\n",
              "       344.75829561,  33.37209878, 249.66568512,  98.38667242,\n",
              "        32.15670295,  37.25035024, 351.57237823, 243.64276426,\n",
              "       224.12400554, 256.19240167, 133.59694591, 374.47160867,\n",
              "        31.96990471,  20.47109595, 339.98234583, 318.53841895,\n",
              "       322.58232993, 265.69506554,  35.62556645, 220.60423369,\n",
              "        27.03570376, 243.35132839, 196.61042298, 211.94054335,\n",
              "       229.77138129, 313.24675412,  19.92789135, 219.00080219,\n",
              "        23.82514988,  31.71921423,  28.30851203, 361.43935913,\n",
              "        27.25198649,  32.57488858,  96.16555788, 346.21256118,\n",
              "       262.70344034, 327.96560811,  18.15047752, 219.71206579,\n",
              "        28.00589006,  20.53970277,  27.51581933,  27.38550103,\n",
              "        29.95015282,  31.4510755 , 233.92993963, 309.878658  ,\n",
              "       272.96094887, 217.8047341 , 313.595669  , 237.19674077,\n",
              "       258.21322389, 223.41718944, 223.27456972, 258.35768321,\n",
              "       212.56104814, 365.35998873,  25.35258208,  32.72354495,\n",
              "       292.09059076, 311.28897049, 250.68612598,  22.82242922,\n",
              "       221.85638409, 180.58610623, 208.546592  ,  28.61096148,\n",
              "       338.98594981,  34.05932718, 116.20620639, 350.18992388,\n",
              "       227.5571121 ,  22.54717381, 334.40606896, 214.38369872,\n",
              "       311.17626595, 312.88505496, 301.69551964, 253.5820475 ,\n",
              "        35.09029774, 165.72682724,  45.54251143, 154.88366957,\n",
              "        29.81727656, 248.09046071,  33.99526256, 228.00138423,\n",
              "       544.11959353,  32.27730445,  25.95883512, 188.77676354,\n",
              "       298.44525976,  30.20700278,  27.05314716, 352.73789322,\n",
              "       248.52041236,  24.52304622, 313.44604073,  23.53609024,\n",
              "       333.88121747, 177.05499745, 206.89617897,  33.32117528,\n",
              "        33.02934073,  19.75718718, 243.16227598,  30.44035769,\n",
              "       343.17592554, 225.02369387,  18.94761923, 349.14382869,\n",
              "        26.53323636,  34.99592669, 313.88948528,  38.35350341,\n",
              "        20.34925409,  20.21468183, 260.9129816 , 339.27673698,\n",
              "       281.64471002,  27.83295991,  22.22104691,  34.28923538,\n",
              "       253.00465613, 221.80755332, 276.95654428, 227.67575478,\n",
              "        26.95560822, 329.35716934, 260.42436187, 262.67140817,\n",
              "       207.97610456, 338.70613352, 256.79953413, 335.2452957 ,\n",
              "       344.8923567 , 215.51668618,  31.44591584, 263.38696041,\n",
              "        20.16043778, 329.54510722, 226.26857791, 221.77079352,\n",
              "       101.01530538, 269.24012539,  37.7557704 , 258.57753485,\n",
              "        26.93954906, 236.74390371,  24.79466235, 207.19755765,\n",
              "        22.79074244, 124.56534802, 353.49838564,  35.53390028,\n",
              "       200.89535441, 315.26209283, 231.85910518, 309.29197805,\n",
              "       229.13434881, 237.10668646,  21.01006255, 235.03874522,\n",
              "       358.64942782, 184.74961301,  20.07067569, 357.44031268,\n",
              "       228.85913171,  28.8322472 ,  20.79604981, 339.5141679 ,\n",
              "        24.31779139, 211.7111987 , 190.7848379 , 261.94841724,\n",
              "       251.8855403 ])"
            ]
          },
          "metadata": {},
          "execution_count": 62
        }
      ]
    },
    {
      "cell_type": "markdown",
      "source": [
        "# Testing the Model Performance"
      ],
      "metadata": {
        "id": "H154jDWKZt4j"
      }
    },
    {
      "cell_type": "code",
      "source": [
        "model.score(X_test, y_test)"
      ],
      "metadata": {
        "colab": {
          "base_uri": "https://localhost:8080/"
        },
        "id": "lGLbjR0qMAMM",
        "outputId": "08b8ef15-1497-4e65-b034-3dbc891e5f82"
      },
      "execution_count": 63,
      "outputs": [
        {
          "output_type": "execute_result",
          "data": {
            "text/plain": [
              "0.999718771389402"
            ]
          },
          "metadata": {},
          "execution_count": 63
        }
      ]
    },
    {
      "cell_type": "code",
      "source": [
        "r2_score(y_test, y_pred)"
      ],
      "metadata": {
        "colab": {
          "base_uri": "https://localhost:8080/"
        },
        "id": "r1VXZItuMAP-",
        "outputId": "f55dbfcd-e5c7-4762-c428-aeda85f12f3c"
      },
      "execution_count": 64,
      "outputs": [
        {
          "output_type": "execute_result",
          "data": {
            "text/plain": [
              "0.999718771389402"
            ]
          },
          "metadata": {},
          "execution_count": 64
        }
      ]
    },
    {
      "cell_type": "code",
      "source": [
        "mean_absolute_error(y_test, y_pred)"
      ],
      "metadata": {
        "colab": {
          "base_uri": "https://localhost:8080/"
        },
        "id": "eU0vtkLjMATG",
        "outputId": "db641730-4432-4ba6-b524-b75ba204e8f8"
      },
      "execution_count": 65,
      "outputs": [
        {
          "output_type": "execute_result",
          "data": {
            "text/plain": [
              "1.3810625943988948"
            ]
          },
          "metadata": {},
          "execution_count": 65
        }
      ]
    },
    {
      "cell_type": "code",
      "source": [
        "mean_squared_error(y_test, y_pred)"
      ],
      "metadata": {
        "colab": {
          "base_uri": "https://localhost:8080/"
        },
        "id": "VPEgWYp3MAWU",
        "outputId": "e29928c8-0b35-4f45-ef6f-cb428df656d2"
      },
      "execution_count": 66,
      "outputs": [
        {
          "output_type": "execute_result",
          "data": {
            "text/plain": [
              "4.354106675870862"
            ]
          },
          "metadata": {},
          "execution_count": 66
        }
      ]
    },
    {
      "cell_type": "code",
      "source": [
        "np.sqrt(mean_squared_error(y_test, y_pred))"
      ],
      "metadata": {
        "colab": {
          "base_uri": "https://localhost:8080/"
        },
        "id": "jSWgW9-GMAZk",
        "outputId": "54cb88d0-a429-44bf-d825-0b67e8d9f6fd"
      },
      "execution_count": 67,
      "outputs": [
        {
          "output_type": "execute_result",
          "data": {
            "text/plain": [
              "2.0866496293989707"
            ]
          },
          "metadata": {},
          "execution_count": 67
        }
      ]
    },
    {
      "cell_type": "code",
      "source": [
        "plt.scatter(y_test, y_pred)\n",
        "plt.xlabel('Actual Closing Price')\n",
        "plt.ylabel('Predicted Closing Price')\n",
        "plt.grid()\n",
        "plt.plot([min(y_test), max(y_pred)], [min(y_pred), max(y_pred)], color = 'Red')\n",
        "plt.title('Actual Closing v/s Predicted Closing')"
      ],
      "metadata": {
        "colab": {
          "base_uri": "https://localhost:8080/",
          "height": 312
        },
        "id": "fDloByPTMAcy",
        "outputId": "b67c91e7-8c26-4437-e7f9-8f0dea7a2be8"
      },
      "execution_count": 70,
      "outputs": [
        {
          "output_type": "execute_result",
          "data": {
            "text/plain": [
              "Text(0.5, 1.0, 'Actual Closing v/s Predicted Closing')"
            ]
          },
          "metadata": {},
          "execution_count": 70
        },
        {
          "output_type": "display_data",
          "data": {
            "text/plain": [
              "<Figure size 432x288 with 1 Axes>"
            ],
            "image/png": "[encoded data removed]"
          },
          "metadata": {
            "needs_background": "light"
          }
        }
      ]
    }
  ]
}