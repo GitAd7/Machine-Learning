{
  "nbformat": 4,
  "nbformat_minor": 0,
  "metadata": {
    "colab": {
      "provenance": []
    },
    "kernelspec": {
      "name": "python3",
      "display_name": "Python 3"
    },
    "language_info": {
      "name": "python"
    }
  },
  "cells": [
    {
      "cell_type": "code",
      "execution_count": 1,
      "metadata": {
        "colab": {
          "base_uri": "https://localhost:8080/"
        },
        "id": "-O6qu50IiVtL",
        "outputId": "a79778af-bc91-48e0-b243-d6882c0e2fd4"
      },
      "outputs": [
        {
          "output_type": "stream",
          "name": "stdout",
          "text": [
            "Requirement already satisfied: opencv-python in /usr/local/lib/python3.10/dist-packages (4.8.0.76)\n",
            "Requirement already satisfied: numpy>=1.21.2 in /usr/local/lib/python3.10/dist-packages (from opencv-python) (1.23.5)\n",
            "Requirement already satisfied: imutils in /usr/local/lib/python3.10/dist-packages (0.5.4)\n"
          ]
        }
      ],
      "source": [
        "!pip install opencv-python\n",
        "!pip install imutils"
      ]
    },
    {
      "cell_type": "code",
      "source": [
        "import cv2 # for working on images\n",
        "import numpy as np # images are stored in numpy array\n",
        "import imutils # for image processing\n",
        "import argparse # giving input in command line"
      ],
      "metadata": {
        "id": "j8U-7Vcdiho8"
      },
      "execution_count": 2,
      "outputs": []
    },
    {
      "cell_type": "code",
      "source": [
        "HOGCV = cv2.HOGDescriptor()\n",
        "\n",
        "HOGCV.setSVMDetector(cv2.HOGDescriptor_getDefaultPeopleDetector())"
      ],
      "metadata": {
        "id": "bcLjVzu6ihrf"
      },
      "execution_count": 4,
      "outputs": []
    },
    {
      "cell_type": "code",
      "source": [
        "def detect(frame):\n",
        "  bounding_box_cordinates, weights = HOGCV.detectMultiScale(frame, winStride = (4,4), padding=(8,8), scale=1.03)\n",
        "  person = 1\n",
        "  for x,y,w,h in bounding_box_cordinates:\n",
        "    cv2.rectangle(frame, (x,y), (x+w,y+h), (0,255,0), 2)\n",
        "    cv2.putText(frame, f'person{person}', (x,y), cv2.FONT_HERSHEY_SIMPLEX, 0.5, (0,0,255), 2)\n",
        "    person += 1\n",
        "\n",
        "    cv2.putText(frame, 'Status: Detecting', (40,40), cv2.FONT_HERSHEY_DUPLEX, 0.8, (255,0,0), 2)\n",
        "    cv2.putText(frame, f'Total Person : {person-1}', (40,70), cv2.FONT_HERSHEY_DUPLEX, 0.8, (255,0,0),2 )\n",
        "    cv2.imshow('output', frame)\n",
        "\n",
        "    return frame"
      ],
      "metadata": {
        "id": "5L1iTJtQihtz"
      },
      "execution_count": 5,
      "outputs": []
    },
    {
      "cell_type": "code",
      "source": [
        "def humanDetector(args):\n",
        "  img_path = args[\"image\"]\n",
        "  vid_path = args[\"Video\"]\n",
        "  if str(args[\"Camera\"]) == 'true' : Camera = True\n",
        "  else: Camera = False\n",
        "\n",
        "  writer = None\n",
        "  if args['output'] is not None and img_path is None:\n",
        "    writer = cv2.VideoWriter(args['output'], cv2.VideoWriter_fourcc(*'MJPG'), 10, (600, 600))\n",
        "\n",
        "  if Camera:\n",
        "        print('[INFO] Opening Web Cam.')\n",
        "        detectByCamera(ouput_path,writer)\n",
        "  elif vid_path is not None:\n",
        "        print('[INFO] Opening Video from path.')\n",
        "        detectByPathVideo(vid_path, writer)\n",
        "  elif img_path is not None:\n",
        "        print('[INFO] Opening Image from path.')\n",
        "        detectByPathImage(img_path, args['output'])"
      ],
      "metadata": {
        "id": "xKYl79A9ihwW"
      },
      "execution_count": 6,
      "outputs": []
    },
    {
      "cell_type": "code",
      "source": [
        "def detectByCamera(writer):   # Function to detedct by camera\n",
        "    video = cv2.VideoCapture(0)\n",
        "    print('Detecting people...')\n",
        "\n",
        "    while True:\n",
        "        check, frame = video.read()\n",
        "\n",
        "        frame = detect(frame)\n",
        "        if writer is not None:\n",
        "            writer.write(frame)\n",
        "\n",
        "        key = cv2.waitKey(1)\n",
        "        if key == ord('q'):\n",
        "            break\n",
        "\n",
        "    video.release()\n",
        "    cv2.destroyAllWindows()"
      ],
      "metadata": {
        "id": "BRrGyEyVihyy"
      },
      "execution_count": 7,
      "outputs": []
    },
    {
      "cell_type": "code",
      "source": [
        "def detectByPathVideo(path, writer): # Function to detect through video\n",
        "\n",
        "    video = cv2.VideoCapture(path)\n",
        "    check, frame = video.read()\n",
        "    if check == False:\n",
        "        print('Video Not Found. Please Enter a Valid Path (Full path of Video Should be Provided).')\n",
        "        return\n",
        "\n",
        "    print('Detecting people...')\n",
        "    while video.isOpened():\n",
        "        #check is True if reading was successful\n",
        "        check, frame =  video.read()\n",
        "\n",
        "        if check:\n",
        "            frame = imutils.resize(frame , width=min(800,frame.shape[1]))\n",
        "            frame = detect(frame)\n",
        "\n",
        "            if writer is not None:\n",
        "                writer.write(frame)\n",
        "\n",
        "            key = cv2.waitKey(1)\n",
        "            if key== ord('q'):\n",
        "                break\n",
        "        else:\n",
        "            break\n",
        "    video.release()\n",
        "    cv2.destroyAllWindows()\n",
        "\n",
        "def detectByCamera(writer):\n",
        "    video = cv2.VideoCapture(0)\n",
        "    print('Detecting people...')\n",
        "\n",
        "    while True:\n",
        "        check, frame = video.read()\n",
        "\n",
        "        frame = detect(frame)\n",
        "        if writer is not None:\n",
        "            writer.write(frame)\n",
        "\n",
        "        key = cv2.waitKey(1)\n",
        "        if key == ord('q'):\n",
        "                break\n",
        "\n",
        "    video.release()\n",
        "    cv2.destroyAllWindows()"
      ],
      "metadata": {
        "id": "A4bnNf-Wih1G"
      },
      "execution_count": 8,
      "outputs": []
    },
    {
      "cell_type": "code",
      "source": [
        "def detectByPathImage(path, output_path): # Function to detect through images\n",
        "    image = cv2.imread(path)\n",
        "\n",
        "    image = imutils.resize(image, width = min(800, image.shape[1]))\n",
        "\n",
        "    result_image = detect(image)\n",
        "\n",
        "    if output_path is not None:\n",
        "        cv2.imwrite(output_path, result_image)\n",
        "\n",
        "    cv2.waitKey(0)\n",
        "    cv2.destroyAllWindows()"
      ],
      "metadata": {
        "id": "zbytNF0gih3k"
      },
      "execution_count": 9,
      "outputs": []
    },
    {
      "cell_type": "code",
      "source": [
        "def argsParser(): # to pass the file\n",
        "    arg_parse = argparse.ArgumentParser()\n",
        "    arg_parse.add_argument(\"-v\", \"--video\", default=None, help=\"path to Video File \")\n",
        "    arg_parse.add_argument(\"-i\", \"--image\", default=None, help=\"path to Image File \")\n",
        "    arg_parse.add_argument(\"-c\", \"--camera\", default=True, help=\"Set true if you want to use the camera.\")\n",
        "    arg_parse.add_argument(\"-o\", \"--output\", type=str, help=\"path to optional output video file\")\n",
        "    args = vars(arg_parse.parse_args())\n",
        "\n",
        "    return args"
      ],
      "metadata": {
        "id": "asNPuQi-ih59"
      },
      "execution_count": 12,
      "outputs": []
    },
    {
      "cell_type": "code",
      "source": [
        "if __name__ == \"__main__\":\n",
        "    HOGCV = cv2.HOGDescriptor()\n",
        "    HOGCV.setSVMDetector(cv2.HOGDescriptor_getDefaultPeopleDetector())\n",
        "\n",
        "    args = argsParser()\n",
        "    humanDetector(args)"
      ],
      "metadata": {
        "id": "ggo64KNWih8h"
      },
      "execution_count": null,
      "outputs": []
    }
  ]
}